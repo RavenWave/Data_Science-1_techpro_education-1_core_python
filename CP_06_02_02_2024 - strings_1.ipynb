{
 "cells": [
  {
   "cell_type": "markdown",
   "metadata": {},
   "source": [
    "# **SESSION_6: STRINGS_1**"
   ]
  },
  {
   "cell_type": "markdown",
   "metadata": {},
   "source": [
    ">> 🚧 immutable --> Değiştirilemez. (Bir string'e yeniden bir atama yapılana kadar değiştirilemezler.)\n",
    "\n",
    ">> 🚧 iterable --> Bir stringin her bir karakterine ayrı ayrı ulaşılabilir olmasıdır. Yani itering edilebilir olmasıdır. (for düşünülebilir)"
   ]
  },
  {
   "cell_type": "markdown",
   "metadata": {},
   "source": [
    "> #### **6.1. Indexing & Slicing**"
   ]
  },
  {
   "cell_type": "code",
   "execution_count": 22,
   "metadata": {},
   "outputs": [
    {
     "name": "stdout",
     "output_type": "stream",
     "text": [
      "T\n",
      "r\n",
      "n\n",
      "n\n",
      "T\n"
     ]
    }
   ],
   "source": [
    "# Indexleme sıfırdan başlar. Aşağıdaki stringin sıfırncı indexi \"T\" harfidir. Birinci indexi ise \"e\" harfidir. Sondan başlayacak olursak da -1 ile başlar. Aşağıdaki string'in -1 inci karakteri \"n\" harfidir.\n",
    "name = \"Techpro Education\" \n",
    "print(name[0])\n",
    "print(name[5])\n",
    "print(name[16])\n",
    "print(name[-1])\n",
    "print(name[-17])"
   ]
  },
  {
   "cell_type": "code",
   "execution_count": 30,
   "metadata": {},
   "outputs": [
    {
     "name": "stdout",
     "output_type": "stream",
     "text": [
      "TechproEducation\n",
      "TechproTechproTechpro\n",
      "3333\n"
     ]
    }
   ],
   "source": [
    "# Stringlerde \"+\" işlemi concat ya concatinate yapar ve \"*\" işlemi ile stringi çoğaltabiliriz tekrarlı şekilde.\n",
    "\n",
    "print(\"Techpro\" + \"Education\")  # iki string arasında (çıkarma işlemi yoktur)\n",
    "print(\"Techpro\" * 3)            # string ile integer arasında (float olmaz)\n",
    "print(\"3\" * 4)                  # 4 adet \"3\" yan yana yazıldı"
   ]
  },
  {
   "cell_type": "code",
   "execution_count": 47,
   "metadata": {},
   "outputs": [
    {
     "name": "stdout",
     "output_type": "stream",
     "text": [
      "Techpro Education\n",
      "pro\n",
      "pro\n",
      "Education\n",
      "Euain\n",
      "Th\n",
      "Th\n",
      "Thodao\n",
      "tcpo\n",
      "tho\n",
      "tho\n"
     ]
    }
   ],
   "source": [
    "# string içerisinde bellli bir bölümü iki şekilde yapabiliriz yazdırabiliriz:\n",
    "print(name)\n",
    "print(name[4] + name[5] + name[6])\n",
    "print(name[4:7])                     # Bu işleme SLICING deniyor. Son karakter dahil değildir. 4 ile başlar ama 7 ile bitmez, bir öncekiyle biter.\n",
    "print(name[8:17])\n",
    "print(name[8:17:2])\n",
    "print(name[0:6:3])\n",
    "print(name[:6:3])                    # \"start\" kısmına hiçbir şey yazmazsak ilk karakteri alır.\n",
    "print(name[::3])                     # \"stop\" kısmına hiçbir şey yazmazsak son karakteri alır.\n",
    "print(\"techpro\"[::2])                # sıfırnıcıyı aldım, ardından bir karakter atlayıp 2.yi aldım\n",
    "print(\"techpro\"[::3])                # sıfırıncıyı aldım, ardından iki karakter atlayıp 3.yü aldım\n",
    "print(\"techprom\"[::3])"
   ]
  },
  {
   "cell_type": "code",
   "execution_count": 52,
   "metadata": {},
   "outputs": [
    {
     "name": "stdout",
     "output_type": "stream",
     "text": [
      "tho\n",
      "noitacude orphcet\n",
      "niaueopct\n"
     ]
    }
   ],
   "source": [
    "print(\"techpro education\"[:9:3])\n",
    "print(\"techpro education\"[::-1])           # tersten yazdırır.\n",
    "print(\"techpro education\"[::-2])"
   ]
  },
  {
   "cell_type": "code",
   "execution_count": 63,
   "metadata": {},
   "outputs": [
    {
     "name": "stdout",
     "output_type": "stream",
     "text": [
      "\n",
      "rphc\n",
      "\n"
     ]
    },
    {
     "data": {
      "text/plain": [
       "'loe'"
      ]
     },
     "execution_count": 63,
     "metadata": {},
     "output_type": "execute_result"
    }
   ],
   "source": [
    "print(\"techpro\"[1:5:-1])            # \"step\" adımında eksi ifade varsa, sondan başa doğru git demek oluyor bu. Ama \"start\" ve \"stop\" noktalarımız değişmiyor. O yüzden \"step\" eksi ifade ise;\n",
    "# start noktamız stop noktamızdan büyük olmak zorunda. Bu örnekte start = 1, stop = 5, step = -1 'dir. Ancak 1'den başlayan bir şey 5'e doğru eksilerek devam edemez. O yüzden boş string döndürür.\n",
    "print(\"techpro\"[5:1:-1])            # start = 5, stop = 1, step = -1 --> 5 den başlayan bir şey 1'e doğru eksilerek devam edebilir.\n",
    "print(\"techpro\"[5:1])               # start = 5, stop = 1, step =1   --> 5'den başlayan bir şey 1 de doğru artarak gidemez. O yüzden boş string döndürür.\n",
    "\"Dülgeroğlu\"[2:8:-2]                # start = 2, stop = 8, step = -2 --> 2 den bağşlayıp 8e doğru eksilerek gidilemez.\n",
    "\"Dülgeroğlu\"[8:2:-2]                # start = 8, stop = 2, step = -2 --> 8 den başlayan bir şey 2'ye doğru eksilerek devam edebilir."
   ]
  },
  {
   "cell_type": "code",
   "execution_count": 65,
   "metadata": {},
   "outputs": [
    {
     "data": {
      "text/plain": [
       "''"
      ]
     },
     "execution_count": 65,
     "metadata": {},
     "output_type": "execute_result"
    }
   ],
   "source": [
    "\"tehpro\"[1:1]           # Boş string döndürür."
   ]
  },
  {
   "cell_type": "code",
   "execution_count": 66,
   "metadata": {},
   "outputs": [
    {
     "data": {
      "text/plain": [
       "'chpr'"
      ]
     },
     "execution_count": 66,
     "metadata": {},
     "output_type": "execute_result"
    }
   ],
   "source": [
    "name[2:6]"
   ]
  },
  {
   "cell_type": "markdown",
   "metadata": {},
   "source": [
    "> #### **6.2. String Methods**\n",
    "\n",
    ">> string bir ifadeyi yazdıktan sonra \".\" koyarsak, ardından yapılabilecek tüm **fonksiyonlara** bize method olarak gelir."
   ]
  },
  {
   "cell_type": "code",
   "execution_count": 70,
   "metadata": {},
   "outputs": [
    {
     "name": "stdout",
     "output_type": "stream",
     "text": [
      "TECHPRO\n",
      "techpro\n"
     ]
    }
   ],
   "source": [
    "print(\"techpro\".upper())        # büyük harfe çevirir\n",
    "print(\"TECHPRO\".lower())        # küçük harfe çevirir \n"
   ]
  },
  {
   "cell_type": "code",
   "execution_count": 75,
   "metadata": {},
   "outputs": [
    {
     "data": {
      "text/plain": [
       "'tECHPRO'"
      ]
     },
     "execution_count": 75,
     "metadata": {},
     "output_type": "execute_result"
    }
   ],
   "source": [
    "name = \"Techpro\"\n",
    "name.swapcase()                 # küçükleri büyük, büyükleri küçük harfe çevirir."
   ]
  },
  {
   "cell_type": "code",
   "execution_count": 76,
   "metadata": {},
   "outputs": [
    {
     "name": "stdout",
     "output_type": "stream",
     "text": [
      "sedat\n",
      "techpro\n"
     ]
    }
   ],
   "source": [
    "# lower()\n",
    "print(\"SeDat\".lower())\n",
    "print(name.lower())"
   ]
  },
  {
   "cell_type": "code",
   "execution_count": 81,
   "metadata": {},
   "outputs": [
    {
     "name": "stdout",
     "output_type": "stream",
     "text": [
      "TECHPRO EDUCATION\n",
      "emRe\n"
     ]
    }
   ],
   "source": [
    "# upper()\n",
    "print(\"Techpro Education\".upper())\n",
    "print(\"emre\"[0:2] + \"emre\"[2].upper() + \"emre\"[-1])"
   ]
  },
  {
   "cell_type": "code",
   "execution_count": 85,
   "metadata": {},
   "outputs": [
    {
     "name": "stdout",
     "output_type": "stream",
     "text": [
      "Techpro\n",
      "Capitalize bir cümlenin ilk harfini büyük yapar\n",
      "Techpro education.\n"
     ]
    }
   ],
   "source": [
    "# capitalize() --> sadece ilk kelimenin ilk harfi büyük yapar\n",
    "print(\"techpro\".capitalize())\n",
    "print(\"capitalize bir cümlenin ilk harfini büyük yapar\".capitalize())\n",
    "# dipnot:\n",
    "print(\"techpro EDUcatiOn\".capitalize())         # ilk harfi büyüttüğü gibi geri kalanı küçültür tamamen."
   ]
  },
  {
   "cell_type": "code",
   "execution_count": 86,
   "metadata": {},
   "outputs": [
    {
     "name": "stdout",
     "output_type": "stream",
     "text": [
      "Title Her Cümlenin Ilk Harfini Büyük Yapar\n",
      "Techpro Education\n"
     ]
    }
   ],
   "source": [
    "# title() --> her kelimenin ilk harfini büyük yapar\n",
    "print(\"title her cümlenin ilk harfini büyük yapar\".title())\n",
    "print(\"techpro EDUcatiOn\".title())          # her kelimenin ilk harfini büyüttüğü gibi kelimelerin geri kalanını da küçültür."
   ]
  }
 ],
 "metadata": {
  "kernelspec": {
   "display_name": "Python 3",
   "language": "python",
   "name": "python3"
  },
  "language_info": {
   "codemirror_mode": {
    "name": "ipython",
    "version": 3
   },
   "file_extension": ".py",
   "mimetype": "text/x-python",
   "name": "python",
   "nbconvert_exporter": "python",
   "pygments_lexer": "ipython3",
   "version": "3.9.13"
  }
 },
 "nbformat": 4,
 "nbformat_minor": 2
}
