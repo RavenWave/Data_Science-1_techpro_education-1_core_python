{
 "cells": [
  {
   "cell_type": "markdown",
   "metadata": {},
   "source": [
    "# **SESSION_16: FOR**"
   ]
  },
  {
   "cell_type": "code",
   "execution_count": 2,
   "metadata": {},
   "outputs": [
    {
     "name": "stdout",
     "output_type": "stream",
     "text": [
      "t\n",
      "e\n",
      "c\n",
      "h\n",
      "p\n",
      "r\n",
      "o\n"
     ]
    }
   ],
   "source": [
    "for i in \"techpro\":\n",
    "    print(i)\n",
    "\n",
    "# NOT1: for döngüsü iterable elemanlarla çalışır. Ve iterable olan elemanın elemanlarını teker teker i değişkenine atar. Döngü her bittiğinde, i bir sonraki elemana geçer"
   ]
  },
  {
   "cell_type": "code",
   "execution_count": 3,
   "metadata": {},
   "outputs": [
    {
     "name": "stdout",
     "output_type": "stream",
     "text": [
      "t - tt\n",
      "e - ee\n",
      "c - cc\n",
      "h - hh\n",
      "p - pp\n",
      "r - rr\n",
      "o - oo\n"
     ]
    }
   ],
   "source": [
    "for i in \"techpro\":\n",
    "    print(i, \"-\", i * 2)"
   ]
  },
  {
   "cell_type": "code",
   "execution_count": 5,
   "metadata": {},
   "outputs": [
    {
     "name": "stdout",
     "output_type": "stream",
     "text": [
      "t - tt\n",
      "e - ee\n",
      "c - cc\n",
      "h - hh\n",
      "p - pp\n",
      "r - rr\n",
      "o - oo\n"
     ]
    }
   ],
   "source": [
    "# i yerine istediğimiz herhangi bir şey koyabiliriz:\n",
    "\n",
    "for k in \"techpro\":\n",
    "    print(k, \"-\", k * 2)"
   ]
  },
  {
   "cell_type": "code",
   "execution_count": 11,
   "metadata": {},
   "outputs": [
    {
     "name": "stdout",
     "output_type": "stream",
     "text": [
      "1\n",
      "4\n",
      "9\n",
      "16\n",
      "25\n"
     ]
    }
   ],
   "source": [
    "liste_2 = [1, 2, 3, 4, 5]\n",
    "\n",
    "for i in liste_2:\n",
    "    print(i ** 2)"
   ]
  },
  {
   "cell_type": "code",
   "execution_count": 17,
   "metadata": {},
   "outputs": [
    {
     "name": "stdout",
     "output_type": "stream",
     "text": [
      "1 sayısının karesi 1 | 2 sayısının karesi 4 | 3 sayısının karesi 9 | 4 sayısının karesi 16 | 5 sayısının karesi 25 | "
     ]
    }
   ],
   "source": [
    "for i in (1, 2, 3, 4, 5):\n",
    "    print(f\"{i} sayısının karesi {i ** 2}\", end=\" | \")"
   ]
  },
  {
   "cell_type": "code",
   "execution_count": 14,
   "metadata": {},
   "outputs": [
    {
     "ename": "TypeError",
     "evalue": "'int' object is not iterable",
     "output_type": "error",
     "traceback": [
      "\u001b[1;31m---------------------------------------------------------------------------\u001b[0m",
      "\u001b[1;31mTypeError\u001b[0m                                 Traceback (most recent call last)",
      "Cell \u001b[1;32mIn[14], line 1\u001b[0m\n\u001b[1;32m----> 1\u001b[0m \u001b[38;5;28;01mfor\u001b[39;00m i \u001b[38;5;129;01min\u001b[39;00m \u001b[38;5;241m1543\u001b[39m:      \u001b[38;5;66;03m# integer'lar iterable olmadığı için hata verir\u001b[39;00m\n\u001b[0;32m      2\u001b[0m     \u001b[38;5;28mprint\u001b[39m(i)\n",
      "\u001b[1;31mTypeError\u001b[0m: 'int' object is not iterable"
     ]
    }
   ],
   "source": [
    "for i in 1543:      # integer'lar iterable olmadığı için hata verir\n",
    "    print(i)"
   ]
  },
  {
   "cell_type": "code",
   "execution_count": 18,
   "metadata": {},
   "outputs": [],
   "source": [
    "isimler_listesi = ['irem', 'emre', 'ceren', 'erkin']"
   ]
  },
  {
   "cell_type": "code",
   "execution_count": 19,
   "metadata": {},
   "outputs": [
    {
     "name": "stdout",
     "output_type": "stream",
     "text": [
      "Irem\n",
      "Emre\n",
      "Ceren\n",
      "Erkin\n"
     ]
    }
   ],
   "source": [
    "for i in isimler_listesi:\n",
    "    print(i.capitalize())"
   ]
  },
  {
   "cell_type": "code",
   "execution_count": 20,
   "metadata": {},
   "outputs": [
    {
     "data": {
      "text/plain": [
       "'T-e-c-h-p-r-o'"
      ]
     },
     "execution_count": 20,
     "metadata": {},
     "output_type": "execute_result"
    }
   ],
   "source": [
    "\"Techpro\"\n",
    "\"T-e-c-h-p-r-o\""
   ]
  },
  {
   "cell_type": "code",
   "execution_count": 27,
   "metadata": {},
   "outputs": [
    {
     "name": "stdout",
     "output_type": "stream",
     "text": [
      "T-e-c-h-p-r-o-"
     ]
    }
   ],
   "source": [
    "# aşağıdaki ilk akla gelebilecek çözümdür\n",
    "\n",
    "for i in \"Techpro\":\n",
    "    print(i, end=\"-\")"
   ]
  },
  {
   "cell_type": "markdown",
   "metadata": {},
   "source": [
    "    💯 Güzel bir örnek. "
   ]
  },
  {
   "cell_type": "code",
   "execution_count": 32,
   "metadata": {},
   "outputs": [
    {
     "data": {
      "text/plain": [
       "'T-e-c-h-p-r-o'"
      ]
     },
     "execution_count": 32,
     "metadata": {},
     "output_type": "execute_result"
    }
   ],
   "source": [
    "empty_str = \"\"          # string'ler toplama işlemlerini concat eder yani birleştirerek devam eder\n",
    "\n",
    "for i in \"Techpro\":\n",
    "    empty_str += i + \"-\"\n",
    "    \n",
    "empty_str.rstrip(\"-\")"
   ]
  },
  {
   "cell_type": "code",
   "execution_count": 33,
   "metadata": {},
   "outputs": [
    {
     "data": {
      "text/plain": [
       "{'name': 'dilek', 'age': 26, 'job': 'data_scientist'}"
      ]
     },
     "execution_count": 33,
     "metadata": {},
     "output_type": "execute_result"
    }
   ],
   "source": [
    "dict_1 = {'name': \"dilek\", \"age\": 26, \"job\": \"data_scientist\"}\n",
    "dict_1"
   ]
  },
  {
   "cell_type": "code",
   "execution_count": 35,
   "metadata": {},
   "outputs": [
    {
     "name": "stdout",
     "output_type": "stream",
     "text": [
      "name\n",
      "age\n",
      "job\n"
     ]
    }
   ],
   "source": [
    "# bir dictionary'i for döngüsünde kullanırsem key'leri kullanmış olurum\n",
    "\n",
    "for i in dict_1:\n",
    "    print(i)"
   ]
  },
  {
   "cell_type": "code",
   "execution_count": 36,
   "metadata": {},
   "outputs": [
    {
     "name": "stdout",
     "output_type": "stream",
     "text": [
      "dilek\n",
      "26\n",
      "data_scientist\n"
     ]
    }
   ],
   "source": [
    "for i in dict_1.values():\n",
    "    print(i)"
   ]
  },
  {
   "cell_type": "code",
   "execution_count": 37,
   "metadata": {},
   "outputs": [
    {
     "name": "stdout",
     "output_type": "stream",
     "text": [
      "('name', 'dilek')\n",
      "('age', 26)\n",
      "('job', 'data_scientist')\n"
     ]
    }
   ],
   "source": [
    "for i in dict_1.items():\n",
    "    print(i)"
   ]
  },
  {
   "cell_type": "code",
   "execution_count": 39,
   "metadata": {},
   "outputs": [
    {
     "name": "stdout",
     "output_type": "stream",
     "text": [
      "name**dilek\n",
      "age**26\n",
      "job**data_scientist\n"
     ]
    }
   ],
   "source": [
    "for i, j in dict_1.items():     # çok önemli: dict.items() ile çalışırken hem key hem de value'ları işin içine katmış oluruz.\n",
    "    print(i, j, sep=\"**\")\n"
   ]
  },
  {
   "cell_type": "code",
   "execution_count": 40,
   "metadata": {},
   "outputs": [
    {
     "name": "stdout",
     "output_type": "stream",
     "text": [
      "key: name, value: dilek\n",
      "key: age, value: 26\n",
      "key: job, value: data_scientist\n"
     ]
    }
   ],
   "source": [
    "for i, j in dict_1.items():     # çok önemli: dict.items() ile çalışırken hem key hem de value'ları işin içine katmış oluruz.\n",
    "    print(f\"key: {i}, value: {j}\")"
   ]
  },
  {
   "cell_type": "code",
   "execution_count": 43,
   "metadata": {},
   "outputs": [
    {
     "data": {
      "text/plain": [
       "{'name': 'dilek', 'surname': 'yılmaz', 'age': 26, 'job': 'data_scientist'}"
      ]
     },
     "execution_count": 43,
     "metadata": {},
     "output_type": "execute_result"
    }
   ],
   "source": [
    "dict_2 = {'name': \"dilek\", 'surname': 'yılmaz', \"age\": 26, \"job\": \"data_scientist\"}\n",
    "dict_2"
   ]
  },
  {
   "cell_type": "code",
   "execution_count": 44,
   "metadata": {},
   "outputs": [
    {
     "name": "stdout",
     "output_type": "stream",
     "text": [
      "key: name, value: dilek\n",
      "key: surname, value: yılmaz\n",
      "key: age, value: 26\n",
      "key: job, value: data_scientist\n"
     ]
    }
   ],
   "source": [
    "for i, j in dict_2.items():     # çok önemli: dict.items() ile çalışırken hem key hem de value'ları işin içine katmış oluruz.\n",
    "    print(f\"key: {i}, value: {j}\")"
   ]
  },
  {
   "cell_type": "markdown",
   "metadata": {},
   "source": [
    "    AŞAĞIDAKİ ÇOK ÇOK ÇOK ÖNEMLİ BENİM İÇİN:"
   ]
  },
  {
   "cell_type": "code",
   "execution_count": 47,
   "metadata": {},
   "outputs": [
    {
     "name": "stdout",
     "output_type": "stream",
     "text": [
      "key: name      , value: dilek\n",
      "key: surname   , value: yılmaz\n",
      "key: age       , value: 26\n",
      "key: job       , value: data_scientist\n"
     ]
    }
   ],
   "source": [
    "for i, j in dict_2.items():     # çok önemli: dict.items() ile çalışırken hem key hem de value'ları işin içine katmış oluruz.\n",
    "    print(f\"key: {i:<10}, value: {j}\")      # 10 karakterlik bir boşluk aç ve sola yasla"
   ]
  },
  {
   "cell_type": "code",
   "execution_count": 48,
   "metadata": {},
   "outputs": [
    {
     "name": "stdout",
     "output_type": "stream",
     "text": [
      "key:       name, value: dilek\n",
      "key:    surname, value: yılmaz\n",
      "key:        age, value: 26\n",
      "key:        job, value: data_scientist\n"
     ]
    }
   ],
   "source": [
    "for i, j in dict_2.items():     # çok önemli: dict.items() ile çalışırken hem key hem de value'ları işin içine katmış oluruz.\n",
    "    print(f\"key: {i:>10}, value: {j}\")      # 10 karakterlik bir boşluk aç ve sağa yasla"
   ]
  },
  {
   "cell_type": "code",
   "execution_count": 49,
   "metadata": {},
   "outputs": [
    {
     "name": "stdout",
     "output_type": "stream",
     "text": [
      "key:       name, value:      dilek     \n",
      "key:    surname, value:     yılmaz     \n",
      "key:        age, value:       26       \n",
      "key:        job, value: data_scientist \n"
     ]
    }
   ],
   "source": [
    "for i, j in dict_2.items():     # çok önemli: dict.items() ile çalışırken hem key hem de value'ları işin içine katmış oluruz.\n",
    "    print(f\"key: {i:>10}, value: {j:^15}\")      # 15 karakter açıp içine yazı oratlar"
   ]
  },
  {
   "cell_type": "code",
   "execution_count": 50,
   "metadata": {},
   "outputs": [
    {
     "ename": "TypeError",
     "evalue": "'bool' object is not iterable",
     "output_type": "error",
     "traceback": [
      "\u001b[1;31m---------------------------------------------------------------------------\u001b[0m",
      "\u001b[1;31mTypeError\u001b[0m                                 Traceback (most recent call last)",
      "Cell \u001b[1;32mIn[50], line 1\u001b[0m\n\u001b[1;32m----> 1\u001b[0m \u001b[38;5;28;01mfor\u001b[39;00m i \u001b[38;5;129;01min\u001b[39;00m \u001b[38;5;28;01mTrue\u001b[39;00m:      \u001b[38;5;66;03m# boolean'lar iterable değildir o yüzden hata alırız\u001b[39;00m\n\u001b[0;32m      2\u001b[0m     \u001b[38;5;28mprint\u001b[39m(i)    \n",
      "\u001b[1;31mTypeError\u001b[0m: 'bool' object is not iterable"
     ]
    }
   ],
   "source": [
    "for i in True:      # boolean'lar iterable değildir o yüzden hata alırız\n",
    "    print(i)    "
   ]
  },
  {
   "cell_type": "code",
   "execution_count": 53,
   "metadata": {},
   "outputs": [
    {
     "ename": "SyntaxError",
     "evalue": "invalid syntax (424509916.py, line 6)",
     "output_type": "error",
     "traceback": [
      "\u001b[1;36m  Cell \u001b[1;32mIn[53], line 6\u001b[1;36m\u001b[0m\n\u001b[1;33m    liste./append(i)\u001b[0m\n\u001b[1;37m          ^\u001b[0m\n\u001b[1;31mSyntaxError\u001b[0m\u001b[1;31m:\u001b[0m invalid syntax\n"
     ]
    }
   ],
   "source": [
    "# bir liste ile işlem yaparken o listeye append işlemi yaparsanız sonsuz döngüye girersiniz. Sonsuz döngüye girmemesi için aşağıya bir hata yerleştirdim.\n",
    "\n",
    "liste = [\"sonsuz döngü\"]    \n",
    "for i in liste:\n",
    "    print(i)\n",
    "    liste./append(i)"
   ]
  },
  {
   "cell_type": "code",
   "execution_count": 54,
   "metadata": {},
   "outputs": [
    {
     "data": {
      "text/plain": [
       "'      techpro       '"
      ]
     },
     "execution_count": 54,
     "metadata": {},
     "output_type": "execute_result"
    }
   ],
   "source": [
    "\"techpro\".center(20)"
   ]
  },
  {
   "cell_type": "code",
   "execution_count": 62,
   "metadata": {},
   "outputs": [
    {
     "data": {
      "text/plain": [
       "'             techpro'"
      ]
     },
     "execution_count": 62,
     "metadata": {},
     "output_type": "execute_result"
    }
   ],
   "source": [
    "\"techpro\".rjust(20)"
   ]
  },
  {
   "cell_type": "code",
   "execution_count": 63,
   "metadata": {},
   "outputs": [
    {
     "data": {
      "text/plain": [
       "20"
      ]
     },
     "execution_count": 63,
     "metadata": {},
     "output_type": "execute_result"
    }
   ],
   "source": [
    "len(\"techpro\".rjust(20))"
   ]
  },
  {
   "cell_type": "code",
   "execution_count": 57,
   "metadata": {},
   "outputs": [
    {
     "data": {
      "text/plain": [
       "'techpro             '"
      ]
     },
     "execution_count": 57,
     "metadata": {},
     "output_type": "execute_result"
    }
   ],
   "source": [
    "\"techpro\".ljust(20)"
   ]
  },
  {
   "cell_type": "code",
   "execution_count": 73,
   "metadata": {},
   "outputs": [
    {
     "name": "stdout",
     "output_type": "stream",
     "text": [
      "Hoca bize ceza verdi:   1\n",
      "Hoca bize ceza verdi:   2\n",
      "Hoca bize ceza verdi:   3\n",
      "Hoca bize ceza verdi:   4\n",
      "Hoca bize ceza verdi:   5\n",
      "Hoca bize ceza verdi:   6\n",
      "Hoca bize ceza verdi:   7\n",
      "Hoca bize ceza verdi:   8\n",
      "Hoca bize ceza verdi:   9\n",
      "Hoca bize ceza verdi:  10\n",
      "Hoca bize ceza verdi:  11\n",
      "Hoca bize ceza verdi:  12\n",
      "Hoca bize ceza verdi:  13\n",
      "Hoca bize ceza verdi:  14\n",
      "Hoca bize ceza verdi:  15\n",
      "Hoca bize ceza verdi:  16\n",
      "Hoca bize ceza verdi:  17\n",
      "Hoca bize ceza verdi:  18\n",
      "Hoca bize ceza verdi:  19\n",
      "Hoca bize ceza verdi:  20\n",
      "Hoca bize ceza verdi:  21\n",
      "Hoca bize ceza verdi:  22\n",
      "Hoca bize ceza verdi:  23\n",
      "Hoca bize ceza verdi:  24\n",
      "Hoca bize ceza verdi:  25\n",
      "Hoca bize ceza verdi:  26\n",
      "Hoca bize ceza verdi:  27\n",
      "Hoca bize ceza verdi:  28\n",
      "Hoca bize ceza verdi:  29\n",
      "Hoca bize ceza verdi:  30\n",
      "Hoca bize ceza verdi:  31\n",
      "Hoca bize ceza verdi:  32\n",
      "Hoca bize ceza verdi:  33\n",
      "Hoca bize ceza verdi:  34\n",
      "Hoca bize ceza verdi:  35\n",
      "Hoca bize ceza verdi:  36\n",
      "Hoca bize ceza verdi:  37\n",
      "Hoca bize ceza verdi:  38\n",
      "Hoca bize ceza verdi:  39\n",
      "Hoca bize ceza verdi:  40\n",
      "Hoca bize ceza verdi:  41\n",
      "Hoca bize ceza verdi:  42\n",
      "Hoca bize ceza verdi:  43\n",
      "Hoca bize ceza verdi:  44\n",
      "Hoca bize ceza verdi:  45\n",
      "Hoca bize ceza verdi:  46\n",
      "Hoca bize ceza verdi:  47\n",
      "Hoca bize ceza verdi:  48\n",
      "Hoca bize ceza verdi:  49\n",
      "Hoca bize ceza verdi:  50\n"
     ]
    }
   ],
   "source": [
    "for i in range(1, 51):\n",
    "    print(f\"Hoca bize ceza verdi: {i:>3}\")"
   ]
  },
  {
   "cell_type": "markdown",
   "metadata": {},
   "source": [
    "    Ödev: Kullanıcıdan 1 ve 9 arasında bir sayı isteyin (1 ve 9 dahil). Bu sayının çarpım tablosunu oluşturun.\n",
    "\n",
    "    ÖR: input = 8\n",
    "    8 x 0 = 0\n",
    "    8 x 1 = 8 \n",
    "    ...\n",
    "    8 x 10 = 80"
   ]
  },
  {
   "cell_type": "code",
   "execution_count": 2,
   "metadata": {},
   "outputs": [
    {
     "name": "stdout",
     "output_type": "stream",
     "text": [
      "Yanlış değer girdiniz\n"
     ]
    }
   ],
   "source": [
    "sayı = int(input(\"1 ile 9 arasında bir sayı girin: \"))\n",
    "\n",
    "if sayı in range(1, 10):\n",
    "    for i in range(11):\n",
    "        sonuç = sayı * i\n",
    "        print(f\"{sayı:<2}x{i:>2} = {sonuç:2}\")\n",
    "else:\n",
    "    print(\"Yanlış değer girdiniz\")"
   ]
  },
  {
   "cell_type": "markdown",
   "metadata": {},
   "source": [
    "    Ödev: Kullanıcıdan 1 ve 9 arasında bir sayı isteyin (1 ve 9 dahil). Bu sayının çarpım tablosunu oluşturun. Ancak kullanıcı eğer hatalı bir giriş yaparsa ona tekrarlatın:"
   ]
  },
  {
   "cell_type": "code",
   "execution_count": 4,
   "metadata": {},
   "outputs": [
    {
     "name": "stdout",
     "output_type": "stream",
     "text": [
      "Hatalı giriş yaptınız. Girdiğiniz sayı 1-9 arasında olmalı. Lütfen tekrar giriniz: \n",
      "1 x 0 =  0\n",
      "1 x 1 =  1\n",
      "1 x 2 =  2\n",
      "1 x 3 =  3\n",
      "1 x 4 =  4\n",
      "1 x 5 =  5\n",
      "1 x 6 =  6\n",
      "1 x 7 =  7\n",
      "1 x 8 =  8\n",
      "1 x 9 =  9\n",
      "1 x10 = 10\n"
     ]
    }
   ],
   "source": [
    "# ÇOK GÜZELMİŞ:\n",
    "\n",
    "while True:\n",
    "    sayı = int(input(\"1 ile 9 arasında bir sayı girin: \"))\n",
    "    if sayı in range(1,10):\n",
    "        for i in range(11):\n",
    "            sonuç = sayı * i\n",
    "            print(f\"{sayı:<2}x{i:>2} = {sonuç:2}\")\n",
    "    else: \n",
    "        print(\"Hatalı giriş yaptınız. Girdiğiniz sayı 1-9 arasında olmalı. Lütfen tekrar giriniz: \")\n",
    "        continue\n",
    "    break"
   ]
  },
  {
   "cell_type": "markdown",
   "metadata": {},
   "source": [
    "    NOT: Eğer \"while True:\" ile başladıysak, bu demektir ki biz mutlaka ama mutlaka bir yerlerde break kullanacağız. Ve bu da şartımız gerçekleşir gerçekleşmezdir."
   ]
  },
  {
   "cell_type": "code",
   "execution_count": 6,
   "metadata": {},
   "outputs": [
    {
     "name": "stdout",
     "output_type": "stream",
     "text": [
      "Hatalı giriş yaptınız. Girdiğiniz sayı 1-9 arasında olmalı. Lütfen tekrar giriniz: \n",
      "3 x 0 =  0\n",
      "3 x 1 =  3\n",
      "3 x 2 =  6\n",
      "3 x 3 =  9\n",
      "3 x 4 = 12\n",
      "3 x 5 = 15\n",
      "3 x 6 = 18\n",
      "3 x 7 = 21\n",
      "3 x 8 = 24\n",
      "3 x 9 = 27\n",
      "3 x10 = 30\n"
     ]
    }
   ],
   "source": [
    "# hocanın çözümü:\n",
    "\n",
    "while True:\n",
    "    sayı = int(input(\"1 ile 9 arasında bir sayı girin: \"))\n",
    "    if 1 <= sayı <= 9:\n",
    "        for i in range(1, 11):\n",
    "            sonuç = sayı * i\n",
    "            print(f\"{sayı:<2}x{i:>2} = {sonuç:2}\")\n",
    "        break       # break buraya koyulmalı. Çünkü şartımız sağlanırsa break olsun istiyoruz. Hem burda kullanırsak continue kullanmaya da gerek kalmıyor\n",
    "    else: \n",
    "        print(\"Hatalı giriş yaptınız. Girdiğiniz sayı 1-9 arasında olmalı. Lütfen tekrar giriniz: \")\n",
    "        continue\n",
    "    "
   ]
  },
  {
   "cell_type": "code",
   "execution_count": 8,
   "metadata": {},
   "outputs": [
    {
     "name": "stdout",
     "output_type": "stream",
     "text": [
      "Hatalı giriş yaptınız. Girdiğiniz sayı 1-9 arasında olmalı. Lütfen tekrar giriniz: \n",
      "3 x 1 =  3\n",
      "3 x 2 =  6\n",
      "3 x 3 =  9\n",
      "3 x 4 = 12\n",
      "3 x 5 = 15\n",
      "3 x 6 = 18\n",
      "3 x 7 = 21\n",
      "3 x 8 = 24\n",
      "3 x 9 = 27\n",
      "3 x10 = 30\n"
     ]
    }
   ],
   "source": [
    "# hocanın 2. çözümü:\n",
    "\n",
    "while True:\n",
    "    sayı = int(input(\"1 ile 9 arasında bir sayı girin: \"))\n",
    "    if 1 <= sayı <= 9:\n",
    "        break\n",
    "    else: \n",
    "        print(\"Hatalı giriş yaptınız. Girdiğiniz sayı 1-9 arasında olmalı. Lütfen tekrar giriniz: \")\n",
    "for i in range(1, 11):\n",
    "            sonuç = sayı * i\n",
    "            print(f\"{sayı:<2}x{i:>2} = {sonuç:<2}\")      \n",
    "    "
   ]
  },
  {
   "cell_type": "code",
   "execution_count": 16,
   "metadata": {},
   "outputs": [
    {
     "name": "stdout",
     "output_type": "stream",
     "text": [
      "Hatalı giriş yaptınız. Girdiğiniz sayı 1-9 arasında olmalı. Lütfen tekrar giriniz: \n",
      "1 x 1 =  1\n",
      "1 x 2 =  2\n",
      "1 x 3 =  3\n",
      "1 x 4 =  4\n",
      "1 x 5 =  5\n",
      "1 x 6 =  6\n",
      "1 x 7 =  7\n",
      "1 x 8 =  8\n",
      "1 x 9 =  9\n",
      "1 x10 = 10\n"
     ]
    }
   ],
   "source": [
    "# hocanın 3. çözümü:\n",
    "sayaç = 0\n",
    "while True:\n",
    "    sayı = int(input(\"1 ile 9 arasında bir sayı girin: \"))\n",
    "    sayaç += 1\n",
    "    if 1 <= sayı <= 9:\n",
    "        for i in range(1, 11):\n",
    "            sonuç = sayı * i\n",
    "            print(f\"{sayı:<2}x{i:>2} = {sonuç:>2}\")\n",
    "        break\n",
    "    else: \n",
    "        print(\"Hatalı giriş yaptınız. Girdiğiniz sayı 1-9 arasında olmalı. Lütfen tekrar giriniz: \")\n",
    "    if sayaç ==3:\n",
    "        break\n",
    "\n",
    "    "
   ]
  }
 ],
 "metadata": {
  "kernelspec": {
   "display_name": "Python 3",
   "language": "python",
   "name": "python3"
  },
  "language_info": {
   "codemirror_mode": {
    "name": "ipython",
    "version": 3
   },
   "file_extension": ".py",
   "mimetype": "text/x-python",
   "name": "python",
   "nbconvert_exporter": "python",
   "pygments_lexer": "ipython3",
   "version": "3.9.13"
  }
 },
 "nbformat": 4,
 "nbformat_minor": 2
}
