{
 "cells": [
  {
   "cell_type": "markdown",
   "metadata": {},
   "source": [
    "    Kullanıcıdan alınan bir sayının asal sayı olup olmadığını kontrol eden bir kod yazalım"
   ]
  },
  {
   "cell_type": "code",
   "execution_count": 5,
   "metadata": {},
   "outputs": [
    {
     "name": "stdout",
     "output_type": "stream",
     "text": [
      "711 sayısı asal sayı değildir\n"
     ]
    }
   ],
   "source": [
    "x = int(input('bir sayı girin: '))\n",
    "\n",
    "if x > 1:\n",
    "    count = 0\n",
    "    for i in range(2, x):\n",
    "        if x % i == 0:\n",
    "            count += 1\n",
    "    if count == 0:\n",
    "        print(f\"{x} sayısı asal sayıdır.\")\n",
    "    else:\n",
    "        print(f\"{x} sayısı asal sayı değildir\")\n",
    "else:\n",
    "    print(\"girilen değer 1'den büyük olmalıdır\")"
   ]
  },
  {
   "cell_type": "code",
   "execution_count": 6,
   "metadata": {},
   "outputs": [],
   "source": [
    "def find_prime_number(x):   # 9\n",
    "    \"\"\"Bu fonksiyon sayının asal sayı olup olmadığını tespit eder.\"\"\"\n",
    "    if x > 1:               # True\n",
    "        for i in range(2, x):   # 2\n",
    "            if x % i == 0:  # False\n",
    "                print(\"Sayı asal değildir.\")\n",
    "                break\n",
    "            # else:       \n",
    "            #     return f\"{x} sayısı asal sayıdır\"\n",
    "    else:\n",
    "        return f\"girdiğiniz say {x}. 1 den büyük olmalıdır \""
   ]
  },
  {
   "cell_type": "code",
   "execution_count": 3,
   "metadata": {},
   "outputs": [
    {
     "name": "stdout",
     "output_type": "stream",
     "text": [
      "Sayı asal değildir.\n"
     ]
    },
    {
     "data": {
      "text/plain": [
       "'9 sayısı asal sayıdır'"
      ]
     },
     "execution_count": 3,
     "metadata": {},
     "output_type": "execute_result"
    }
   ],
   "source": [
    "find_prime_number(9)"
   ]
  },
  {
   "cell_type": "code",
   "execution_count": 7,
   "metadata": {},
   "outputs": [],
   "source": [
    "def find_prime_number(x):  \n",
    "    \"\"\"Bu fonksiyon sayının asal sayı olup olmadığını tespit eder.\"\"\"\n",
    "    if x > 1:              \n",
    "        for i in range(2, x):   \n",
    "            if x % i == 0: \n",
    "                print(\"Sayı asal değildir.\")\n",
    "                break\n",
    "        else:                                   # for döngüsündeki break'e ait olan bir else gibi düşünülebilir. (amaç count'ı ortadan kaldırmaktı)\n",
    "            return f\"{x} sayısı asal sayıdır\"\n",
    "    else:\n",
    "        return f\"girdiğiniz say {x}. 1 den büyük olmalıdır \""
   ]
  },
  {
   "cell_type": "code",
   "execution_count": 12,
   "metadata": {},
   "outputs": [
    {
     "name": "stdout",
     "output_type": "stream",
     "text": [
      "Sayı asal değildir.\n"
     ]
    }
   ],
   "source": [
    "find_prime_number(12)"
   ]
  },
  {
   "cell_type": "code",
   "execution_count": 17,
   "metadata": {},
   "outputs": [],
   "source": [
    "def find_prime_number2(x):  \n",
    "    \"\"\"Bu fonksiyon sayının asal sayı olup olmadığını tespit eder.\"\"\"\n",
    "    if x > 1:              \n",
    "        for i in range(2, x):   \n",
    "            if x % i == 0: \n",
    "                break\n",
    "        else:                           \n",
    "            return x\n",
    "    else:\n",
    "        return f\"girdiğiniz say {x}. 1 den büyük olmalıdır \""
   ]
  },
  {
   "cell_type": "code",
   "execution_count": 18,
   "metadata": {},
   "outputs": [
    {
     "data": {
      "text/plain": [
       "11"
      ]
     },
     "execution_count": 18,
     "metadata": {},
     "output_type": "execute_result"
    }
   ],
   "source": [
    "find_prime_number2(11)"
   ]
  },
  {
   "cell_type": "code",
   "execution_count": 21,
   "metadata": {},
   "outputs": [
    {
     "data": {
      "text/plain": [
       "[2, 3, 5, 7]"
      ]
     },
     "execution_count": 21,
     "metadata": {},
     "output_type": "execute_result"
    }
   ],
   "source": [
    "result = []\n",
    "\n",
    "for i in range(2, 10):\n",
    "    if find_prime_number2(i) != None:\n",
    "        result.append(i)\n",
    "result"
   ]
  },
  {
   "cell_type": "code",
   "execution_count": 25,
   "metadata": {},
   "outputs": [],
   "source": [
    "def asal_yazdır(x):\n",
    "    \"\"\"2'den kaça kadar olan sayıların arasındaki asal sayıları yazdırmak istiyorsan x olarak onu belirle. Mesele x=10 derseniz, 2-10 arasındaki asal sayıları yazdırır\"\"\"\n",
    "    result = []\n",
    "    for i in range(2, x):\n",
    "        if find_prime_number2(i) != None:\n",
    "            result.append(i)\n",
    "    return result"
   ]
  },
  {
   "cell_type": "code",
   "execution_count": 26,
   "metadata": {},
   "outputs": [
    {
     "data": {
      "text/plain": [
       "[2, 3, 5, 7]"
      ]
     },
     "execution_count": 26,
     "metadata": {},
     "output_type": "execute_result"
    }
   ],
   "source": [
    "asal_yazdır(10)"
   ]
  },
  {
   "cell_type": "code",
   "execution_count": null,
   "metadata": {},
   "outputs": [],
   "source": [
    "asal_yazdır()"
   ]
  },
  {
   "cell_type": "markdown",
   "metadata": {},
   "source": [
    "## POSITIONAL AND KEYWORD ARGUMENTS"
   ]
  },
  {
   "cell_type": "markdown",
   "metadata": {},
   "source": [
    "#### Positional Arguments"
   ]
  },
  {
   "cell_type": "code",
   "execution_count": 27,
   "metadata": {},
   "outputs": [],
   "source": [
    "def my_name(first_name, last_name):\n",
    "    print(f\"My name is {first_name} {last_name}.\")"
   ]
  },
  {
   "cell_type": "code",
   "execution_count": 28,
   "metadata": {},
   "outputs": [
    {
     "name": "stdout",
     "output_type": "stream",
     "text": [
      "My name is emre çakır.\n"
     ]
    }
   ],
   "source": [
    "my_name('emre', 'ÇAKIR')"
   ]
  },
  {
   "cell_type": "code",
   "execution_count": 29,
   "metadata": {},
   "outputs": [
    {
     "name": "stdout",
     "output_type": "stream",
     "text": [
      "My name is ÇAKIR emre.\n"
     ]
    }
   ],
   "source": [
    "my_name('ÇAKIR', 'emre')        # sıralama çok önemli. buna positional argument deniyor"
   ]
  },
  {
   "cell_type": "code",
   "execution_count": 30,
   "metadata": {},
   "outputs": [
    {
     "name": "stdout",
     "output_type": "stream",
     "text": [
      "My name is emre ÇAKIR.\n"
     ]
    }
   ],
   "source": [
    "my_name(last_name='ÇAKIR', first_name='emre')   # sıralamanın bir önemi kalmadı."
   ]
  },
  {
   "cell_type": "code",
   "execution_count": 41,
   "metadata": {},
   "outputs": [],
   "source": [
    "def your_name(first_name, last_name='Erdal'):       # burada tanımlanan Erdal, last_name'in varsayılan değeridir. Yani eğer last_name olarak hiçbir şey yazmazsak Erdal kabul edilir. (print'teki end, sep gibi düşün)\n",
    "    print(f\"Your name is {first_name} {last_name}.\")"
   ]
  },
  {
   "cell_type": "code",
   "execution_count": 42,
   "metadata": {},
   "outputs": [
    {
     "name": "stdout",
     "output_type": "stream",
     "text": [
      "Your name is Emre Erdal.\n"
     ]
    }
   ],
   "source": [
    "your_name('Emre')       # last_name yazmadığımız halde hata almadık."
   ]
  },
  {
   "cell_type": "code",
   "execution_count": 43,
   "metadata": {},
   "outputs": [
    {
     "name": "stdout",
     "output_type": "stream",
     "text": [
      "Your name is Emre Çakır.\n"
     ]
    }
   ],
   "source": [
    "your_name('Emre', 'Çakır')      # last_name de varsayılan olarak Erdal vardı ama değiştirme şansımız da var elbette."
   ]
  },
  {
   "cell_type": "markdown",
   "metadata": {},
   "source": [
    "#### Keyword Arguments"
   ]
  },
  {
   "cell_type": "code",
   "execution_count": 44,
   "metadata": {},
   "outputs": [
    {
     "ename": "SyntaxError",
     "evalue": "positional argument follows keyword argument (1704800762.py, line 1)",
     "output_type": "error",
     "traceback": [
      "\u001b[1;36m  Cell \u001b[1;32mIn[44], line 1\u001b[1;36m\u001b[0m\n\u001b[1;33m    your_name(last_name='Çakır', 'Emre')        # positional argument follows keyword argument: positional arguman keyword arguman'dan sonra geldi hatası alırız. Yani biz öncelikle positional olanları yazmalıyız\u001b[0m\n\u001b[1;37m                                       ^\u001b[0m\n\u001b[1;31mSyntaxError\u001b[0m\u001b[1;31m:\u001b[0m positional argument follows keyword argument\n"
     ]
    }
   ],
   "source": [
    "your_name(last_name='Çakır', 'Emre')        # positional argument follows keyword argument: positional arguman keyword arguman'dan sonra geldi hatası alırız. Yani biz öncelikle positional olanları yazmalıyız"
   ]
  },
  {
   "cell_type": "code",
   "execution_count": 45,
   "metadata": {},
   "outputs": [
    {
     "name": "stdout",
     "output_type": "stream",
     "text": [
      "Your name is Emre Çakır.\n"
     ]
    }
   ],
   "source": [
    "your_name('Emre', last_name='Çakır')        # burada önce positional ardından da keywords arguman girildi."
   ]
  },
  {
   "cell_type": "code",
   "execution_count": 47,
   "metadata": {},
   "outputs": [
    {
     "ename": "SyntaxError",
     "evalue": "non-default argument follows default argument (1554808014.py, line 1)",
     "output_type": "error",
     "traceback": [
      "\u001b[1;36m  Cell \u001b[1;32mIn[47], line 1\u001b[1;36m\u001b[0m\n\u001b[1;33m    def your_name2(first_name, second_name='Turan', last_name)      # seconda name bir default yani keyword argument'dir. O yüzden de sona yazılmalıdır.\u001b[0m\n\u001b[1;37m                                                             ^\u001b[0m\n\u001b[1;31mSyntaxError\u001b[0m\u001b[1;31m:\u001b[0m non-default argument follows default argument\n"
     ]
    }
   ],
   "source": [
    "def your_name2(first_name, second_name='Turan', last_name)      # second name bir default yani keyword argument'dir. O yüzden de sona yazılmalıdır.\n",
    "    print(f\"Your name is {first_name} {second_name} {last_name}\")"
   ]
  },
  {
   "cell_type": "code",
   "execution_count": 48,
   "metadata": {},
   "outputs": [],
   "source": [
    "def your_name2(first_name, last_name, second_name='Turan'):         # bu şekilde keyword argument'i sona yazmamız gerekiyor\n",
    "    print(f\"Your name is {first_name} {second_name} {last_name}\")"
   ]
  },
  {
   "cell_type": "code",
   "execution_count": 49,
   "metadata": {},
   "outputs": [
    {
     "name": "stdout",
     "output_type": "stream",
     "text": [
      "Your name is Emre Turan Çakır\n"
     ]
    }
   ],
   "source": [
    "your_name2('Emre', 'Çakır')"
   ]
  },
  {
   "cell_type": "code",
   "execution_count": 51,
   "metadata": {},
   "outputs": [
    {
     "name": "stdout",
     "output_type": "stream",
     "text": [
      "Your name is Emre Çakır\n"
     ]
    }
   ],
   "source": [
    "your_name2('Emre', 'Çakır', second_name=\"\\b\")"
   ]
  },
  {
   "cell_type": "code",
   "execution_count": null,
   "metadata": {},
   "outputs": [],
   "source": [
    "your_name2('Emre', 'Çakır', \"\\b\")       # second_name yazmak zorunda da değiliz."
   ]
  },
  {
   "cell_type": "code",
   "execution_count": 54,
   "metadata": {},
   "outputs": [],
   "source": [
    "def tek_sayılar(a, b, c, d, e):\n",
    "    tek_sayılar = []\n",
    "    for i in a, b, c, d, e:\n",
    "        if i % 2:\n",
    "            tek_sayılar.append(i)\n",
    "    return tek_sayılar"
   ]
  },
  {
   "cell_type": "code",
   "execution_count": 55,
   "metadata": {},
   "outputs": [
    {
     "data": {
      "text/plain": [
       "[3, 11]"
      ]
     },
     "execution_count": 55,
     "metadata": {},
     "output_type": "execute_result"
    }
   ],
   "source": [
    "tek_sayılar(3, 4, 6, 12, 11)"
   ]
  },
  {
   "cell_type": "code",
   "execution_count": 57,
   "metadata": {},
   "outputs": [
    {
     "ename": "TypeError",
     "evalue": "tek_sayılar() missing 2 required positional arguments: 'd' and 'e'",
     "output_type": "error",
     "traceback": [
      "\u001b[1;31m---------------------------------------------------------------------------\u001b[0m",
      "\u001b[1;31mTypeError\u001b[0m                                 Traceback (most recent call last)",
      "Cell \u001b[1;32mIn[57], line 1\u001b[0m\n\u001b[1;32m----> 1\u001b[0m \u001b[43mtek_sayılar\u001b[49m\u001b[43m(\u001b[49m\u001b[38;5;241;43m3\u001b[39;49m\u001b[43m,\u001b[49m\u001b[43m \u001b[49m\u001b[38;5;241;43m4\u001b[39;49m\u001b[43m,\u001b[49m\u001b[43m \u001b[49m\u001b[38;5;241;43m6\u001b[39;49m\u001b[43m)\u001b[49m            \u001b[38;5;66;03m# positional arguman eksik olduğu için hata alırız\u001b[39;00m\n",
      "\u001b[1;31mTypeError\u001b[0m: tek_sayılar() missing 2 required positional arguments: 'd' and 'e'"
     ]
    }
   ],
   "source": [
    "tek_sayılar(3, 4, 6)            # positional arguman eksik olduğu için hata alırız"
   ]
  },
  {
   "cell_type": "code",
   "execution_count": 58,
   "metadata": {},
   "outputs": [],
   "source": [
    "def tek_sayılar2(a=2, b=2, c=2, d=2, e=2):\n",
    "    tek_sayılar = []\n",
    "    for i in a, b, c, d, e:     # python bu sayırı bir tuple olarak algılar. \n",
    "        if i % 2:\n",
    "            tek_sayılar.append(i)\n",
    "    return tek_sayılar"
   ]
  },
  {
   "cell_type": "code",
   "execution_count": 60,
   "metadata": {},
   "outputs": [
    {
     "data": {
      "text/plain": [
       "[3]"
      ]
     },
     "execution_count": 60,
     "metadata": {},
     "output_type": "execute_result"
    }
   ],
   "source": [
    "tek_sayılar2(3, 4, 6)            # positional argumanları keyword arguman'a çevirdiğimiz için sorun çözüldü"
   ]
  },
  {
   "cell_type": "markdown",
   "metadata": {},
   "source": [
    "## ARBITRARY NUMBER OF ARGUMENTS(*args, **kwargs)"
   ]
  },
  {
   "cell_type": "markdown",
   "metadata": {},
   "source": [
    "    istediğimiz kadar argument ile çalışmamızı sağlar fonksiyon yaratırken"
   ]
  },
  {
   "cell_type": "markdown",
   "metadata": {},
   "source": [
    "### * args"
   ]
  },
  {
   "cell_type": "code",
   "execution_count": 64,
   "metadata": {},
   "outputs": [],
   "source": [
    "def tek_sayılar2(* sayılar):    # buradaki asteriks simgesi sayılar argumanının kaç adet olduğunu önemsiz hale getirdi yani istediğimiz kadar sayı yazabiliriz.\n",
    "    tek_sayılar = []\n",
    "    for i in sayılar:\n",
    "        if i % 2:\n",
    "            tek_sayılar.append(i)\n",
    "    return tek_sayılar"
   ]
  },
  {
   "cell_type": "code",
   "execution_count": 66,
   "metadata": {},
   "outputs": [
    {
     "data": {
      "text/plain": [
       "[3, 5, 11, 23]"
      ]
     },
     "execution_count": 66,
     "metadata": {},
     "output_type": "execute_result"
    }
   ],
   "source": [
    "tek_sayılar2(3, 4, 6, 5, 11, 12, 23)        # istediğimiz kadar arguman yazabiliriz --> *args : *arguments"
   ]
  },
  {
   "cell_type": "markdown",
   "metadata": {},
   "source": [
    "    kaç tane sayı girilirse girilsin, girilen sayı tek ise karesini çift ise 2 katını alan fonksiyon:"
   ]
  },
  {
   "cell_type": "code",
   "execution_count": 71,
   "metadata": {},
   "outputs": [],
   "source": [
    "def tek_çift1(* sayılar):\n",
    "    result = []\n",
    "    for i in sayılar:\n",
    "        if i % 2 == 0:\n",
    "            result.append(i * 2)\n",
    "        else:\n",
    "            result.append(i ** 2)\n",
    "    \n",
    "    return result"
   ]
  },
  {
   "cell_type": "code",
   "execution_count": 72,
   "metadata": {},
   "outputs": [
    {
     "data": {
      "text/plain": [
       "[1, 4, 9, 8, 25, 12, 49, 16, 81]"
      ]
     },
     "execution_count": 72,
     "metadata": {},
     "output_type": "execute_result"
    }
   ],
   "source": [
    "tek_çift1(1, 2, 3, 4, 5, 6, 7, 8, 9)"
   ]
  },
  {
   "cell_type": "markdown",
   "metadata": {},
   "source": [
    "        Aşağıdaki kod list comperension kullanılarak üstteki fonksiyonun aynısıdır:"
   ]
  },
  {
   "cell_type": "code",
   "execution_count": 85,
   "metadata": {},
   "outputs": [],
   "source": [
    "def tek_çift2(* sayılar):\n",
    "    return [i * 2 if i % 2 == 0 else i ** 2 for i in sayılar]"
   ]
  },
  {
   "cell_type": "code",
   "execution_count": 86,
   "metadata": {},
   "outputs": [
    {
     "data": {
      "text/plain": [
       "[1, 4, 9, 8, 25, 12, 49, 16, 81]"
      ]
     },
     "execution_count": 86,
     "metadata": {},
     "output_type": "execute_result"
    }
   ],
   "source": [
    "tek_çift2(1, 2, 3, 4, 5, 6, 7, 8, 9)"
   ]
  },
  {
   "cell_type": "code",
   "execution_count": 87,
   "metadata": {},
   "outputs": [
    {
     "ename": "TypeError",
     "evalue": "unsupported operand type(s) for %: 'range' and 'int'",
     "output_type": "error",
     "traceback": [
      "\u001b[1;31m---------------------------------------------------------------------------\u001b[0m",
      "\u001b[1;31mTypeError\u001b[0m                                 Traceback (most recent call last)",
      "Cell \u001b[1;32mIn[87], line 1\u001b[0m\n\u001b[1;32m----> 1\u001b[0m \u001b[43mtek_çift1\u001b[49m\u001b[43m(\u001b[49m\u001b[38;5;28;43mrange\u001b[39;49m\u001b[43m(\u001b[49m\u001b[38;5;241;43m1\u001b[39;49m\u001b[43m,\u001b[49m\u001b[43m \u001b[49m\u001b[38;5;241;43m10\u001b[39;49m\u001b[43m)\u001b[49m\u001b[43m)\u001b[49m     \u001b[38;5;66;03m# bu şekilde kabul etmez\u001b[39;00m\n",
      "Cell \u001b[1;32mIn[71], line 4\u001b[0m, in \u001b[0;36mtek_çift1\u001b[1;34m(*sayılar)\u001b[0m\n\u001b[0;32m      2\u001b[0m result \u001b[38;5;241m=\u001b[39m []\n\u001b[0;32m      3\u001b[0m \u001b[38;5;28;01mfor\u001b[39;00m i \u001b[38;5;129;01min\u001b[39;00m sayılar:\n\u001b[1;32m----> 4\u001b[0m     \u001b[38;5;28;01mif\u001b[39;00m \u001b[43mi\u001b[49m\u001b[43m \u001b[49m\u001b[38;5;241;43m%\u001b[39;49m\u001b[43m \u001b[49m\u001b[38;5;241;43m2\u001b[39;49m \u001b[38;5;241m==\u001b[39m \u001b[38;5;241m0\u001b[39m:\n\u001b[0;32m      5\u001b[0m         result\u001b[38;5;241m.\u001b[39mappend(i \u001b[38;5;241m*\u001b[39m \u001b[38;5;241m2\u001b[39m)\n\u001b[0;32m      6\u001b[0m     \u001b[38;5;28;01melse\u001b[39;00m:\n",
      "\u001b[1;31mTypeError\u001b[0m: unsupported operand type(s) for %: 'range' and 'int'"
     ]
    }
   ],
   "source": [
    "tek_çift1(range(1, 10))     # bu şekilde kabul etmez"
   ]
  },
  {
   "cell_type": "code",
   "execution_count": 88,
   "metadata": {},
   "outputs": [
    {
     "data": {
      "text/plain": [
       "[1, 4, 9, 8, 25, 12, 49, 16, 81]"
      ]
     },
     "execution_count": 88,
     "metadata": {},
     "output_type": "execute_result"
    }
   ],
   "source": [
    "tek_çift2(* range(1, 10))     # bu şekilde kabul eder"
   ]
  },
  {
   "cell_type": "code",
   "execution_count": null,
   "metadata": {},
   "outputs": [
    {
     "name": "stdout",
     "output_type": "stream",
     "text": [
      "1 2 3 4 5 6 7 8 9\n"
     ]
    }
   ],
   "source": [
    "print(* range(1, 10))           "
   ]
  },
  {
   "cell_type": "code",
   "execution_count": null,
   "metadata": {},
   "outputs": [
    {
     "name": "stdout",
     "output_type": "stream",
     "text": [
      "e m r e\n"
     ]
    }
   ],
   "source": [
    "print(* \"emre\")"
   ]
  },
  {
   "cell_type": "markdown",
   "metadata": {},
   "source": [
    "### ** kwargs : keyword args --> dictioanary olmak zorundadır"
   ]
  },
  {
   "cell_type": "code",
   "execution_count": 97,
   "metadata": {},
   "outputs": [
    {
     "data": {
      "text/plain": [
       "{'name1': 'seyda', 'name2': 'medine', 'name3': 'orkun'}"
      ]
     },
     "execution_count": 97,
     "metadata": {},
     "output_type": "execute_result"
    }
   ],
   "source": [
    "dict_1 = {'name1': 'seyda', 'name2': 'medine', 'name3': 'orkun'}\n",
    "dict_1"
   ]
  },
  {
   "cell_type": "code",
   "execution_count": 103,
   "metadata": {},
   "outputs": [
    {
     "data": {
      "text/plain": [
       "dict_items([('name1', 'seyda'), ('name2', 'medine'), ('name3', 'orkun')])"
      ]
     },
     "execution_count": 103,
     "metadata": {},
     "output_type": "execute_result"
    }
   ],
   "source": [
    "dict_1.items()"
   ]
  },
  {
   "cell_type": "code",
   "execution_count": 98,
   "metadata": {},
   "outputs": [],
   "source": [
    "def kwardgs_function(** kwargs):\n",
    "    for i, j in kwargs.items():\n",
    "        print(f\"key: {i}, value {j}\")"
   ]
  },
  {
   "cell_type": "code",
   "execution_count": 99,
   "metadata": {},
   "outputs": [
    {
     "name": "stdout",
     "output_type": "stream",
     "text": [
      "key: name4, value Emre\n",
      "key: name5, value Sibel\n"
     ]
    }
   ],
   "source": [
    "kwardgs_function(name4 = 'Emre', name5 = 'Sibel')"
   ]
  },
  {
   "cell_type": "code",
   "execution_count": 100,
   "metadata": {},
   "outputs": [
    {
     "name": "stdout",
     "output_type": "stream",
     "text": [
      "key: name4, value Emre\n",
      "key: name5, value Sibel\n",
      "key: name6, value Sevgi\n"
     ]
    }
   ],
   "source": [
    "kwardgs_function(name4 = 'Emre', name5 = 'Sibel', name6 = 'Sevgi')"
   ]
  },
  {
   "cell_type": "code",
   "execution_count": 101,
   "metadata": {},
   "outputs": [
    {
     "ename": "TypeError",
     "evalue": "kwardgs_function() takes 0 positional arguments but 1 was given",
     "output_type": "error",
     "traceback": [
      "\u001b[1;31m---------------------------------------------------------------------------\u001b[0m",
      "\u001b[1;31mTypeError\u001b[0m                                 Traceback (most recent call last)",
      "Cell \u001b[1;32mIn[101], line 1\u001b[0m\n\u001b[1;32m----> 1\u001b[0m \u001b[43mkwardgs_function\u001b[49m\u001b[43m(\u001b[49m\u001b[43mdict_1\u001b[49m\u001b[43m)\u001b[49m\n",
      "\u001b[1;31mTypeError\u001b[0m: kwardgs_function() takes 0 positional arguments but 1 was given"
     ]
    }
   ],
   "source": [
    "kwardgs_function(dict_1)"
   ]
  },
  {
   "cell_type": "code",
   "execution_count": 102,
   "metadata": {},
   "outputs": [
    {
     "name": "stdout",
     "output_type": "stream",
     "text": [
      "key: name1, value seyda\n",
      "key: name2, value medine\n",
      "key: name3, value orkun\n"
     ]
    }
   ],
   "source": [
    "kwardgs_function(** dict_1)"
   ]
  },
  {
   "cell_type": "markdown",
   "metadata": {},
   "source": [
    "ÖDEV:\n",
    "\n",
    "    Anne-baba ve çocuktan oluşan bir ailenin \"süper aile\" olup olmadığını test edeceğiz.\n",
    "    Eğer çocuğun isminin içindeki sessiz harflerin hepsi annede ve babada olursa süper aile oluyor.\n",
    "\n",
    "    ÖR: Baba: Halil, Anne: Merve, Çocuk: Veli --> çocuğun ismindeki v harfi annede var ve çocuğun ismindeki l harfi babada var. SÜPER AİLE. \n",
    "    ÖR: Baba: Murat, Anne: Songül, Çocuk: Mert --> çocuğun ismindeki m,r,t harfleri babada var ancak hiçbiri annede yok. süper aile DEĞİLDİR.\n",
    "\n",
    "    NOT: İsimleri kullanıcıdan isteyiniz."
   ]
  },
  {
   "cell_type": "code",
   "execution_count": 163,
   "metadata": {},
   "outputs": [],
   "source": [
    "# BENİM ÇÖZÜMÜM:\n",
    "\n",
    "def süper_aile():\n",
    "    baba = input('Baba: ').lower()\n",
    "    anne = input('Anne: ').lower()\n",
    "    çocuk = input('Çocuk: ').lower()\n",
    "\n",
    "    b_list = []\n",
    "    a_list = []\n",
    "    ç_list = []\n",
    "\n",
    "    for i in baba:\n",
    "        if i not in \"aeıioöuü\":\n",
    "            b_list.append(i)\n",
    "\n",
    "    for i in anne:\n",
    "        if i not in \"aeıioöuü\":\n",
    "            a_list.append(i)\n",
    "\n",
    "    for i in çocuk:\n",
    "        if i not in \"aeıioöuü\":\n",
    "            ç_list.append(i)\n",
    "\n",
    "    b_set = set(b_list) \n",
    "    a_set = set(a_list) \n",
    "    ç_set = set(ç_list) \n",
    "\n",
    "    if len(ç_set & b_set) > 0 and len(ç_set & a_set) > 0 and (len(ç_set & b_set)+len(ç_set & a_set)) >= len(ç_set) : \n",
    "        print(\"bu aile süper ailedir\")\n",
    "    else:\n",
    "        print(\"bu aile süper aile değildir\")"
   ]
  },
  {
   "cell_type": "code",
   "execution_count": 168,
   "metadata": {},
   "outputs": [
    {
     "name": "stdout",
     "output_type": "stream",
     "text": [
      "bu aile süper ailedir\n"
     ]
    }
   ],
   "source": [
    "süper_aile()"
   ]
  },
  {
   "cell_type": "code",
   "execution_count": 169,
   "metadata": {},
   "outputs": [],
   "source": [
    "# HOCANIN ÇÖZÜMÜ\n",
    "\n",
    "def süper_aile2():\n",
    "    baba = input('Baba: ').lower()\n",
    "    anne = input('Anne: ').lower()\n",
    "    çocuk = input('Çocuk: ').lower()\n",
    "\n",
    "    ç_list = \"\"     # ÖNEMLİ: Bunu string olarak kullandığı için, anne babaya ayrı string açmaya gerek kalmadı. ben burayı listeler ile çözmüştüm.\n",
    "\n",
    "    for i in çocuk:\n",
    "        if i not in \"aeıioöuü\":\n",
    "            ç_list += i\n",
    "    \n",
    "    b_set = set(baba) \n",
    "    a_set = set(anne) \n",
    "    ç_set = set(ç_list) \n",
    "    total_set = b_set | a_set           # bu da çok güzeldi \n",
    "\n",
    "    if len(ç_set & b_set) > 0 and len(ç_set & a_set) > 0 and set(ç_set).issubset(total_set): \n",
    "        print(\"bu aile süper ailedir\")\n",
    "    else:\n",
    "        print(\"bu aile süper aile değildir\")\n",
    "    "
   ]
  },
  {
   "cell_type": "code",
   "execution_count": 171,
   "metadata": {},
   "outputs": [
    {
     "name": "stdout",
     "output_type": "stream",
     "text": [
      "bu aile süper aile değildir\n"
     ]
    }
   ],
   "source": [
    "süper_aile2()"
   ]
  },
  {
   "cell_type": "code",
   "execution_count": 173,
   "metadata": {},
   "outputs": [],
   "source": [
    "# HOCANIN ÇÖZÜMÜ2:\n",
    "\n",
    "def süper_aile3(baba, anne, çocuk):\n",
    "    baba = baba.lower()\n",
    "    anne = anne.lower()\n",
    "    çocuk = çocuk.lower()\n",
    "    ç_list = \"\"     \n",
    "\n",
    "    for i in çocuk:\n",
    "        if i not in \"aeıioöuü\":\n",
    "            ç_list += i\n",
    "    \n",
    "    b_set = set(baba) \n",
    "    a_set = set(anne) \n",
    "    ç_set = set(ç_list) \n",
    "    total_set = b_set | a_set        \n",
    "    \n",
    "    if len(ç_set & b_set) != set() and len(ç_set & a_set) != set() and set(ç_set).issubset(total_set): \n",
    "        print(\"bu aile süper ailedir\")\n",
    "    else:\n",
    "        print(\"bu aile süper aile değildir\")\n",
    "    "
   ]
  },
  {
   "cell_type": "code",
   "execution_count": 174,
   "metadata": {},
   "outputs": [
    {
     "name": "stdout",
     "output_type": "stream",
     "text": [
      "bu aile süper aile değildir\n"
     ]
    }
   ],
   "source": [
    "süper_aile3('osman', 'hacer', 'ozan')"
   ]
  }
 ],
 "metadata": {
  "kernelspec": {
   "display_name": "Python 3",
   "language": "python",
   "name": "python3"
  },
  "language_info": {
   "codemirror_mode": {
    "name": "ipython",
    "version": 3
   },
   "file_extension": ".py",
   "mimetype": "text/x-python",
   "name": "python",
   "nbconvert_exporter": "python",
   "pygments_lexer": "ipython3",
   "version": "3.9.13"
  }
 },
 "nbformat": 4,
 "nbformat_minor": 2
}
