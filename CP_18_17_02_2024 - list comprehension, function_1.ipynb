{
 "cells": [
  {
   "cell_type": "markdown",
   "metadata": {},
   "source": [
    "# **SESSION_18: LIST COMPREHENSİON & FUNCTION**"
   ]
  },
  {
   "cell_type": "markdown",
   "metadata": {},
   "source": [
    "## **LIST COMPREHENSİON**"
   ]
  },
  {
   "cell_type": "markdown",
   "metadata": {},
   "source": [
    "    list comprehension çok önemlidir. işlerimizi kolaylaştıracak\n",
    "\n",
    "    bir liste açar ve içerisinde for döngüsü yapılıyor. en sonunda da sonuçları listeye ekliyor. bir nevi sürekli append yapıyor\n",
    "\n",
    "    sadece for döngüsü kullanılabiliyor\n",
    "    \n",
    "    Kullanım Alanları aşağıdakilerle sınırlıdır:\n",
    "        1) Tek bir for kullanımı\n",
    "        2) for + if kullanımı\n",
    "        3) for + if + else kullanımı\n",
    "        3) for + for (iç içe for)"
   ]
  },
  {
   "cell_type": "code",
   "execution_count": 6,
   "metadata": {},
   "outputs": [
    {
     "name": "stdout",
     "output_type": "stream",
     "text": [
      "[1, 4, 9, 16, 25]\n"
     ]
    }
   ],
   "source": [
    "liste_1 = [1, 2, 3, 4, 5]\n",
    "empty_list = []\n",
    "\n",
    "for i in liste_1:\n",
    "    empty_list.append(i ** 2)\n",
    "print(empty_list)"
   ]
  },
  {
   "cell_type": "markdown",
   "metadata": {},
   "source": [
    "> yukarıdaki işlemi aşağıdaki gibi tek bir satırda yapabilmemiz mümkün"
   ]
  },
  {
   "cell_type": "code",
   "execution_count": 7,
   "metadata": {},
   "outputs": [
    {
     "data": {
      "text/plain": [
       "[1, 4, 9, 16, 25]"
      ]
     },
     "execution_count": 7,
     "metadata": {},
     "output_type": "execute_result"
    }
   ],
   "source": [
    "liste_1 = [1, 2, 3, 4, 5]\n",
    "\n",
    "[i ** 2 for i in liste_1]"
   ]
  },
  {
   "cell_type": "markdown",
   "metadata": {},
   "source": [
    "> benim ürettiğim örnek"
   ]
  },
  {
   "cell_type": "code",
   "execution_count": 8,
   "metadata": {},
   "outputs": [
    {
     "data": {
      "text/plain": [
       "['emre çakır', 'ozan çakır', 'erkin çakır']"
      ]
     },
     "execution_count": 8,
     "metadata": {},
     "output_type": "execute_result"
    }
   ],
   "source": [
    "isimler = [\"emre\", \"ozan\", \"erkin\"]     \n",
    "\n",
    "[i + \" çakır\" for i in isimler]         "
   ]
  },
  {
   "cell_type": "markdown",
   "metadata": {},
   "source": [
    "> Yeni bir örnek:"
   ]
  },
  {
   "cell_type": "code",
   "execution_count": 9,
   "metadata": {},
   "outputs": [
    {
     "data": {
      "text/plain": [
       "['renault', 'fiat', 'ford']"
      ]
     },
     "execution_count": 9,
     "metadata": {},
     "output_type": "execute_result"
    }
   ],
   "source": [
    "liste_2 = [\"renault!\", \"fiat*\", \"ford?\"]\n",
    "[i.replace(\"!\", \"\").replace(\"*\", \"\").replace(\"?\", \"\") for i in liste_2]"
   ]
  },
  {
   "cell_type": "code",
   "execution_count": 10,
   "metadata": {},
   "outputs": [
    {
     "data": {
      "text/plain": [
       "['renault', 'fiat', 'ford']"
      ]
     },
     "execution_count": 10,
     "metadata": {},
     "output_type": "execute_result"
    }
   ],
   "source": [
    "liste_2 = [\"renault!\", \"fiat*\", \"ford?\"]\n",
    "[i.strip(\"!*?\") for i in liste_2]       # for döngüsünü tek başına kullanıyorsak işlem kısmını for'un sol tarafına yapmamız lazım"
   ]
  },
  {
   "cell_type": "code",
   "execution_count": 11,
   "metadata": {},
   "outputs": [
    {
     "name": "stdout",
     "output_type": "stream",
     "text": [
      "['renault', 'fiat', 'ford']\n"
     ]
    }
   ],
   "source": [
    "# yukarıdaki gibi list compherence yerine normal for kullanmak isteseydik:\n",
    "\n",
    "liste_2 = [\"renault!\", \"fiat*\", \"ford?\"]\n",
    "düzenlenmiş_liste = []\n",
    "for i in liste_2:\n",
    "    düzenlenmiş_liste.append(i.strip(\"!*?\"))\n",
    "print(düzenlenmiş_liste)\n"
   ]
  },
  {
   "cell_type": "markdown",
   "metadata": {},
   "source": [
    "> aşağıdaki listede tek sayıları ayıklayalım:"
   ]
  },
  {
   "cell_type": "code",
   "execution_count": 12,
   "metadata": {},
   "outputs": [
    {
     "name": "stdout",
     "output_type": "stream",
     "text": [
      "[1, 67, 3, 1, 11, 17, 4121]\n"
     ]
    }
   ],
   "source": [
    "# eski yöntem: [hem for var hem if]\n",
    "\n",
    "sayılar_listesi = [1, 2, 4, 67, 32, 4, 3, 1, 11, 17, 412, 4121]\n",
    "tek_sayılar = []\n",
    "\n",
    "for i in sayılar_listesi:\n",
    "    if i % 2:\n",
    "        tek_sayılar.append(i)\n",
    "\n",
    "print(tek_sayılar)"
   ]
  },
  {
   "cell_type": "markdown",
   "metadata": {},
   "source": [
    "## **for + if durumu**\n",
    "\n",
    "if koşul cümlesini for yapısından sonra yazmalıyız\n",
    "\n",
    "\"bilmem ne yap, bilmem ne listesindeki her elemana, eğer bilmem ne şartı sağlanırsa\""
   ]
  },
  {
   "cell_type": "code",
   "execution_count": 13,
   "metadata": {},
   "outputs": [
    {
     "data": {
      "text/plain": [
       "[1, 67, 3, 1, 11, 17, 4121]"
      ]
     },
     "execution_count": 13,
     "metadata": {},
     "output_type": "execute_result"
    }
   ],
   "source": [
    "# list comprehense\n",
    "\n",
    "[i for i in sayılar_listesi if i % 2 == 1]"
   ]
  },
  {
   "cell_type": "code",
   "execution_count": 14,
   "metadata": {},
   "outputs": [
    {
     "data": {
      "text/plain": [
       "[2, 4, 32, 4, 412]"
      ]
     },
     "execution_count": 14,
     "metadata": {},
     "output_type": "execute_result"
    }
   ],
   "source": [
    "# çift sayıları ayıklayalım:\n",
    "\n",
    "[i for i in sayılar_listesi if i % 2 == 0]"
   ]
  },
  {
   "cell_type": "markdown",
   "metadata": {},
   "source": [
    "## **for + if + else durumu**\n",
    "\n",
    "öncelikle for'u sona yazıyoruz: \"for i in liste\" yapısı en sonda olacak\n",
    "\n",
    "[işlem_if if koşul else işlem_else for i in liste]\n",
    "\n",
    "    \"işlem_if'i yap koşul sağlanırsa, sağlanmazsa eğer eşlem_else yap liste'deki her bir item için\"\n",
    "\n",
    "        Yani: for'u sona attık. if koşulu sağlanırsa yapılacak olan işlemleri if'in soluna atarız. if'in koşulunu if'in sağına yazarız. if'in koşulunun sağına ise else yazarız. else yazdıktan sonra ise else'nin sağına, else durumunda yapılacak olanı yazarız."
   ]
  },
  {
   "cell_type": "markdown",
   "metadata": {},
   "source": [
    ">> soru: çift olanlar yerinde olduğu gibi kalsın, tek olanların karesini yazdırın"
   ]
  },
  {
   "cell_type": "code",
   "execution_count": 15,
   "metadata": {},
   "outputs": [
    {
     "data": {
      "text/plain": [
       "[1, 2, 4, 4489, 32, 4, 9, 1, 121, 289, 412, 16982641]"
      ]
     },
     "execution_count": 15,
     "metadata": {},
     "output_type": "execute_result"
    }
   ],
   "source": [
    "# klasik yöntem:\n",
    "sayılar_listesi = [1, 2, 4, 67, 32, 4, 3, 1, 11, 17, 412, 4121]\n",
    "sonuç = []\n",
    "\n",
    "for i in sayılar_listesi:\n",
    "    if i % 2 == 0:\n",
    "        sonuç.append(i)\n",
    "    else:\n",
    "        sonuç.append(i ** 2)\n",
    "\n",
    "sonuç"
   ]
  },
  {
   "cell_type": "code",
   "execution_count": 16,
   "metadata": {},
   "outputs": [
    {
     "data": {
      "text/plain": [
       "[1, 2, 4, 4489, 32, 4, 9, 1, 121, 289, 412, 16982641]"
      ]
     },
     "execution_count": 16,
     "metadata": {},
     "output_type": "execute_result"
    }
   ],
   "source": [
    "# list comprehension ile çözümü:\n",
    "\n",
    "[i if i % 2 == 0 else i ** 2    ]\n",
    "\n",
    "# i'yi olduğu gibi yaz eğer i 2'ye bölündüğünde kalan sıfırsa. değilse, i'nin karesini al. Bunları sayılar_listesindeki her bir item(i) için yap."
   ]
  },
  {
   "cell_type": "markdown",
   "metadata": {},
   "source": [
    "## **iç içe for kullanımı:**"
   ]
  },
  {
   "cell_type": "code",
   "execution_count": 17,
   "metadata": {},
   "outputs": [
    {
     "name": "stdout",
     "output_type": "stream",
     "text": [
      "4\n",
      "5\n",
      "6\n",
      "8\n",
      "10\n",
      "12\n",
      "12\n",
      "15\n",
      "18\n"
     ]
    }
   ],
   "source": [
    "for i in (1, 2, 3):         # dış döngü\n",
    "    for j in [4, 5, 6]:     # iç döngü\n",
    "        print(i * j)        # iç döngü bitmeden dış dögüye geçmez. Yani önce 1. i'yi alır tuple içerisinde. Sonra da j ile çarpar tüm liste bitene kadar. ardından 2. i'yi alarak devam eder."
   ]
  },
  {
   "cell_type": "code",
   "execution_count": 18,
   "metadata": {},
   "outputs": [
    {
     "data": {
      "text/plain": [
       "[4, 5, 6, 8, 10, 12, 12, 15, 18]"
      ]
     },
     "execution_count": 18,
     "metadata": {},
     "output_type": "execute_result"
    }
   ],
   "source": [
    "# yeni örnek:\n",
    "\n",
    "[i*j for i in (1, 2, 3) for j in [4, 5, 6]]    # [ilk yazılan for dış döngüdür, son yazılan for döngüsü iç döngüdür]"
   ]
  },
  {
   "cell_type": "markdown",
   "metadata": {},
   "source": [
    "## **FONKSİYONLAR**"
   ]
  },
  {
   "cell_type": "markdown",
   "metadata": {},
   "source": [
    "    Diyelim ki bir kod içerisinde aynı döngüyü birçok farklı yerde kullanıyoruz. O halde biz her seferinde döngü yazmak yerine bunu bir fonksiyon haline getirip hızlıca kullanailiriz"
   ]
  },
  {
   "cell_type": "markdown",
   "metadata": {},
   "source": [
    "# fonksiyon oluşturma:\n",
    "\n",
    "    def fonk_ismi(parametre(ler)):\n",
    "        işlem satırı\n",
    "\n",
    "bir fonksiyonun kalıcı hale gelmesi için modül yazacağız ilerde"
   ]
  },
  {
   "cell_type": "code",
   "execution_count": 19,
   "metadata": {},
   "outputs": [],
   "source": [
    "# içerisine yazdığım iki tane sayının karelerinin toplamını alan bir fonksiyon kuralım:\n",
    "def karler_toplamı(x, y):\n",
    "    print(x ** 2 + y ** 2)"
   ]
  },
  {
   "cell_type": "code",
   "execution_count": 20,
   "metadata": {},
   "outputs": [
    {
     "name": "stdout",
     "output_type": "stream",
     "text": [
      "25\n"
     ]
    }
   ],
   "source": [
    "karler_toplamı(3, 4)"
   ]
  },
  {
   "cell_type": "markdown",
   "metadata": {},
   "source": [
    "## **Açıklama ekleme**"
   ]
  },
  {
   "cell_type": "code",
   "execution_count": 21,
   "metadata": {},
   "outputs": [],
   "source": [
    "def kareler_toplamı_2(x, y):\n",
    "    \"\"\" Bu foksiyon iki tane sayının karesini alır ve toplar\"\"\"\n",
    "    print(x ** 2 + y ** 2)"
   ]
  },
  {
   "cell_type": "code",
   "execution_count": 22,
   "metadata": {},
   "outputs": [
    {
     "name": "stdout",
     "output_type": "stream",
     "text": [
      "Help on function kareler_toplamı_2 in module __main__:\n",
      "\n",
      "kareler_toplamı_2(x, y)\n",
      "    Bu foksiyon iki tane sayının karesini alır ve toplar\n",
      "\n"
     ]
    }
   ],
   "source": [
    "help(kareler_toplamı_2)"
   ]
  },
  {
   "cell_type": "code",
   "execution_count": 23,
   "metadata": {},
   "outputs": [
    {
     "ename": "TypeError",
     "evalue": "kareler_toplamı_2() missing 2 required positional arguments: 'x' and 'y'",
     "output_type": "error",
     "traceback": [
      "\u001b[1;31m---------------------------------------------------------------------------\u001b[0m",
      "\u001b[1;31mTypeError\u001b[0m                                 Traceback (most recent call last)",
      "Cell \u001b[1;32mIn[23], line 1\u001b[0m\n\u001b[1;32m----> 1\u001b[0m \u001b[43mkareler_toplamı_2\u001b[49m\u001b[43m(\u001b[49m\u001b[43m)\u001b[49m     \u001b[38;5;66;03m# gerekli parametreleri girmezsek hata alırız\u001b[39;00m\n",
      "\u001b[1;31mTypeError\u001b[0m: kareler_toplamı_2() missing 2 required positional arguments: 'x' and 'y'"
     ]
    }
   ],
   "source": [
    "kareler_toplamı_2()     # gerekli parametreleri girmezsek hata alırız"
   ]
  },
  {
   "cell_type": "code",
   "execution_count": null,
   "metadata": {},
   "outputs": [
    {
     "ename": "TypeError",
     "evalue": "kareler_toplamı_2() missing 1 required positional argument: 'y'",
     "output_type": "error",
     "traceback": [
      "\u001b[1;31m---------------------------------------------------------------------------\u001b[0m",
      "\u001b[1;31mTypeError\u001b[0m                                 Traceback (most recent call last)",
      "Cell \u001b[1;32mIn[33], line 1\u001b[0m\n\u001b[1;32m----> 1\u001b[0m \u001b[43mkareler_toplamı_2\u001b[49m\u001b[43m(\u001b[49m\u001b[38;5;241;43m5\u001b[39;49m\u001b[43m)\u001b[49m     \u001b[38;5;66;03m# x yerine 5'i kabul etti ancak 2 parametresinin eksik olduğunu söylüyor\u001b[39;00m\n",
      "\u001b[1;31mTypeError\u001b[0m: kareler_toplamı_2() missing 1 required positional argument: 'y'"
     ]
    }
   ],
   "source": [
    "kareler_toplamı_2(5)     # x yerine 5'i kabul etti ancak 2 parametresinin eksik olduğunu söylüyor"
   ]
  },
  {
   "cell_type": "code",
   "execution_count": 24,
   "metadata": {},
   "outputs": [
    {
     "name": "stdout",
     "output_type": "stream",
     "text": [
      "74\n"
     ]
    }
   ],
   "source": [
    "kareler_toplamı_2(5, 7)"
   ]
  },
  {
   "cell_type": "markdown",
   "metadata": {},
   "source": [
    "### parametre yazmadan fonksiyon oluşturma"
   ]
  },
  {
   "cell_type": "code",
   "execution_count": 25,
   "metadata": {},
   "outputs": [],
   "source": [
    "def neşet_baba():\n",
    "    print(\"kadınlar insandır biz insanoğlu\")"
   ]
  },
  {
   "cell_type": "code",
   "execution_count": null,
   "metadata": {},
   "outputs": [
    {
     "name": "stdout",
     "output_type": "stream",
     "text": [
      "kadınlar insandır biz insanoğlu\n"
     ]
    }
   ],
   "source": [
    "neşet_baba()"
   ]
  },
  {
   "cell_type": "code",
   "execution_count": null,
   "metadata": {},
   "outputs": [
    {
     "ename": "TypeError",
     "evalue": "neşet_baba() takes 0 positional arguments but 1 was given",
     "output_type": "error",
     "traceback": [
      "\u001b[1;31m---------------------------------------------------------------------------\u001b[0m",
      "\u001b[1;31mTypeError\u001b[0m                                 Traceback (most recent call last)",
      "Cell \u001b[1;32mIn[39], line 1\u001b[0m\n\u001b[1;32m----> 1\u001b[0m \u001b[43mneşet_baba\u001b[49m\u001b[43m(\u001b[49m\u001b[38;5;241;43m4\u001b[39;49m\u001b[43m)\u001b[49m   \u001b[38;5;66;03m# bu fonksiyon parametresiz çalışır\u001b[39;00m\n",
      "\u001b[1;31mTypeError\u001b[0m: neşet_baba() takes 0 positional arguments but 1 was given"
     ]
    }
   ],
   "source": [
    "neşet_baba(4)   # bu fonksiyon parametresiz çalışır"
   ]
  },
  {
   "cell_type": "markdown",
   "metadata": {},
   "source": [
    "    NOT: Fonksiyonu tanımlarken kullandığımız x ve y'ye \"parametre\" deriz. Ancak fonksiyon'a çağırdımız x ve y'lere \"argument\" deriz"
   ]
  },
  {
   "cell_type": "code",
   "execution_count": null,
   "metadata": {},
   "outputs": [
    {
     "ename": "TypeError",
     "evalue": "unsupported operand type(s) for ** or pow(): 'list' and 'int'",
     "output_type": "error",
     "traceback": [
      "\u001b[1;31m---------------------------------------------------------------------------\u001b[0m",
      "\u001b[1;31mTypeError\u001b[0m                                 Traceback (most recent call last)",
      "Cell \u001b[1;32mIn[42], line 1\u001b[0m\n\u001b[1;32m----> 1\u001b[0m \u001b[43mkareler_toplamı_2\u001b[49m\u001b[43m(\u001b[49m\u001b[43m[\u001b[49m\u001b[38;5;241;43m1\u001b[39;49m\u001b[43m]\u001b[49m\u001b[43m,\u001b[49m\u001b[43m \u001b[49m\u001b[43m(\u001b[49m\u001b[38;5;241;43m3\u001b[39;49m\u001b[43m)\u001b[49m\u001b[43m)\u001b[49m     \u001b[38;5;66;03m# bir liste veya tuple'ın karesi alınamaz.\u001b[39;00m\n",
      "Cell \u001b[1;32mIn[29], line 3\u001b[0m, in \u001b[0;36mkareler_toplamı_2\u001b[1;34m(x, y)\u001b[0m\n\u001b[0;32m      1\u001b[0m \u001b[38;5;28;01mdef\u001b[39;00m \u001b[38;5;21mkareler_toplamı_2\u001b[39m(x, y):\n\u001b[0;32m      2\u001b[0m \u001b[38;5;250m    \u001b[39m\u001b[38;5;124;03m\"\"\" Bu foksiyon iki tane sayının karesini alır ve toplar\"\"\"\u001b[39;00m\n\u001b[1;32m----> 3\u001b[0m     \u001b[38;5;28mprint\u001b[39m(\u001b[43mx\u001b[49m\u001b[43m \u001b[49m\u001b[38;5;241;43m*\u001b[39;49m\u001b[38;5;241;43m*\u001b[39;49m\u001b[43m \u001b[49m\u001b[38;5;241;43m2\u001b[39;49m \u001b[38;5;241m+\u001b[39m y \u001b[38;5;241m*\u001b[39m\u001b[38;5;241m*\u001b[39m \u001b[38;5;241m2\u001b[39m)\n",
      "\u001b[1;31mTypeError\u001b[0m: unsupported operand type(s) for ** or pow(): 'list' and 'int'"
     ]
    }
   ],
   "source": [
    "kareler_toplamı_2([1], (3))     # bir liste veya tuple'ın karesi alınamaz."
   ]
  },
  {
   "cell_type": "code",
   "execution_count": null,
   "metadata": {},
   "outputs": [],
   "source": [
    "# basit bir hesap makinesi yapalım:\n",
    "\n",
    "def calculator(num1, opr, num2):\n",
    "    if opr == \"+\":\n",
    "        print(num1 + num2)\n",
    "    elif opr == \"-\":\n",
    "        print(num1 - num2)\n",
    "    elif opr == \"x\":\n",
    "        print(num1 * num2)\n",
    "    elif opr == \"/\":\n",
    "        print(num1 / num2)\n",
    "    else:\n",
    "        print(\"Hatalı operatör girişi.\")"
   ]
  },
  {
   "cell_type": "code",
   "execution_count": null,
   "metadata": {},
   "outputs": [
    {
     "name": "stdout",
     "output_type": "stream",
     "text": [
      "20\n"
     ]
    }
   ],
   "source": [
    "calculator(5, \"x\", 4)"
   ]
  },
  {
   "cell_type": "code",
   "execution_count": null,
   "metadata": {},
   "outputs": [
    {
     "name": "stdout",
     "output_type": "stream",
     "text": [
      "Hatalı operatör girişi.\n"
     ]
    }
   ],
   "source": [
    "calculator(\"/\", 8, 2)"
   ]
  },
  {
   "cell_type": "code",
   "execution_count": null,
   "metadata": {},
   "outputs": [
    {
     "name": "stdout",
     "output_type": "stream",
     "text": [
      "techpro\n"
     ]
    }
   ],
   "source": [
    "calculator(\"tech\", \"+\", \"pro\")"
   ]
  },
  {
   "cell_type": "code",
   "execution_count": null,
   "metadata": {},
   "outputs": [
    {
     "ename": "TypeError",
     "evalue": "unsupported operand type(s) for -: 'str' and 'str'",
     "output_type": "error",
     "traceback": [
      "\u001b[1;31m---------------------------------------------------------------------------\u001b[0m",
      "\u001b[1;31mTypeError\u001b[0m                                 Traceback (most recent call last)",
      "Cell \u001b[1;32mIn[49], line 1\u001b[0m\n\u001b[1;32m----> 1\u001b[0m \u001b[43mcalculator\u001b[49m\u001b[43m(\u001b[49m\u001b[38;5;124;43m\"\u001b[39;49m\u001b[38;5;124;43mtech\u001b[39;49m\u001b[38;5;124;43m\"\u001b[39;49m\u001b[43m,\u001b[49m\u001b[43m \u001b[49m\u001b[38;5;124;43m\"\u001b[39;49m\u001b[38;5;124;43m-\u001b[39;49m\u001b[38;5;124;43m\"\u001b[39;49m\u001b[43m,\u001b[49m\u001b[43m \u001b[49m\u001b[38;5;124;43m\"\u001b[39;49m\u001b[38;5;124;43mpro\u001b[39;49m\u001b[38;5;124;43m\"\u001b[39;49m\u001b[43m)\u001b[49m\n",
      "Cell \u001b[1;32mIn[43], line 7\u001b[0m, in \u001b[0;36mcalculator\u001b[1;34m(num1, opr, num2)\u001b[0m\n\u001b[0;32m      5\u001b[0m     \u001b[38;5;28mprint\u001b[39m(num1 \u001b[38;5;241m+\u001b[39m num2)\n\u001b[0;32m      6\u001b[0m \u001b[38;5;28;01melif\u001b[39;00m opr \u001b[38;5;241m==\u001b[39m \u001b[38;5;124m\"\u001b[39m\u001b[38;5;124m-\u001b[39m\u001b[38;5;124m\"\u001b[39m:\n\u001b[1;32m----> 7\u001b[0m     \u001b[38;5;28mprint\u001b[39m(\u001b[43mnum1\u001b[49m\u001b[43m \u001b[49m\u001b[38;5;241;43m-\u001b[39;49m\u001b[43m \u001b[49m\u001b[43mnum2\u001b[49m)\n\u001b[0;32m      8\u001b[0m \u001b[38;5;28;01melif\u001b[39;00m opr \u001b[38;5;241m==\u001b[39m \u001b[38;5;124m\"\u001b[39m\u001b[38;5;124mx\u001b[39m\u001b[38;5;124m\"\u001b[39m:\n\u001b[0;32m      9\u001b[0m     \u001b[38;5;28mprint\u001b[39m(num1 \u001b[38;5;241m*\u001b[39m num2)\n",
      "\u001b[1;31mTypeError\u001b[0m: unsupported operand type(s) for -: 'str' and 'str'"
     ]
    }
   ],
   "source": [
    "calculator(\"tech\", \"-\", \"pro\")"
   ]
  },
  {
   "cell_type": "code",
   "execution_count": null,
   "metadata": {},
   "outputs": [],
   "source": [
    "def my_len(x):\n",
    "    \"\"\"len fonksiyonunu beğenmediğim için kendi fonksiyonumu yazıyorum. Bu fonksiyon bir iterable ın uzunluğunu verir\"\"\"\n",
    "    sayaç = 0\n",
    "    for i in x:\n",
    "        sayaç += 1\n",
    "    print(sayaç)\n"
   ]
  },
  {
   "cell_type": "code",
   "execution_count": null,
   "metadata": {},
   "outputs": [
    {
     "ename": "TypeError",
     "evalue": "'int' object is not iterable",
     "output_type": "error",
     "traceback": [
      "\u001b[1;31m---------------------------------------------------------------------------\u001b[0m",
      "\u001b[1;31mTypeError\u001b[0m                                 Traceback (most recent call last)",
      "Cell \u001b[1;32mIn[53], line 1\u001b[0m\n\u001b[1;32m----> 1\u001b[0m \u001b[43mmy_len\u001b[49m\u001b[43m(\u001b[49m\u001b[38;5;241;43m125\u001b[39;49m\u001b[43m)\u001b[49m\n",
      "Cell \u001b[1;32mIn[51], line 4\u001b[0m, in \u001b[0;36mmy_len\u001b[1;34m(x)\u001b[0m\n\u001b[0;32m      2\u001b[0m \u001b[38;5;250m\u001b[39m\u001b[38;5;124;03m\"\"\"len fonksiyonunu beğenmediğim için kendi fonksiyonumu yazıyorum. Bu fonksiyon bir iterable ın uzunluğunu verir\"\"\"\u001b[39;00m\n\u001b[0;32m      3\u001b[0m sayaç \u001b[38;5;241m=\u001b[39m \u001b[38;5;241m0\u001b[39m\n\u001b[1;32m----> 4\u001b[0m \u001b[38;5;28;01mfor\u001b[39;00m i \u001b[38;5;129;01min\u001b[39;00m x:\n\u001b[0;32m      5\u001b[0m     sayaç \u001b[38;5;241m+\u001b[39m\u001b[38;5;241m=\u001b[39m \u001b[38;5;241m1\u001b[39m\n\u001b[0;32m      6\u001b[0m \u001b[38;5;28mprint\u001b[39m(sayaç)\n",
      "\u001b[1;31mTypeError\u001b[0m: 'int' object is not iterable"
     ]
    }
   ],
   "source": [
    "my_len(125)"
   ]
  },
  {
   "cell_type": "code",
   "execution_count": null,
   "metadata": {},
   "outputs": [
    {
     "name": "stdout",
     "output_type": "stream",
     "text": [
      "7\n"
     ]
    }
   ],
   "source": [
    "my_len(\"techpro\")"
   ]
  },
  {
   "cell_type": "code",
   "execution_count": null,
   "metadata": {},
   "outputs": [
    {
     "name": "stdout",
     "output_type": "stream",
     "text": [
      "6\n"
     ]
    }
   ],
   "source": [
    "my_len([1, 2, 3, 4, 5, 6])"
   ]
  },
  {
   "cell_type": "code",
   "execution_count": 29,
   "metadata": {},
   "outputs": [
    {
     "name": "stdout",
     "output_type": "stream",
     "text": [
      "print(value, ..., sep=' ', end='\\n', file=sys.stdout, flush=False)\n",
      "\n",
      "Prints the values to a stream, or to sys.stdout by default.\n",
      "Optional keyword arguments:\n",
      "file:  a file-like object (stream); defaults to the current sys.stdout.\n",
      "sep:   string inserted between values, default a space.\n",
      "end:   string appended after the last value, default a newline.\n",
      "flush: whether to forcibly flush the stream.\n"
     ]
    }
   ],
   "source": [
    "print(print.__doc__)"
   ]
  },
  {
   "cell_type": "code",
   "execution_count": 26,
   "metadata": {},
   "outputs": [
    {
     "data": {
      "text/plain": [
       "' Bu foksiyon iki tane sayının karesini alır ve toplar'"
      ]
     },
     "execution_count": 26,
     "metadata": {},
     "output_type": "execute_result"
    }
   ],
   "source": [
    "kareler_toplamı_2.__doc__"
   ]
  },
  {
   "cell_type": "markdown",
   "metadata": {},
   "source": [
    "    ÖDEV:kullanıcıdan aldığımız bir sayının armstrong number olup olmadığını yazdıralım\n",
    "\n",
    "        ÖRN: 407 --> 4^3 + 0^3 + 7^3 = 407 => 407 sayısı bir armstrong sayıdır\n"
   ]
  },
  {
   "cell_type": "code",
   "execution_count": 27,
   "metadata": {},
   "outputs": [
    {
     "name": "stdout",
     "output_type": "stream",
     "text": [
      "Bu sayı bir Armstron Sayıdır.\n"
     ]
    }
   ],
   "source": [
    "def armstrong(x):\n",
    "    \"\"\"Bu fonksiyon, bir sayının armstrong sayı olup olmadığını kontrol eder.\"\"\" \n",
    "    s = str(x)       # \"407\"\n",
    "    y = len(str(s))  # 3\n",
    "    z = 0\n",
    "    for i in range(y):  # 0, 1, 2\n",
    "        z += int(s[i]) ** y\n",
    "    if z == x:\n",
    "        print(\"Bu sayı bir Armstron Sayıdır.\")\n",
    "    else:\n",
    "        print(\"Bu sayı bir Armstron Sayı DEĞİLDİR.\")\n",
    "\n",
    "armstrong(1634)"
   ]
  },
  {
   "cell_type": "code",
   "execution_count": 28,
   "metadata": {},
   "outputs": [
    {
     "data": {
      "text/plain": [
       "'Bu fonksiyon, bir sayının armstrong sayı olup olmadığını kontrol eder.'"
      ]
     },
     "execution_count": 28,
     "metadata": {},
     "output_type": "execute_result"
    }
   ],
   "source": [
    "armstrong.__doc__"
   ]
  }
 ],
 "metadata": {
  "kernelspec": {
   "display_name": "Python 3",
   "language": "python",
   "name": "python3"
  },
  "language_info": {
   "codemirror_mode": {
    "name": "ipython",
    "version": 3
   },
   "file_extension": ".py",
   "mimetype": "text/x-python",
   "name": "python",
   "nbconvert_exporter": "python",
   "pygments_lexer": "ipython3",
   "version": "3.9.13"
  }
 },
 "nbformat": 4,
 "nbformat_minor": 2
}
