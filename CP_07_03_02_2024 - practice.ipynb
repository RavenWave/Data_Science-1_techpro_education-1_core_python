{
 "cells": [
  {
   "cell_type": "markdown",
   "metadata": {},
   "source": [
    "# **SESSION_7: PRACTICE**\n"
   ]
  },
  {
   "cell_type": "code",
   "execution_count": 2,
   "metadata": {},
   "outputs": [
    {
     "name": "stdout",
     "output_type": "stream",
     "text": [
      "Dikkat!\n",
      "      \n",
      "Bu bir uyaridir.\n",
      "\n"
     ]
    }
   ],
   "source": [
    "# Aşağıdaki ifadelere \"docstrings\" denir. Birine bir not bırakmak için kullanılır genellikle:\n",
    "\n",
    "print(\"\"\"Dikkat!\n",
    "      \n",
    "Bu bir uyaridir.\n",
    "\"\"\")"
   ]
  },
  {
   "cell_type": "code",
   "execution_count": 3,
   "metadata": {},
   "outputs": [
    {
     "data": {
      "text/plain": [
       "['False',\n",
       " 'None',\n",
       " 'True',\n",
       " '__peg_parser__',\n",
       " 'and',\n",
       " 'as',\n",
       " 'assert',\n",
       " 'async',\n",
       " 'await',\n",
       " 'break',\n",
       " 'class',\n",
       " 'continue',\n",
       " 'def',\n",
       " 'del',\n",
       " 'elif',\n",
       " 'else',\n",
       " 'except',\n",
       " 'finally',\n",
       " 'for',\n",
       " 'from',\n",
       " 'global',\n",
       " 'if',\n",
       " 'import',\n",
       " 'in',\n",
       " 'is',\n",
       " 'lambda',\n",
       " 'nonlocal',\n",
       " 'not',\n",
       " 'or',\n",
       " 'pass',\n",
       " 'raise',\n",
       " 'return',\n",
       " 'try',\n",
       " 'while',\n",
       " 'with',\n",
       " 'yield']"
      ]
     },
     "execution_count": 3,
     "metadata": {},
     "output_type": "execute_result"
    }
   ],
   "source": [
    "# bazı keyword'lar vardır, o keyword'ları değişken atama esnasında kullanamayız:\n",
    "\n",
    "import keyword\n",
    "keyword.kwlist"
   ]
  },
  {
   "cell_type": "markdown",
   "metadata": {},
   "source": [
    "['False', 'None', 'True', 'and', 'as', 'assert', 'async', 'await', 'break', 'class', 'continue', 'def', 'del',\n",
    "'elif', 'else', 'except', 'finally', 'for', 'from', 'global', 'if', 'import', 'in', 'is', 'lambda', 'nonlocal',\n",
    "'not', 'or', 'pass', 'raise', 'return', 'try', 'while', 'with', 'yield']"
   ]
  },
  {
   "cell_type": "code",
   "execution_count": 14,
   "metadata": {},
   "outputs": [],
   "source": [
    "# Aşağıdaki peşpeşe gelen 2 hücrede değişim işlemi uygulanmış. Kişi1'deki değeri kişi2'ye; kişi2'deki değeri ise kişi1'e aktarma işlemi uygulanmıştır.\n",
    "\n",
    "kisi_1 = \"Müdür\"\n",
    "kisi_2 = \"Koordinatör\""
   ]
  },
  {
   "cell_type": "code",
   "execution_count": 15,
   "metadata": {},
   "outputs": [
    {
     "name": "stdout",
     "output_type": "stream",
     "text": [
      "kişi1: \n",
      "Koordinatör\n",
      "kisi2: \n",
      "Müdür\n"
     ]
    }
   ],
   "source": [
    "degisim = \"\"            # bu olmasa da olur. \n",
    "degisim = kisi_1      \n",
    "kisi_1 = kisi_2\n",
    "kisi_2 = degisim\n",
    "print(\"kişi1: \", kisi_1, \"kisi2: \", kisi_2, sep=\"\\n\")"
   ]
  },
  {
   "cell_type": "code",
   "execution_count": 17,
   "metadata": {},
   "outputs": [
    {
     "name": "stdout",
     "output_type": "stream",
     "text": [
      "kişi1: \n",
      "Koordinatör\n",
      "kisi2: \n",
      "Müdür\n"
     ]
    }
   ],
   "source": [
    "## Ama aşağıdaki işlem çok çok daha kısa sürmesini sağlıyor, Python'un kolaylığı:\n",
    "\n",
    "kisi_1 = \"Müdür\"\n",
    "kisi_2 = \"Koordinatör\"\n",
    "kisi_1, kisi_2 = kisi_2, kisi_1         # swappin işlemi yapılıyor.\n",
    "print(\"kişi1: \", kisi_1, \"kisi2: \", kisi_2, sep=\"\\n\")"
   ]
  },
  {
   "cell_type": "markdown",
   "metadata": {},
   "source": [
    ">> **list, tuple, set, dictionary tarzında data tiplerine biz genel olarak collecting types diyoruz**"
   ]
  },
  {
   "cell_type": "code",
   "execution_count": 20,
   "metadata": {},
   "outputs": [
    {
     "name": "stdout",
     "output_type": "stream",
     "text": [
      "b e s i k\n",
      "T.B.M.M\n",
      "a-s-d-f-v-r-e-g-v-d-d-a-f-s-a-f-s-d-f-h-g-v-d-b-f-b-h-d-f-g-s\n"
     ]
    }
   ],
   "source": [
    "# \"*\" asteriks operatorü print içerisinde karakterler arasında boşluk koymaya yarar.\n",
    "\n",
    "print(*\"besik\")\n",
    "print(*\"TBMM\", sep=\".\")\n",
    "print(*\"asdfvregvddafsafsdfhgvdbfbhdfgs\", sep=\"-\")"
   ]
  },
  {
   "cell_type": "code",
   "execution_count": 35,
   "metadata": {},
   "outputs": [
    {
     "name": "stdout",
     "output_type": "stream",
     "text": [
      "24\n",
      "25\n",
      "24\n",
      "26\n",
      "34.0\n",
      "130.7\n",
      "130.67\n",
      "130.0\n",
      "100.0\n",
      "0.0\n",
      "0.0\n"
     ]
    }
   ],
   "source": [
    "# round()\n",
    "\n",
    "print(round(24.3))          # normalde en yakın tamsayıya yuvarlar.\n",
    "print(round(24.7))          # normalde en yakın tamsayıya yuvarlar.\n",
    "print(round(24.5))          # virgülden sonra \"5\" varsa, en yakın çift sayıya yuvarlar.\n",
    "print(round(25.5))          # virgülden sonra \"5\" varsa, en yakın çift sayıya yuvarlar.\n",
    "print(round(34.5, 0))       # virgülden sonrasını siliyor\n",
    "print(round(130.666, 1))    # virgülden sonra 1 tane rakam olacak şekilde yuvarlama yapar\n",
    "print(round(130.666, 2))    # virgülden sonra 2 tane rakam olacak şekilde yuvarlama yapar\n",
    "print(round(130.666, -1))   # -li bir ifade olduğu zaman virgülden öncesini yuvarlayarak yazdırır [130 sayısı 130'a mı daha yakın 140'a mı?]\n",
    "print(round(130.666, -2))   # -li bir ifade olduğu zaman virgülden öncesini yuvarlayarak yazdırır [130 sayısı 200'e mi daha yakın 100'e mi?]\n",
    "print(round(130.666, -3))   # -li bir ifade olduğu zaman virgülden öncesini yuvarlayarak yazdırır [130 sayısı 0'a mı daha yakın 1000'e mi?]\n",
    "print(round(130.666, -200)) # direkt sıfır"
   ]
  },
  {
   "cell_type": "code",
   "execution_count": 44,
   "metadata": {},
   "outputs": [
    {
     "data": {
      "text/plain": [
       "1000.0"
      ]
     },
     "execution_count": 44,
     "metadata": {},
     "output_type": "execute_result"
    }
   ],
   "source": [
    "round(530.666, -3)          # 530 sayısı 100'e mi daha yakın, 0'a mı?"
   ]
  },
  {
   "cell_type": "markdown",
   "metadata": {},
   "source": [
    "round(500.01, -3)"
   ]
  }
 ],
 "metadata": {
  "kernelspec": {
   "display_name": "Python 3",
   "language": "python",
   "name": "python3"
  },
  "language_info": {
   "codemirror_mode": {
    "name": "ipython",
    "version": 3
   },
   "file_extension": ".py",
   "mimetype": "text/x-python",
   "name": "python",
   "nbconvert_exporter": "python",
   "pygments_lexer": "ipython3",
   "version": "3.9.13"
  }
 },
 "nbformat": 4,
 "nbformat_minor": 2
}
