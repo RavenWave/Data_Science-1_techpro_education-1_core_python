{
 "cells": [
  {
   "cell_type": "markdown",
   "metadata": {},
   "source": [
    "# **SESSION_16: FOR**"
   ]
  },
  {
   "cell_type": "markdown",
   "metadata": {},
   "source": [
    "    Soru: 1'den 50'ye kadar olan sayıların toplamını bulan kodu yazın:"
   ]
  },
  {
   "cell_type": "code",
   "execution_count": 2,
   "metadata": {},
   "outputs": [
    {
     "name": "stdout",
     "output_type": "stream",
     "text": [
      "1275\n"
     ]
    }
   ],
   "source": [
    "x = 0\n",
    "for i in range(51):\n",
    "    x += i \n",
    "print(x) "
   ]
  },
  {
   "cell_type": "markdown",
   "metadata": {},
   "source": [
    "## sum() fonksiyonu --> içerisine yazılan iterable elemanları toplar."
   ]
  },
  {
   "cell_type": "code",
   "execution_count": 5,
   "metadata": {},
   "outputs": [
    {
     "data": {
      "text/plain": [
       "1275"
      ]
     },
     "execution_count": 5,
     "metadata": {},
     "output_type": "execute_result"
    }
   ],
   "source": [
    "# Yukarıdaki örneğin kısa yolu şöyledir:\n",
    "\n",
    "sum(range(1, 51))       # sum fonksiyonu iterable elemanlar ile çalışır ve içine yazılan sayıları toplar."
   ]
  },
  {
   "cell_type": "code",
   "execution_count": 8,
   "metadata": {},
   "outputs": [
    {
     "data": {
      "text/plain": [
       "15"
      ]
     },
     "execution_count": 8,
     "metadata": {},
     "output_type": "execute_result"
    }
   ],
   "source": [
    "sum([1, 2, 3, 4, 5])    # listenin içerisindeki elemanları toplar"
   ]
  },
  {
   "cell_type": "code",
   "execution_count": 10,
   "metadata": {},
   "outputs": [
    {
     "data": {
      "text/plain": [
       "15"
      ]
     },
     "execution_count": 10,
     "metadata": {},
     "output_type": "execute_result"
    }
   ],
   "source": [
    "sum((1, 2, 3, 4, 5))    # tuplei çerisindeki elemanları toplar"
   ]
  },
  {
   "cell_type": "code",
   "execution_count": 11,
   "metadata": {},
   "outputs": [
    {
     "data": {
      "text/plain": [
       "15"
      ]
     },
     "execution_count": 11,
     "metadata": {},
     "output_type": "execute_result"
    }
   ],
   "source": [
    "sum({1, 2, 3, 4, 5})    # set (küme) çerisindeki elemanları toplar"
   ]
  },
  {
   "cell_type": "code",
   "execution_count": 12,
   "metadata": {},
   "outputs": [
    {
     "data": {
      "text/plain": [
       "15.0"
      ]
     },
     "execution_count": 12,
     "metadata": {},
     "output_type": "execute_result"
    }
   ],
   "source": [
    "sum([True, 2, 3.0, 4, 5])    # bool, int ve float'ı birbiriyle toplar"
   ]
  },
  {
   "cell_type": "markdown",
   "metadata": {},
   "source": [
    "    sum() fonksiyonu içerisindeki elemanları toplar ve sıfırın üzerine ekler. İstersek o sıfırı başka bi sayıyla değiştirebiliriz. Örneğin aşağıdaki 100 ifadesi buna yarar. "
   ]
  },
  {
   "cell_type": "code",
   "execution_count": 13,
   "metadata": {},
   "outputs": [
    {
     "data": {
      "text/plain": [
       "115.0"
      ]
     },
     "execution_count": 13,
     "metadata": {},
     "output_type": "execute_result"
    }
   ],
   "source": [
    "sum([True, 2, 3.0, 4, 5], 100)"
   ]
  },
  {
   "cell_type": "markdown",
   "metadata": {},
   "source": [
    "    Soru: 1'den 50'ye kadar olan çift sayıların toplamını bulan kodu yazın:"
   ]
  },
  {
   "cell_type": "code",
   "execution_count": 15,
   "metadata": {},
   "outputs": [
    {
     "name": "stdout",
     "output_type": "stream",
     "text": [
      "650\n"
     ]
    }
   ],
   "source": [
    "# 1. Yöntem\n",
    "x = 0\n",
    "for i in range(0, 51, 2):\n",
    "    x += i\n",
    "print(x)"
   ]
  },
  {
   "cell_type": "code",
   "execution_count": 16,
   "metadata": {},
   "outputs": [
    {
     "data": {
      "text/plain": [
       "650"
      ]
     },
     "execution_count": 16,
     "metadata": {},
     "output_type": "execute_result"
    }
   ],
   "source": [
    "# 1. Yöntem\n",
    "sum(range(0, 51, 2))"
   ]
  },
  {
   "cell_type": "markdown",
   "metadata": {},
   "source": [
    "## break, continue\n",
    "\n",
    "        conitue her zaman bir döngü içeirisinde yer alır. Ve bir döngü içerisinde cotinue'den sonra gelen şeyleri yazdırmaz, bulunduğu döngünün yeniden başlamasını sağlar"
   ]
  },
  {
   "cell_type": "code",
   "execution_count": 17,
   "metadata": {},
   "outputs": [
    {
     "data": {
      "text/plain": [
       "[1, 2, 3, 4, 5]"
      ]
     },
     "execution_count": 17,
     "metadata": {},
     "output_type": "execute_result"
    }
   ],
   "source": [
    "liste_1 = [1, 2, 3, 4, 5]\n",
    "liste_1"
   ]
  },
  {
   "cell_type": "code",
   "execution_count": 18,
   "metadata": {},
   "outputs": [
    {
     "name": "stdout",
     "output_type": "stream",
     "text": [
      "1\n",
      "4\n"
     ]
    }
   ],
   "source": [
    "# liste'nin içerisindeki elemanların karesini yazdırın. Ancak 3'ün katı olan bir sayı görünce kodu durdur.\n",
    "for i in liste_1:\n",
    "    if i % 3 == 0:\n",
    "        break\n",
    "    else:\n",
    "        print(i ** 2)"
   ]
  },
  {
   "cell_type": "code",
   "execution_count": 19,
   "metadata": {},
   "outputs": [
    {
     "name": "stdout",
     "output_type": "stream",
     "text": [
      "1\n",
      "4\n",
      "16\n",
      "25\n"
     ]
    }
   ],
   "source": [
    "# liste'nin içerisindeki elemanların karesini yazdırın. Ancak 3'ün katı olan bir sayı görünce bu sayıyı atlayıp devam etsin\n",
    "for i in liste_1:\n",
    "    if i % 3 == 0:\n",
    "        continue\n",
    "    else:\n",
    "        print(i ** 2)"
   ]
  },
  {
   "cell_type": "code",
   "execution_count": 20,
   "metadata": {},
   "outputs": [
    {
     "name": "stdout",
     "output_type": "stream",
     "text": [
      "650\n"
     ]
    }
   ],
   "source": [
    "# çift sayıların toplamı (50'ye kadar)\n",
    "\n",
    "x = 0\n",
    "\n",
    "for i in range(1, 51):\n",
    "    if i % 2 == 1:\n",
    "        continue\n",
    "    else:\n",
    "        x += i\n",
    "print(x)"
   ]
  },
  {
   "cell_type": "markdown",
   "metadata": {},
   "source": [
    "## **zip() fonksiyonu:** çok çok kullanışlı olabilir"
   ]
  },
  {
   "cell_type": "code",
   "execution_count": 22,
   "metadata": {},
   "outputs": [],
   "source": [
    "a = [\"apple\", \"orange\", \"lemon\"]\n",
    "b = [1, 2, 3]"
   ]
  },
  {
   "cell_type": "code",
   "execution_count": 23,
   "metadata": {},
   "outputs": [
    {
     "data": {
      "text/plain": [
       "<zip at 0x1174dbc2cc0>"
      ]
     },
     "execution_count": 23,
     "metadata": {},
     "output_type": "execute_result"
    }
   ],
   "source": [
    "zip(a, b)"
   ]
  },
  {
   "cell_type": "code",
   "execution_count": 24,
   "metadata": {},
   "outputs": [
    {
     "data": {
      "text/plain": [
       "[('apple', 1), ('orange', 2), ('lemon', 3)]"
      ]
     },
     "execution_count": 24,
     "metadata": {},
     "output_type": "execute_result"
    }
   ],
   "source": [
    "list(zip(a,b))      # zip(b, a) verisyonu alt hücrede"
   ]
  },
  {
   "cell_type": "code",
   "execution_count": 51,
   "metadata": {},
   "outputs": [
    {
     "data": {
      "text/plain": [
       "[(1, 'apple'), (2, 'orange'), (3, 'lemon')]"
      ]
     },
     "execution_count": 51,
     "metadata": {},
     "output_type": "execute_result"
    }
   ],
   "source": [
    "list(zip(b, a))     # zip(a, b) verisyonu üst hücrede"
   ]
  },
  {
   "cell_type": "code",
   "execution_count": 50,
   "metadata": {},
   "outputs": [
    {
     "data": {
      "text/plain": [
       "((1, 'apple'), (2, 'orange'), (3, 'lemon'))"
      ]
     },
     "execution_count": 50,
     "metadata": {},
     "output_type": "execute_result"
    }
   ],
   "source": [
    "tuple(zip(b, a))    "
   ]
  },
  {
   "cell_type": "code",
   "execution_count": 25,
   "metadata": {},
   "outputs": [
    {
     "data": {
      "text/plain": [
       "[('T', 'C', 'A'), ('e', 'i', 'y'), ('c', 'h', 'ş'), ('h', 'a', 'e')]"
      ]
     },
     "execution_count": 25,
     "metadata": {},
     "output_type": "execute_result"
    }
   ],
   "source": [
    "x = \"Techpro\"   # 7 eleman\n",
    "y = \"Cihan\"     # 5 eleman\n",
    "z = \"Ayşe\"      # 4 eleman\n",
    "\n",
    "list(zip(x, y, z))      # eleman sayısı en az olan değişken z yani 4'tür. O yüzden diğer değişkenlerin ilk dört item'ını alıp zip yapar"
   ]
  },
  {
   "cell_type": "code",
   "execution_count": 27,
   "metadata": {},
   "outputs": [
    {
     "data": {
      "text/plain": [
       "[('Techpro', 'Techpro', 'Ayşe'),\n",
       " ('emre', 'emre', 'çakır'),\n",
       " ('çakır', 'çakır', 'irem'),\n",
       " ('irem', 'irem', 'ozan')]"
      ]
     },
     "execution_count": 27,
     "metadata": {},
     "output_type": "execute_result"
    }
   ],
   "source": [
    "x = [\"Techpro\", \"emre\", \"çakır\", \"irem\", \"ozan\", \"erkin\", \"hacer\"]   # 7 eleman --> \"ozan\", \"erkin\", \"hacer\" bu elemanalar ziplenmeyecek\n",
    "y = [\"Techpro\", \"emre\", \"çakır\", \"irem\", \"ozan\"]     # 5 eleman --> \"irem\", \"ozan\" bu elemanalar ziplenmeyecek\n",
    "z = [\"Ayşe\", \"çakır\", \"irem\", \"ozan\"]      # 4 eleman --> tüm elemanları ziplenece\n",
    "\n",
    "list(zip(x, y, z))      # eleman sayısı en az olan değişken z yani 4'tür. O yüzden diğer değişkenlerin ilk dört item'ını alıp zip yapar"
   ]
  },
  {
   "cell_type": "code",
   "execution_count": 30,
   "metadata": {},
   "outputs": [
    {
     "data": {
      "text/plain": [
       "{'apple': 1, 'orange': 2, 'lemon': 3}"
      ]
     },
     "execution_count": 30,
     "metadata": {},
     "output_type": "execute_result"
    }
   ],
   "source": [
    "dict(zip(a, b))         # apple, oronge ve leman --> keys | 1, 2, 3 --> values "
   ]
  },
  {
   "cell_type": "code",
   "execution_count": 31,
   "metadata": {},
   "outputs": [
    {
     "data": {
      "text/plain": [
       "dict_keys(['apple', 'orange', 'lemon'])"
      ]
     },
     "execution_count": 31,
     "metadata": {},
     "output_type": "execute_result"
    }
   ],
   "source": [
    "dict(zip(a, b)).keys()"
   ]
  },
  {
   "cell_type": "code",
   "execution_count": 32,
   "metadata": {},
   "outputs": [
    {
     "data": {
      "text/plain": [
       "dict_values([1, 2, 3])"
      ]
     },
     "execution_count": 32,
     "metadata": {},
     "output_type": "execute_result"
    }
   ],
   "source": [
    "dict(zip(a, b)).values()"
   ]
  },
  {
   "cell_type": "code",
   "execution_count": 34,
   "metadata": {},
   "outputs": [
    {
     "data": {
      "text/plain": [
       "{'apple': 3, 'orange': 2}"
      ]
     },
     "execution_count": 34,
     "metadata": {},
     "output_type": "execute_result"
    }
   ],
   "source": [
    "meyveler = [\"apple\", \"orange\", \"apple\"]\n",
    "adet = [1, 2, 3]\n",
    "\n",
    "dict(zip(meyveler, adet))       # dict'lerin key'i unique'dir. O yüzden 2 elemanı bir dict oluştu. Ve aynı olan 2 item'dan sonuncusunu alıyor. Çünkü change ediyor aslında. O yüzden value olarak ilk apple değil ikinci apple alınır "
   ]
  },
  {
   "cell_type": "code",
   "execution_count": 136,
   "metadata": {},
   "outputs": [
    {
     "data": {
      "text/plain": [
       "[('irem', 25, 'data_scientist'),\n",
       " ('betül', 26, 'python_developer'),\n",
       " ('tülay', 27, 'data_analyst')]"
      ]
     },
     "execution_count": 136,
     "metadata": {},
     "output_type": "execute_result"
    }
   ],
   "source": [
    "name = [\"irem\", \"betül\", \"tülay\"]\n",
    "age = [25, 26, 27]\n",
    "job = [\"data_scientist\", \"python_developer\", \"data_analyst\"]\n",
    "\n",
    "list(zip(name, age, job))"
   ]
  },
  {
   "cell_type": "code",
   "execution_count": 137,
   "metadata": {},
   "outputs": [
    {
     "name": "stdout",
     "output_type": "stream",
     "text": [
      "('irem', 25, 'data_scientist')\n",
      "('betül', 26, 'python_developer')\n",
      "('tülay', 27, 'data_analyst')\n"
     ]
    }
   ],
   "source": [
    "for item in zip(name, age, job):\n",
    "    print(item)"
   ]
  },
  {
   "cell_type": "code",
   "execution_count": 138,
   "metadata": {},
   "outputs": [
    {
     "name": "stdout",
     "output_type": "stream",
     "text": [
      "name: irem  , age: 25  , job: data_scientist\n",
      "name: betül , age: 26  , job: python_developer\n",
      "name: tülay , age: 27  , job: data_analyst\n"
     ]
    }
   ],
   "source": [
    "for i, j, k in zip(name, age, job):\n",
    "    print(f\"name: {i:6}, age: {j:<4}, job: {k}\")"
   ]
  },
  {
   "cell_type": "code",
   "execution_count": 139,
   "metadata": {},
   "outputs": [
    {
     "ename": "TypeError",
     "evalue": "'dict' object is not callable",
     "output_type": "error",
     "traceback": [
      "\u001b[1;31m---------------------------------------------------------------------------\u001b[0m",
      "\u001b[1;31mTypeError\u001b[0m                                 Traceback (most recent call last)",
      "Cell \u001b[1;32mIn[139], line 1\u001b[0m\n\u001b[1;32m----> 1\u001b[0m \u001b[38;5;28;43mdict\u001b[39;49m\u001b[43m(\u001b[49m\u001b[38;5;28;43mzip\u001b[39;49m\u001b[43m(\u001b[49m\u001b[43mname\u001b[49m\u001b[43m,\u001b[49m\u001b[43m \u001b[49m\u001b[38;5;28;43mzip\u001b[39;49m\u001b[43m(\u001b[49m\u001b[43mage\u001b[49m\u001b[43m,\u001b[49m\u001b[43m \u001b[49m\u001b[43mjob\u001b[49m\u001b[43m)\u001b[49m\u001b[43m)\u001b[49m\u001b[43m)\u001b[49m\n",
      "\u001b[1;31mTypeError\u001b[0m: 'dict' object is not callable"
     ]
    }
   ],
   "source": [
    "dict(zip(name, zip(age, job)))"
   ]
  },
  {
   "cell_type": "markdown",
   "metadata": {},
   "source": [
    "## **enumerate()** fonksiyonu: numaralandırma yapar."
   ]
  },
  {
   "cell_type": "code",
   "execution_count": 121,
   "metadata": {},
   "outputs": [
    {
     "data": {
      "text/plain": [
       "['irem', 'betül', 'tülay']"
      ]
     },
     "execution_count": 121,
     "metadata": {},
     "output_type": "execute_result"
    }
   ],
   "source": [
    "name"
   ]
  },
  {
   "cell_type": "code",
   "execution_count": 122,
   "metadata": {},
   "outputs": [
    {
     "data": {
      "text/plain": [
       "<enumerate at 0x1174f42c180>"
      ]
     },
     "execution_count": 122,
     "metadata": {},
     "output_type": "execute_result"
    }
   ],
   "source": [
    "enumerate(name)"
   ]
  },
  {
   "cell_type": "code",
   "execution_count": 123,
   "metadata": {},
   "outputs": [
    {
     "data": {
      "text/plain": [
       "[(0, 'irem'), (1, 'betül'), (2, 'tülay')]"
      ]
     },
     "execution_count": 123,
     "metadata": {},
     "output_type": "execute_result"
    }
   ],
   "source": [
    "list(enumerate(name))       # name listesinin elemanlarına birer numara atadı"
   ]
  },
  {
   "cell_type": "code",
   "execution_count": 58,
   "metadata": {},
   "outputs": [
    {
     "data": {
      "text/plain": [
       "[(100, 'irem'), (101, 'betül'), (102, 'tülay')]"
      ]
     },
     "execution_count": 58,
     "metadata": {},
     "output_type": "execute_result"
    }
   ],
   "source": [
    "list(enumerate(name, 100))       # virgülden sonra belirttiğimiz sayı numaralandırmanın kaçtan başlayacağını söyler bize"
   ]
  },
  {
   "cell_type": "markdown",
   "metadata": {},
   "source": [
    "[48, 10, 11, 21, 36, 5, 6, 52, 28, 29,\n",
    "       53, 54, 45, 19, 20, 47, 55, 39, 41, 7,\n",
    "       9, 17, 26, 27, 42, 22, 37, 51, 46, 18,\n",
    "       44, 30, 34, 13, 15, 35, 33, 16, 50, 24]\n",
    "\n",
    "       yukarıdaki listede yer alan max ve min değerlerinin arasında kalan eksik sayları bulun"
   ]
  },
  {
   "cell_type": "code",
   "execution_count": 70,
   "metadata": {},
   "outputs": [
    {
     "name": "stdout",
     "output_type": "stream",
     "text": [
      "Listemizin en büyük sayısı 55 ve en küçük sayısı 5 ve aynı zamanda listemizde 40 adet eleman bulunmaktadır. Ancak bulunması gereken eleman sayısı 51 olduğuna göre, eksik sayıları tespit edelim.\n",
      "[8, 12, 14, 23, 25, 31, 32, 38, 40, 43, 49]\n"
     ]
    }
   ],
   "source": [
    "numbers = [48, 10, 11, 21, 36, 5, 6, 52, 28, 29,\n",
    "       53, 54, 45, 19, 20, 47, 55, 39, 41, 7,\n",
    "       9, 17, 26, 27, 42, 22, 37, 51, 46, 18,\n",
    "       44, 30, 34, 13, 15, 35, 33, 16, 50, 24]\n",
    "max_num = max(numbers)\n",
    "min_num = min(numbers)\n",
    "max_min = list(range(min_num, max_num + 1))\n",
    "olması_gerken = len(max_min)\n",
    "mevcut = len(numbers)\n",
    "olmayanlar = []\n",
    "print(f\"Listemizin en büyük sayısı {max_num} ve en küçük sayısı {min_num} ve aynı zamanda listemizde {mevcut} adet eleman bulunmaktadır. Ancak bulunması gereken eleman sayısı {olması_gerken} olduğuna göre, eksik sayıları tespit edelim.\")\n",
    "\n",
    "for i in max_min:\n",
    "    if i in numbers:\n",
    "        continue\n",
    "    else:\n",
    "        olmayanlar.append(i)\n",
    "print(olmayanlar)"
   ]
  },
  {
   "cell_type": "code",
   "execution_count": 71,
   "metadata": {},
   "outputs": [
    {
     "name": "stdout",
     "output_type": "stream",
     "text": [
      "[8, 12, 14, 23, 25, 31, 32, 38, 40, 43, 49]\n"
     ]
    }
   ],
   "source": [
    "# Hocanın çözümü_1:\n",
    "number_list = [48, 10, 11, 21, 36, 5, 6, 52, 28, 29,\n",
    "       53, 54, 45, 19, 20, 47, 55, 39, 41, 7,\n",
    "       9, 17, 26, 27, 42, 22, 37, 51, 46, 18,\n",
    "       44, 30, 34, 13, 15, 35, 33, 16, 50, 24]\n",
    "kayıp_sayılar = []\n",
    "\n",
    "for i in range(min(number_list), max(number_list)):\n",
    "    if i not in number_list:            # bu satır hoşuma gitti\n",
    "        kayıp_sayılar.append(i)     \n",
    "print(kayıp_sayılar)"
   ]
  },
  {
   "cell_type": "code",
   "execution_count": 73,
   "metadata": {},
   "outputs": [
    {
     "name": "stdout",
     "output_type": "stream",
     "text": [
      "[8, 12, 14, 23, 25, 31, 32, 38, 40, 43, 49]\n"
     ]
    }
   ],
   "source": [
    "# Hocanın çözümü_2:\n",
    "number_list = [48, 10, 11, 21, 36, 5, 6, 52, 28, 29,\n",
    "       53, 54, 45, 19, 20, 47, 55, 39, 41, 7,\n",
    "       9, 17, 26, 27, 42, 22, 37, 51, 46, 18,\n",
    "       44, 30, 34, 13, 15, 35, 33, 16, 50, 24]\n",
    "kayıp_sayılar = []\n",
    "\n",
    "for i in range(min(number_list), max(number_list)):\n",
    "    if i  in number_list:  \n",
    "        continue         \n",
    "    kayıp_sayılar.append(i)         # burada da else yapmamız gerek yokmuş. Ben else yapmıştım.\n",
    "print(kayıp_sayılar)"
   ]
  },
  {
   "cell_type": "code",
   "execution_count": 86,
   "metadata": {},
   "outputs": [
    {
     "name": "stdout",
     "output_type": "stream",
     "text": [
      "full_set      --> {5, 6, 7, 8, 9, 10, 11, 12, 13, 14, 15, 16, 17, 18, 19, 20, 21, 22, 23, 24, 25, 26, 27, 28, 29, 30, 31, 32, 33, 34, 35, 36, 37, 38, 39, 40, 41, 42, 43, 44, 45, 46, 47, 48, 49, 50, 51, 52, 53, 54}\n",
      "number_set    --> {5, 6, 7, 9, 10, 11, 13, 15, 16, 17, 18, 19, 20, 21, 22, 24, 26, 27, 28, 29, 30, 33, 34, 35, 36, 37, 39, 41, 42, 44, 45, 46, 47, 48, 50, 51, 52, 53, 54, 55}\n",
      "Kayıp Sayılar --> {32, 38, 8, 40, 43, 12, 14, 49, 23, 25, 31}\n"
     ]
    }
   ],
   "source": [
    "# Hocanın çözümü_3:\n",
    "number_list = [48, 10, 11, 21, 36, 5, 6, 52, 28, 29,\n",
    "       53, 54, 45, 19, 20, 47, 55, 39, 41, 7,\n",
    "       9, 17, 26, 27, 42, 22, 37, 51, 46, 18,\n",
    "       44, 30, 34, 13, 15, 35, 33, 16, 50, 24]\n",
    "\n",
    "full_set = set(range(min(number_list), max(number_list)))\n",
    "print(\"full_set      -->\", full_set)\n",
    "number_set = set(number_list)\n",
    "print(\"number_set    -->\", number_set)\n",
    "\n",
    "kayıp_sayılar = full_set - number_set\n",
    "\n",
    "print(\"Kayıp Sayılar -->\",kayıp_sayılar)"
   ]
  },
  {
   "cell_type": "markdown",
   "metadata": {},
   "source": [
    "    ÖDEV: Bir markete gittiniz. Markette her ürünün bir kod numarası var. 1 : Elma 2 : Portakal 3 : Çilek 4 : Yumurta 5 : Havuç 6 : Artmut ... vs. şeklinde. Kullanıcıya almak istediğini ürünü sorunuz ve kod numarası ile seçim yaptırınız. Çıkış için \"q\" opsiyonunu sununuz. Kullanıcının her ürün seçimi sonrası \"....elma sepete eklendi\" gibi bir dönüt veriniz. Kullanıcı ürün almaya devam ettikçe ürünleri bir listede toplayınız. almaktan vazgeçtiği durumda teşekkür edip, aldığı toplam ürünleri çıktı veren bir kod yazınız. Çıktı: Teşekkür ederiz... Sepetinizde Bulunan Ürünler: elma, armut, yumurta ...vs.\n",
    "\n",
    "    1. Adım: Liste oluştur: \n",
    "        [1 : Elma 2 : Portakal 3 : Çilek 4 : Yumurta 5 : Havuç 6 : Artmut]\n",
    "    2. Adım: Kullanıcıdan seçim sorun.\n",
    "    3. Adım: Eğer daha önceden seçilmişse, uyarı yap ve listeyi tekrar önüne sun.\n",
    "    4. Adım: Daha önceden seçilmemişse, sepete ekle ve listeyi tekrar önüne sun.\n",
    "    5. Adım: q'ya bastığı zaman, kod çalışmayı bitirsin."
   ]
  },
  {
   "cell_type": "code",
   "execution_count": 5,
   "metadata": {},
   "outputs": [
    {
     "name": "stdout",
     "output_type": "stream",
     "text": [
      "ÜRÜN LİSTESİ\n",
      "1 - Elma\n",
      "2 - Çilek\n",
      "3 - Armut\n",
      "4 - Portakal\n",
      "5 - Muz\n",
      "6 - Domates\n",
      "7 - Soğan\n",
      "8 - Biber\n",
      "9 - Salatalık\n",
      "10 - Su (1.5 Litre)\n",
      "\n",
      "Armut sepete eklendi\n",
      "\n",
      "ÜRÜN LİSTESİ\n",
      "1 - Elma\n",
      "2 - Çilek\n",
      "3 - Armut\n",
      "4 - Portakal\n",
      "5 - Muz\n",
      "6 - Domates\n",
      "7 - Soğan\n",
      "8 - Biber\n",
      "9 - Salatalık\n",
      "10 - Su (1.5 Litre)\n",
      "\n",
      "Muz sepete eklendi\n",
      "\n",
      "ÜRÜN LİSTESİ\n",
      "1 - Elma\n",
      "2 - Çilek\n",
      "3 - Armut\n",
      "4 - Portakal\n",
      "5 - Muz\n",
      "6 - Domates\n",
      "7 - Soğan\n",
      "8 - Biber\n",
      "9 - Salatalık\n",
      "10 - Su (1.5 Litre)\n",
      "\n",
      "Alışverişinizi sonlandırdınız. İşte sepetinizdeki ürünler:\n",
      "['Armut', 'Muz']\n"
     ]
    }
   ],
   "source": [
    "import time\n",
    "\n",
    "ürün_kodları = [1, 2, 3, 4, 5, 6, 7, 8, 9, 10]\n",
    "ürünler = [\"Elma\", \"Çilek\", \"Armut\", \"Portakal\", \"Muz\", \"Domates\", \"Soğan\", \"Biber\", \"Salatalık\", \"Su (1.5 Litre)\"]\n",
    "time.sleep(1)\n",
    "liste = list(zip(ürün_kodları, ürünler))\n",
    "my_dict = dict(zip(ürün_kodları, ürünler))\n",
    "sepet = []\n",
    "\n",
    "while True:\n",
    "    print(\"ÜRÜN LİSTESİ\")\n",
    "    for i in range(len(liste)):\n",
    "        print(f\"{liste[i][0]} - {liste[i][1]}\")\n",
    "    time.sleep(1)\n",
    "    seçim = input(\"\\nBir seçim yapın. (Alışverinizi sonlandırmak için q'ya basınız)\")\n",
    "    time.sleep(1)\n",
    "\n",
    "    if seçim.lower() == \"q\":\n",
    "        if len(sepet) == 0:\n",
    "            print(\"Hiçbir şey almadınız.\")\n",
    "        else:\n",
    "            print(\"\\nAlışverişinizi sonlandırdınız. İşte sepetinizdeki ürünler:\")\n",
    "            print(sepet)\n",
    "        break\n",
    "    time.sleep(1)\n",
    "    if seçim.isdigit():\n",
    "        if int(seçim) in sepet:\n",
    "            print(\"\\nBu ürün daha önce seçildi. Başka bir seçim yapın.\\n\")\n",
    "        elif int(seçim) in ürün_kodları:\n",
    "            sepet.append(my_dict[int(seçim)])\n",
    "            print(f\"\\n{my_dict[int(seçim)]} sepete eklendi\\n\")\n",
    "        else: \n",
    "            print(\"\\nYanlış seçim yaptınız. Lütfen doğru seçim yapın.\\n\")\n",
    "            continue\n",
    "        time.sleep(1)    \n",
    "    else: \n",
    "        print(\"\\nYanlış seçim yaptınız. Lütfen doğru seçim yapın.\\n\")"
   ]
  },
  {
   "cell_type": "code",
   "execution_count": 70,
   "metadata": {},
   "outputs": [
    {
     "name": "stdout",
     "output_type": "stream",
     "text": [
      "Marketimize Hoş Geldiniz\n",
      "Ürünlerimiz:\n",
      "1: \"Elma\"\n",
      "2: \"Çilek\"\n",
      "3: \"Armut\"\n",
      "4: \"Portakal\"\n",
      "5: \"Muz\"\n",
      "5: \"Muz\"\n",
      "\n",
      "Sepete Armut eklendi\n",
      "Sepete Muz eklendi\n",
      "Bizi tercih ettiğiniz için teşekkürler\n",
      "Almış olduğunuz ürünler: ['Armut', 'Muz']\n"
     ]
    }
   ],
   "source": [
    "# Hocanın çözümü: [Biraz daha sade yapmış, ben ekstra özellikle eklemiştim]\n",
    "ürünler = {1: \"Elma\", 2: \"Çilek\", 3: \"Armut\", 4: \"Portakal\", 5: \"Muz\", 5: \"Muz\"}\n",
    "\n",
    "print(\"Marketimize Hoş Geldiniz\")\n",
    "\n",
    "print(\"\"\"Ürünlerimiz:\n",
    "1: \"Elma\"\n",
    "2: \"Çilek\"\n",
    "3: \"Armut\"\n",
    "4: \"Portakal\"\n",
    "5: \"Muz\"\n",
    "5: \"Muz\"\n",
    "\"\"\")\n",
    "\n",
    "sepet = []\n",
    "\n",
    "while True:\n",
    "    x = input(\"Almak istediğiniz ürünün kodunu giriniz. Ürük eklemeyi bitirdiğinizde q tuşuna basınız. \").lower()\n",
    "\n",
    "    if x != \"q\":\n",
    "        sepet.append(ürünler[int(x)])\n",
    "        print(f\"Sepete {ürünler[int(x)]} eklendi\")\n",
    "    elif x == \"q\":\n",
    "        print(\"Bizi tercih ettiğiniz için teşekkürler\")\n",
    "        print(f\"Almış olduğunuz ürünler: {sepet}\")\n",
    "        break\n",
    "     "
   ]
  },
  {
   "cell_type": "code",
   "execution_count": null,
   "metadata": {},
   "outputs": [],
   "source": []
  }
 ],
 "metadata": {
  "kernelspec": {
   "display_name": "Python 3",
   "language": "python",
   "name": "python3"
  },
  "language_info": {
   "codemirror_mode": {
    "name": "ipython",
    "version": 3
   },
   "file_extension": ".py",
   "mimetype": "text/x-python",
   "name": "python",
   "nbconvert_exporter": "python",
   "pygments_lexer": "ipython3",
   "version": "3.9.13"
  }
 },
 "nbformat": 4,
 "nbformat_minor": 2
}
