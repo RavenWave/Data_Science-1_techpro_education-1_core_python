{
 "cells": [
  {
   "cell_type": "markdown",
   "metadata": {},
   "source": [
    "# **SESSION_14: WHILE DÖNGÜSÜ**"
   ]
  },
  {
   "cell_type": "markdown",
   "metadata": {},
   "source": [
    "    Sonsuz döngüye girmesi bir risktir, o yüzden dikkatli olmak gerekir. For döngüsü kolay kolay gitmez.\n",
    "\n",
    "    while döngüsü, içerisinde True bir ifade veya koşul olduğu zaman çalışır. O ifade veya koşul ne zaman False'a dönerse o zaman durur.\n",
    "\n",
    "    "
   ]
  },
  {
   "cell_type": "markdown",
   "metadata": {},
   "source": [
    "### **1️⃣ Isınma Turları**"
   ]
  },
  {
   "cell_type": "code",
   "execution_count": 5,
   "metadata": {},
   "outputs": [
    {
     "name": "stdout",
     "output_type": "stream",
     "text": [
      "Bu döngü koşul sağlandıkça çıktı verir. Yani x sayısı 10'dan büyük olana kadar döngü devam eder.\n",
      "Bu döngü koşul sağlandıkça çıktı verir. Yani x sayısı 10'dan büyük olana kadar döngü devam eder.\n",
      "Bu döngü koşul sağlandıkça çıktı verir. Yani x sayısı 10'dan büyük olana kadar döngü devam eder.\n",
      "Bu döngü koşul sağlandıkça çıktı verir. Yani x sayısı 10'dan büyük olana kadar döngü devam eder.\n",
      "Bu döngü koşul sağlandıkça çıktı verir. Yani x sayısı 10'dan büyük olana kadar döngü devam eder.\n",
      "Bu döngü koşul sağlandıkça çıktı verir. Yani x sayısı 10'dan büyük olana kadar döngü devam eder.\n",
      "Bu döngü koşul sağlandıkça çıktı verir. Yani x sayısı 10'dan büyük olana kadar döngü devam eder.\n"
     ]
    }
   ],
   "source": [
    "x = 4\n",
    "\n",
    "while 10 >= x:\n",
    "    print(\"Bu döngü koşul sağlandıkça çıktı verir. Yani x sayısı 10'dan büyük olana kadar döngü devam eder.\")\n",
    "    x = x + 1"
   ]
  },
  {
   "cell_type": "code",
   "execution_count": 6,
   "metadata": {},
   "outputs": [
    {
     "name": "stdout",
     "output_type": "stream",
     "text": [
      "2\n",
      "3\n",
      "4\n",
      "5\n",
      "6\n",
      "7\n",
      "8\n",
      "9\n",
      "10\n"
     ]
    }
   ],
   "source": [
    "x = 1\n",
    "\n",
    "while x < 10:\n",
    "    x = x + 1       # bu sefer yazdırmaya 2'den başlayıp 10'a kadar devam edecek\n",
    "    print(x)"
   ]
  },
  {
   "cell_type": "code",
   "execution_count": 3,
   "metadata": {},
   "outputs": [],
   "source": [
    "while False:\n",
    "    print(\"Gördüğün gibi soluk renkte. Bu, çıktı vermeyeceğinin önceden bilindiği anlamına gelir. Ayrıca False yerine \"\" ve 0'da olsa çıktı vermez.\")"
   ]
  },
  {
   "cell_type": "code",
   "execution_count": 4,
   "metadata": {},
   "outputs": [
    {
     "name": "stdout",
     "output_type": "stream",
     "text": [
      "y değişkeni False olana kadar çalışmaya devam eder.\n"
     ]
    }
   ],
   "source": [
    "y = True\n",
    "\n",
    "while y:\n",
    "    print(\"y değişkeni False olana kadar çalışmaya devam eder.\")\n",
    "    y = False               # eğer burada y = False demeseydik sonsuza kadar çalışırdı.\n"
   ]
  },
  {
   "cell_type": "code",
   "execution_count": 6,
   "metadata": {},
   "outputs": [
    {
     "name": "stdout",
     "output_type": "stream",
     "text": [
      "deneme 1\n",
      "deneme 2\n",
      "deneme 3\n"
     ]
    }
   ],
   "source": [
    "x = 1\n",
    "\n",
    "while x <= 3:\n",
    "    print(f\"deneme: {x}\")        # f stringin kurstaki ilk kullanımı burasıdır\n",
    "    x += 1"
   ]
  },
  {
   "cell_type": "code",
   "execution_count": 7,
   "metadata": {},
   "outputs": [
    {
     "name": "stdout",
     "output_type": "stream",
     "text": [
      "1'in karesi: 1\n",
      "2'in karesi: 4\n",
      "3'in karesi: 9\n",
      "4'in karesi: 16\n",
      "5'in karesi: 25\n"
     ]
    }
   ],
   "source": [
    "x = 1\n",
    "\n",
    "while x <= 5:\n",
    "    print(f\"{x}'in karesi: {x ** 2}\")\n",
    "    x += 1"
   ]
  },
  {
   "cell_type": "code",
   "execution_count": 8,
   "metadata": {},
   "outputs": [
    {
     "name": "stdout",
     "output_type": "stream",
     "text": [
      "80 yanlış tahmin\n",
      "14 yanlış tahmin\n"
     ]
    }
   ],
   "source": [
    "# çok güzel bir örnek incele. \n",
    "\n",
    "x = int(input(\"Kilomu tahmin et: 10'un katlarını kullanabilirsin.\"))\n",
    "\n",
    "while x < 90:\n",
    "    print(f\"{x} yanlış tahmin\")\n",
    "    x = int(input(\"Kilomu tahmin et: 10'un katlarını kullanabilirsin.\"))    # input'u içeri alabiliyoruz. 90 ve üzerinde bir sayı yazılana kadar devam eder kod çalışmaya."
   ]
  },
  {
   "cell_type": "code",
   "execution_count": 12,
   "metadata": {},
   "outputs": [
    {
     "name": "stdout",
     "output_type": "stream",
     "text": [
      "Girdiğiniz sayı: 12. \n",
      "Tahmini arttır. \n",
      "Girdiğiniz sayı: 69. \n",
      "Tahmini azalt. \n",
      "Girdiğiniz sayı: 5. \n",
      "Tahmini arttır. \n",
      "Girdiğiniz sayı: 55.  \n",
      "Doğru bildiniz, tebrikler. \n"
     ]
    }
   ],
   "source": [
    "y = True\n",
    "aklımdaki_sayı = 55\n",
    "\n",
    "while y:\n",
    "    tahmin = int(input(\"1 ile 100 arasında bir sayı tahmin edin.\"))\n",
    "    if aklımdaki_sayı < tahmin:\n",
    "        print(f\"Girdiğiniz sayı: {tahmin}. \\nTahmini azalt. \")\n",
    "    elif aklımdaki_sayı > tahmin:\n",
    "        print(f\"Girdiğiniz sayı: {tahmin}. \\nTahmini arttır. \")\n",
    "    else:\n",
    "        print(f\"Girdiğiniz sayı: {tahmin}.  \\nDoğru bildiniz, tebrikler. \")\n",
    "        y = False"
   ]
  },
  {
   "cell_type": "code",
   "execution_count": 14,
   "metadata": {},
   "outputs": [
    {
     "name": "stdout",
     "output_type": "stream",
     "text": [
      "Girdiğiniz sayı: 12. \n",
      "Tahmini arttır. \n",
      "Girdiğiniz sayı: 3. \n",
      "Tahmini arttır. \n",
      "Girdiğiniz sayı: 33. \n",
      "Tahmini arttır. \n",
      "Girdiğiniz sayı: 44. \n",
      "Tahmini arttır. \n",
      "Girdiğiniz sayı: 55. 5 denemede bildiniz, tebrikler. \n"
     ]
    }
   ],
   "source": [
    "y = True\n",
    "aklımdaki_sayı = 55\n",
    "sayaç = 0\n",
    "\n",
    "while y:\n",
    "    tahmin = int(input(\"1 ile 100 arasında bir sayı tahmin edin.\"))\n",
    "    sayaç += 1\n",
    "    if aklımdaki_sayı < tahmin:\n",
    "        print(f\"Girdiğiniz sayı: {tahmin}. \\nTahmini azalt. \")\n",
    "    elif aklımdaki_sayı > tahmin:\n",
    "        print(f\"Girdiğiniz sayı: {tahmin}. \\nTahmini arttır. \")\n",
    "    else:\n",
    "        print(f\"Girdiğiniz sayı: {tahmin}. {sayaç} denemede bildiniz, tebrikler. \")\n",
    "        y = False"
   ]
  },
  {
   "cell_type": "code",
   "execution_count": 17,
   "metadata": {},
   "outputs": [
    {
     "name": "stdout",
     "output_type": "stream",
     "text": [
      "Girdiğiniz sayı: 12. \n",
      "Tahmini arttır. \n",
      "Girdiğiniz sayı: 32. \n",
      "Tahmini arttır. \n",
      "Girdiğiniz sayı: 54. \n",
      "Tahmini arttır. \n",
      "Girdiğiniz sayı: 776. \n",
      "Tahmini azalt. \n",
      "Girdiğiniz sayı: 6. \n",
      "Tahmini arttır. \n",
      "Deneme hakkınızı doldurdunuz.\n"
     ]
    }
   ],
   "source": [
    "# buradaki sayaç kullanımı hoşuma gitti.\n",
    "\n",
    "y = True\n",
    "aklımdaki_sayı = 55\n",
    "sayaç = 0\n",
    "\n",
    "while y:\n",
    "    tahmin = int(input(\"1 ile 100 arasında bir sayı tahmin edin.\"))\n",
    "    sayaç += 1\n",
    "    if aklımdaki_sayı < tahmin:\n",
    "        print(f\"Girdiğiniz sayı: {tahmin}. \\nTahmini azalt. \")\n",
    "    elif aklımdaki_sayı > tahmin:\n",
    "        print(f\"Girdiğiniz sayı: {tahmin}. \\nTahmini arttır. \")\n",
    "    else:\n",
    "        print(f\"Girdiğiniz sayı: {tahmin}. {sayaç} denemede bildiniz, tebrikler. \")\n",
    "        y = False\n",
    "    if sayaç == 5:\n",
    "        print(f\"Deneme hakkınızı doldurdunuz.\")\n",
    "        y = False"
   ]
  },
  {
   "cell_type": "code",
   "execution_count": 3,
   "metadata": {},
   "outputs": [
    {
     "name": "stdout",
     "output_type": "stream",
     "text": [
      "1\n",
      "9\n",
      "16\n",
      "36\n",
      "25\n",
      "49\n"
     ]
    }
   ],
   "source": [
    "# list'in elemarının karesini döndüren döngü:\n",
    "\n",
    "sayılar_listesi = [1, 3, 4, 6, 5, 7]\n",
    "i = 0\n",
    "while i < len(sayılar_listesi):\n",
    "    print(sayılar_listesi[i] ** 2)\n",
    "    i += 1"
   ]
  },
  {
   "cell_type": "code",
   "execution_count": 5,
   "metadata": {},
   "outputs": [
    {
     "name": "stdout",
     "output_type": "stream",
     "text": [
      "[1, 9, 16, 36, 25, 49]\n"
     ]
    }
   ],
   "source": [
    "# bu sefer karelerini bir list içerisinde yazdırıp öyle çıtkı alalım:\n",
    "\n",
    "sayılar_listesi = [1, 3, 4, 6, 5, 7]\n",
    "boş_liste = []\n",
    "i = 0\n",
    "while i < len(sayılar_listesi):\n",
    "    boş_liste.append(sayılar_listesi[i] ** 2)\n",
    "    i += 1\n",
    "print(boş_liste)"
   ]
  },
  {
   "cell_type": "code",
   "execution_count": 6,
   "metadata": {},
   "outputs": [
    {
     "name": "stdout",
     "output_type": "stream",
     "text": [
      "[16, 36]\n"
     ]
    }
   ],
   "source": [
    "# list'in elemanlarından çift olanların karesini bir liste içerisinde yazdıralım:\n",
    "\n",
    "sayılar_listesi = [1, 3, 4, 6, 5, 7]\n",
    "boş_liste = []\n",
    "i = 0\n",
    "while i < len(sayılar_listesi):\n",
    "    if sayılar_listesi[i] % 2 == 0:\n",
    "        boş_liste.append(sayılar_listesi[i] ** 2)\n",
    "    i += 1\n",
    "print(boş_liste)"
   ]
  },
  {
   "cell_type": "markdown",
   "metadata": {},
   "source": [
    "### **2️⃣ Ödev**"
   ]
  },
  {
   "cell_type": "markdown",
   "metadata": {},
   "source": [
    "    [1, 5, 6, 7, 12, 14, 15, 18, 18, 32, 25] listesinin tek olan elemanlarının karesini, çift olan elemanlarının ise iki katını bir liste döndür."
   ]
  },
  {
   "cell_type": "code",
   "execution_count": 10,
   "metadata": {},
   "outputs": [
    {
     "name": "stdout",
     "output_type": "stream",
     "text": [
      "[1, 25, 12, 49, 24, 28, 225, 36, 36, 64, 625]\n"
     ]
    }
   ],
   "source": [
    "verilen_liste = [1, 5, 6, 7, 12, 14, 15, 18, 18, 32, 25]\n",
    "i = 0 \n",
    "verilen_liste_length = len(verilen_liste)\n",
    "boş_liste = []\n",
    "\n",
    "while i < verilen_liste_length:\n",
    "    if verilen_liste[i] % 2 == 0:\n",
    "        boş_liste.append(verilen_liste[i] * 2)\n",
    "    else:\n",
    "        boş_liste.append(verilen_liste[i] ** 2)\n",
    "    i += 1\n",
    "print(boş_liste)"
   ]
  },
  {
   "cell_type": "markdown",
   "metadata": {},
   "source": [
    "    Yukarıdaki ödeve hoca değişik bir bakış açısı getirmiş:"
   ]
  },
  {
   "cell_type": "code",
   "execution_count": 1,
   "metadata": {},
   "outputs": [
    {
     "name": "stdout",
     "output_type": "stream",
     "text": [
      "[1, 25, 12, 49, 24, 28, 225, 36, 36, 64, 625]\n"
     ]
    }
   ],
   "source": [
    "verilen_liste = [1, 5, 6, 7, 12, 14, 15, 18, 18, 32, 25]\n",
    "i = 0 \n",
    "verilen_liste_length = len(verilen_liste)\n",
    "boş_liste = []\n",
    "\n",
    "while i < verilen_liste_length:\n",
    "    if verilen_liste[i] % 2:         # eğer bunun çıktısı 0 değilse, demektir ki Truty bir ifade döndürecek. Yoksa 0 yani Falsie ifade bizi else ifadesine gönderecek\n",
    "        boş_liste.append(verilen_liste[i] ** 2)\n",
    "    else:\n",
    "        boş_liste.append(verilen_liste[i] * 2)\n",
    "    i += 1\n",
    "print(boş_liste)"
   ]
  }
 ],
 "metadata": {
  "kernelspec": {
   "display_name": "Python 3",
   "language": "python",
   "name": "python3"
  },
  "language_info": {
   "codemirror_mode": {
    "name": "ipython",
    "version": 3
   },
   "file_extension": ".py",
   "mimetype": "text/x-python",
   "name": "python",
   "nbconvert_exporter": "python",
   "pygments_lexer": "ipython3",
   "version": "3.9.13"
  }
 },
 "nbformat": 4,
 "nbformat_minor": 2
}
