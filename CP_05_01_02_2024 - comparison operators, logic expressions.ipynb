{
 "cells": [
  {
   "cell_type": "markdown",
   "metadata": {},
   "source": [
    "# **SESSION_5: COMPARISON OPERATORS, LOGIC EXPRESSIONS**"
   ]
  },
  {
   "cell_type": "markdown",
   "metadata": {},
   "source": [
    "> ### Comparison Operators, Python'da bir değer ile başka bir değeri karşılaştırır. Ve bu karşılaştırmaların  sonucu boolean olarak döner yani True veya False olarak.\n",
    "\n",
    ">> 1. Operator, Büyüktür ➡➡➡ >      \n",
    "\n",
    ">> 2. Operator, Küçüktür ➡➡➡ <     \n",
    "\n",
    ">> 4. Operator, Büyük Eşittir ➡➡➡    >=     # burada sesli olarak \"büyük eşittir\" olacak şekilde sıralı yazılmalı\n",
    "\n",
    ">> 5. Operator, Küçük Eşittir ➡➡➡    <=    # burada sesli olarak \"küçük eşittir\" olacak şekilde sıralı yazılmalı\n",
    "\n",
    ">> 6. Operator, Eşittir ➡➡➡  ==    \n",
    "\n",
    ">> 7. Operator, Eşit Değildir ➡➡➡    !=    \n",
    "\n"
   ]
  },
  {
   "cell_type": "code",
   "execution_count": 13,
   "metadata": {},
   "outputs": [
    {
     "name": "stdout",
     "output_type": "stream",
     "text": [
      "True\n",
      "False\n",
      "False\n",
      "True\n",
      "True\n",
      "True\n",
      "False\n",
      "True\n"
     ]
    }
   ],
   "source": [
    "print(5 > 4)\n",
    "\n",
    "print(6 > 6)\n",
    "\n",
    "print(6 < 6)\n",
    "\n",
    "print(6 >= 6)\n",
    "\n",
    "print(6 <= 6)\n",
    "\n",
    "print(8 == 8)\n",
    "\n",
    "print(8 == 9)\n",
    "\n",
    "print(8 != 9)"
   ]
  },
  {
   "cell_type": "code",
   "execution_count": 5,
   "metadata": {},
   "outputs": [
    {
     "data": {
      "text/plain": [
       "bool"
      ]
     },
     "execution_count": 5,
     "metadata": {},
     "output_type": "execute_result"
    }
   ],
   "source": [
    "type(5 < 7)"
   ]
  },
  {
   "cell_type": "code",
   "execution_count": 6,
   "metadata": {},
   "outputs": [
    {
     "data": {
      "text/plain": [
       "False"
      ]
     },
     "execution_count": 6,
     "metadata": {},
     "output_type": "execute_result"
    }
   ],
   "source": [
    "sifre = \"1234\"\n",
    "\n",
    "kull_girisi = input(\"Sifrenizi girin\")\n",
    "\n",
    "sifre == kull_girisi "
   ]
  },
  {
   "cell_type": "code",
   "execution_count": 15,
   "metadata": {},
   "outputs": [
    {
     "data": {
      "text/plain": [
       "True"
      ]
     },
     "execution_count": 15,
     "metadata": {},
     "output_type": "execute_result"
    }
   ],
   "source": [
    "True > 0.6 # Matematiksel karşlığı --> 1 > 0.6"
   ]
  },
  {
   "cell_type": "markdown",
   "metadata": {},
   "source": [
    ">> True --> 1\n",
    "\n",
    ">> False --> 0  "
   ]
  },
  {
   "cell_type": "code",
   "execution_count": 16,
   "metadata": {},
   "outputs": [
    {
     "data": {
      "text/plain": [
       "False"
      ]
     },
     "execution_count": 16,
     "metadata": {},
     "output_type": "execute_result"
    }
   ],
   "source": [
    "False > 2"
   ]
  },
  {
   "cell_type": "markdown",
   "metadata": {},
   "source": [
    "# 💥 ASCII TABLOSU 💥\n",
    "\n",
    ">> Her bir karakterin sayısal bir karşılığı varıdır. Bu değerlere ASCII tablosundan bakabiliyoruz. Örneğin büyük A'nın sayısal değeri 65 iken, küçük a'nın sayısal değeri 97'dir. \n",
    "\n",
    ">> İki tane string'i birbiriyle kıyaslarken, Python her bir string'in ilk karakterine bakar. İki string arasında ilk karakterinin sayısal değeri daha büyük olan string diğer sring'den büyük oluyor. ÖR: \"sedat\" > \"istanbul\" ---> True olarak döndürür. Çünkü s harfinin sayısal değeri 115 iken i harfinin sayısal değeri 105'tir. \n",
    "\n",
    ">> Eğer her iki string'de aynı karakter ile başlıyorsa, Python bu iki string'in farklı karakterlerini bulana kadar kıyaslama devam eder. ÖR: \"feda\" > \"fener\" --> False olarak döndürür. Çünkü d'nin sayısal değeri n'den daha küçüktür.\n",
    "\n",
    ">> Bu işlemler sadece 2 tane string arasında olabilir. Mesela bir string ile bir integer arasında yapılamaz.\n",
    "\n",
    "✅ **ord() fonksiyounun içine bir string ifadesini yazarsan, sana o string ifadenin ASCI karşılığını verir. ÖR: ord(\"a\") = 97** ✅\n",
    "\n",
    "✅ **chr() fonksiyonu ise ord() fonksiyonunun tam tersini yapar: chr(105) = 'i'** ✅\n"
   ]
  },
  {
   "cell_type": "code",
   "execution_count": 35,
   "metadata": {},
   "outputs": [
    {
     "name": "stdout",
     "output_type": "stream",
     "text": [
      "True\n",
      "False\n",
      "True\n"
     ]
    }
   ],
   "source": [
    "print(\"sedat\" > \"istanbul\") # --> print(115>105) aslında yapılan işlem budur.\n",
    "print(\"feda\" > \"fener\") \n",
    "print(\"emre\" < \"irem\")"
   ]
  },
  {
   "cell_type": "code",
   "execution_count": 44,
   "metadata": {},
   "outputs": [
    {
     "name": "stdout",
     "output_type": "stream",
     "text": [
      "97\n",
      "98\n",
      "99\n",
      "122\n",
      "90\n",
      "\n",
      "z\n",
      "i\n",
      "Ë\n"
     ]
    }
   ],
   "source": [
    "print(ord(\"a\"))\n",
    "print(ord(\"b\"))\n",
    "print(ord(\"c\"))\n",
    "print(ord(\"z\"))\n",
    "print(ord(\"Z\"))\n",
    "print(\"\")\n",
    "print(chr(122))\n",
    "print(chr(105))\n",
    "print(chr(203))"
   ]
  },
  {
   "cell_type": "markdown",
   "metadata": {},
   "source": [
    "# 💢 **BOOLEAN** 💢\n",
    "\n",
    ">> bool() fonksiyonu içerisine yazılan ifadenin boolean karşılığını verir.\n",
    "\n",
    ">> boolean karşılığı false olan ifadeler: \"\", 0, 0.0, [], (), {}, None, False"
   ]
  },
  {
   "cell_type": "code",
   "execution_count": 54,
   "metadata": {},
   "outputs": [
    {
     "name": "stdout",
     "output_type": "stream",
     "text": [
      "True\n",
      "True\n",
      "True\n",
      "False\n",
      "False\n",
      "True\n",
      "True\n",
      "True\n"
     ]
    }
   ],
   "source": [
    "print(bool(\"sedat\"))\n",
    "print(bool(\"False\"))\n",
    "print(bool(\" \"))\n",
    "print(bool(\"\"))\n",
    "print(bool(0))\n",
    "print(bool(\"0\"))\n",
    "print(bool(0.31211))\n",
    "print(bool(-20))\n"
   ]
  },
  {
   "cell_type": "markdown",
   "metadata": {},
   "source": [
    "#  ❗❗ LOGIC EXPRESSIONS ❗❗\n",
    "\n",
    "### İşlem önceliğine göre:\n",
    "\n",
    "#### **not** --> işlem sonucu her zaman true veya false'tır.\n",
    "\n",
    ">> Bir ifadenin önüne geldiği zaman onun tersini yazdırır.\n",
    "\n",
    "#### **and**\n",
    "\n",
    ">> Hepsi True ise en sondaki elemanı döndürür. Bir tane bile False varsa, ilk gördüğü False'u döndürür.\n",
    "\n",
    "#### **or**\n",
    "\n",
    ">> Hepsi False ise en sondakini döndürür, bir tane bile True varsa ilk gördüğü True'yu döndürür."
   ]
  },
  {
   "cell_type": "code",
   "execution_count": 55,
   "metadata": {},
   "outputs": [
    {
     "name": "stdout",
     "output_type": "stream",
     "text": [
      "False\n",
      "True\n"
     ]
    }
   ],
   "source": [
    "print(5 > 5)\n",
    "print(5 >= 5)"
   ]
  },
  {
   "cell_type": "code",
   "execution_count": 64,
   "metadata": {},
   "outputs": [
    {
     "name": "stdout",
     "output_type": "stream",
     "text": [
      "True\n",
      "False\n",
      "\n",
      "True\n",
      "False\n",
      "\n",
      "False\n",
      "True\n",
      "\n",
      "False\n",
      "True\n"
     ]
    }
   ],
   "source": [
    "print(not False) # --> True yazdırır\n",
    "print(not True) # --> False yazdırır\n",
    "print(\"\")\n",
    "print(bool(\"Techpro\"))\n",
    "print(not \"Techpro\")\n",
    "print(\"\")\n",
    "print(bool(0))\n",
    "print(not 0)\n",
    "print(\"\")\n",
    "print(bool(\"\"))\n",
    "print(not \"\")"
   ]
  },
  {
   "cell_type": "markdown",
   "metadata": {},
   "source": [
    "📝**DİPNOT1: Boolean karşılığı False olan bir ifadeye biz \"Falsy\" ifade diyoruz, aynı şekilde tam tersi olana da \"Truty\" ifade diyoruz.**\n",
    "\n",
    "📝**DİPNOT2: Bütün koşulların True olmasını istiyorsak and kullanırız. Koşullardan bir tanesinin bile True olması yetiyorsa or kullanırız.**"
   ]
  },
  {
   "cell_type": "code",
   "execution_count": 90,
   "metadata": {},
   "outputs": [
    {
     "name": "stdout",
     "output_type": "stream",
     "text": [
      "True\n",
      "True\n",
      "8\n",
      "\n",
      "False\n",
      "0\n",
      "\n",
      "False\n",
      "\n",
      "\n",
      "\n",
      "True\n",
      "\n",
      "False\n",
      "\n",
      "\n",
      "\n",
      "15\n"
     ]
    }
   ],
   "source": [
    "print(bool(5))\n",
    "print(bool(8))\n",
    "print(5 and 8) # 5 ve 8 ifadelerinin booelan karşılığı True olduğu için 8 ifadesini döndürdü.\n",
    "print(\"\")\n",
    "print(bool(0))\n",
    "print(5 and 0 and 8) # --> Boolean karşılığı False olan ilk ifadeyi döndürdük.\n",
    "print(\"\")\n",
    "print(5 and False and 0 and 8)\n",
    "print(\"\")\n",
    "print(\"\" and 0 and False)\n",
    "print(\"\")\n",
    "print(5 and 7 and True)\n",
    "print(\"\")\n",
    "print(0 or False)\n",
    "print(\"\")\n",
    "print(0 or 0.0 or \"\")\n",
    "print(\"\")\n",
    "print(0 or 15 or 20 or True)"
   ]
  },
  {
   "cell_type": "code",
   "execution_count": 96,
   "metadata": {},
   "outputs": [
    {
     "name": "stdout",
     "output_type": "stream",
     "text": [
      "True\n",
      "3.14\n",
      "True\n",
      "kahoot\n",
      "True\n"
     ]
    }
   ],
   "source": [
    "print(False or 5 and not 0)\n",
    "print(3.14 or True)\n",
    "print(True or 3.14)\n",
    "print(False or not 0 and 6 and \"kahoot\")\n",
    "print(True or False and not 0 and 3 or False) # Bu örnekte \"True or...\" dan sonrasının bi önemi yok. Çünkü or varsa ve True varsa ilk sırada direkt onu seçer zaten.\n"
   ]
  },
  {
   "cell_type": "code",
   "execution_count": null,
   "metadata": {},
   "outputs": [],
   "source": []
  }
 ],
 "metadata": {
  "kernelspec": {
   "display_name": "Python 3",
   "language": "python",
   "name": "python3"
  },
  "language_info": {
   "codemirror_mode": {
    "name": "ipython",
    "version": 3
   },
   "file_extension": ".py",
   "mimetype": "text/x-python",
   "name": "python",
   "nbconvert_exporter": "python",
   "pygments_lexer": "ipython3",
   "version": "3.9.13"
  }
 },
 "nbformat": 4,
 "nbformat_minor": 2
}
