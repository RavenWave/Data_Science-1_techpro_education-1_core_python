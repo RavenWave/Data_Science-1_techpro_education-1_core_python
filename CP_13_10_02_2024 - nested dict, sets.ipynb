{
 "cells": [
  {
   "cell_type": "markdown",
   "metadata": {},
   "source": [
    "# **SESSION_13: DICTIONARIES and SETS**"
   ]
  },
  {
   "cell_type": "markdown",
   "metadata": {},
   "source": [
    "## 🔉 NESTED DİCTİONARİES"
   ]
  },
  {
   "cell_type": "markdown",
   "metadata": {},
   "source": [
    ">> iç içe yerleştirilmiş olan dictionarie'lerdir nested dictionarie'ler\n"
   ]
  },
  {
   "cell_type": "code",
   "execution_count": 1,
   "metadata": {},
   "outputs": [
    {
     "data": {
      "text/plain": [
       "{'child_1': {'name': 'Emily', 'year': 2004},\n",
       " 'child_2': {'name': 'Tobias', 'year': 2007},\n",
       " 'child_3': {'name': 'Linus', 'year': 2011}}"
      ]
     },
     "execution_count": 1,
     "metadata": {},
     "output_type": "execute_result"
    }
   ],
   "source": [
    "myfamily = {\"child_1\" : {\"name\" : \"Emily\", \"year\": 2004},           # dict içinde dict kullanılmıştır\n",
    "            \"child_2\" : {\"name\" : \"Tobias\", \"year\": 2007},\n",
    "            \"child_3\" : {\"name\" : \"Linus\", \"year\": 2011}}\n",
    "\n",
    "myfamily"
   ]
  },
  {
   "cell_type": "code",
   "execution_count": 2,
   "metadata": {},
   "outputs": [
    {
     "data": {
      "text/plain": [
       "dict_items([('child_1', {'name': 'Emily', 'year': 2004}), ('child_2', {'name': 'Tobias', 'year': 2007}), ('child_3', {'name': 'Linus', 'year': 2011})])"
      ]
     },
     "execution_count": 2,
     "metadata": {},
     "output_type": "execute_result"
    }
   ],
   "source": [
    "myfamily.items()"
   ]
  },
  {
   "cell_type": "code",
   "execution_count": 4,
   "metadata": {},
   "outputs": [
    {
     "data": {
      "text/plain": [
       "dict_keys(['child_1', 'child_2', 'child_3'])"
      ]
     },
     "execution_count": 4,
     "metadata": {},
     "output_type": "execute_result"
    }
   ],
   "source": [
    "myfamily.keys()     # 3 ayrı key var "
   ]
  },
  {
   "cell_type": "code",
   "execution_count": 6,
   "metadata": {},
   "outputs": [
    {
     "data": {
      "text/plain": [
       "dict_values([{'name': 'Emily', 'year': 2004}, {'name': 'Tobias', 'year': 2007}, {'name': 'Linus', 'year': 2011}])"
      ]
     },
     "execution_count": 6,
     "metadata": {},
     "output_type": "execute_result"
    }
   ],
   "source": [
    "myfamily.values()   # 3 ayrı key'e ait dictionary'ler bulunmaktadır."
   ]
  },
  {
   "cell_type": "code",
   "execution_count": 7,
   "metadata": {},
   "outputs": [
    {
     "data": {
      "text/plain": [
       "{'name': 'Emily', 'year': 2004}"
      ]
     },
     "execution_count": 7,
     "metadata": {},
     "output_type": "execute_result"
    }
   ],
   "source": [
    "myfamily['child_1']"
   ]
  },
  {
   "cell_type": "code",
   "execution_count": 9,
   "metadata": {},
   "outputs": [
    {
     "data": {
      "text/plain": [
       "dict"
      ]
     },
     "execution_count": 9,
     "metadata": {},
     "output_type": "execute_result"
    }
   ],
   "source": [
    "type(myfamily['child_1'])       # dict içindeki dict "
   ]
  },
  {
   "cell_type": "code",
   "execution_count": 11,
   "metadata": {},
   "outputs": [
    {
     "data": {
      "text/plain": [
       "dict_items([('name', 'Emily'), ('year', 2004)])"
      ]
     },
     "execution_count": 11,
     "metadata": {},
     "output_type": "execute_result"
    }
   ],
   "source": [
    "myfamily['child_1'].items()     # 1. çocuğa ait veriler elde edildi"
   ]
  },
  {
   "cell_type": "code",
   "execution_count": 12,
   "metadata": {},
   "outputs": [
    {
     "data": {
      "text/plain": [
       "'Tobias'"
      ]
     },
     "execution_count": 12,
     "metadata": {},
     "output_type": "execute_result"
    }
   ],
   "source": [
    "# Tobias'a ulaşalım:\n",
    "\n",
    "myfamily['child_2']['name']"
   ]
  },
  {
   "cell_type": "code",
   "execution_count": 14,
   "metadata": {},
   "outputs": [],
   "source": [
    "myfamily = {\"child_1\" : {\"name\" : (\"Emily\", \"Rose\"), \"year\": 2004},           \n",
    "            \"child_2\" : {\"name\" : \"Tobias\", \"year\": 2007},\n",
    "            \"child_3\" : {\"name\" : \"Linus\", \"year\": 2011}}"
   ]
  },
  {
   "cell_type": "code",
   "execution_count": 16,
   "metadata": {},
   "outputs": [
    {
     "data": {
      "text/plain": [
       "'Emily'"
      ]
     },
     "execution_count": 16,
     "metadata": {},
     "output_type": "execute_result"
    }
   ],
   "source": [
    "# Emily'e ulaşalım\n",
    "\n",
    "myfamily['child_1']['name'][0]"
   ]
  },
  {
   "cell_type": "markdown",
   "metadata": {},
   "source": [
    "# **SETS (KÜMELER)**"
   ]
  },
  {
   "cell_type": "markdown",
   "metadata": {},
   "source": [
    ">> Collection type'lardan bir tanesidir.\n",
    "\n",
    ">> **diğer collection type'lardan ayrılan özelliği bütün elemanlarının unique yani benzersiz olmasıdır.** \n",
    "\n",
    ">> aynı elemandan birden fazla bulunamaz\n",
    "\n",
    ">>  **🚦ÖNEMLİ🚦 kümelerin içerisinde list, dictionary ve set(küme) olamaz ama tuple olabilir**\n",
    "\n",
    ">> mutable'dır (farklı şekilde uygulaması var)\n",
    "\n",
    ">> iterable'dır (farklı şekilde uygulaması var)\n",
    "\n",
    ">> iki şekilde oluşturulu: 1) set() 2) {} \n",
    "\n",
    ">> **unordered yapıdadır yani sıralamasız**\n",
    "\n",
    ">> not: çıktıların farklı olması juptyer notebook'un özelliğidir. sıralamalar farklıdır.\n",
    "\n",
    ">> kümelerde bir sıralama söz konusu değildir. o yüzden de bildiğimiz yöntemlerle indexleme yapılamaz\n",
    "\n",
    "\n"
   ]
  },
  {
   "cell_type": "code",
   "execution_count": 17,
   "metadata": {},
   "outputs": [
    {
     "data": {
      "text/plain": [
       "{'e', 'h', 'l', 'o'}"
      ]
     },
     "execution_count": 17,
     "metadata": {},
     "output_type": "execute_result"
    }
   ],
   "source": [
    "set('hello')        # fazlalıkları siler mesela iki tane \"l\" vardır ama bir tane \"l\" çıktısı elde edilir."
   ]
  },
  {
   "cell_type": "code",
   "execution_count": 27,
   "metadata": {},
   "outputs": [
    {
     "data": {
      "text/plain": [
       "{'T', 'c', 'e', 'h', 'o', 'p', 'r'}"
      ]
     },
     "execution_count": 27,
     "metadata": {},
     "output_type": "execute_result"
    }
   ],
   "source": [
    "set('Techpro')      # içerisinde en fazla 1 adet iterable eleman olmalıdır daha fazla olamaz"
   ]
  },
  {
   "cell_type": "code",
   "execution_count": 28,
   "metadata": {},
   "outputs": [
    {
     "name": "stdout",
     "output_type": "stream",
     "text": [
      "{'o', 'T', 'h', 'c', 'p', 'e', 'r'}\n"
     ]
    }
   ],
   "source": [
    "print(set('Techpro'))       # yukarıdaki ile farklıdır. unordered özellikte olmasından böyle. indexleme yapılamaz o yüzden."
   ]
  },
  {
   "cell_type": "code",
   "execution_count": 30,
   "metadata": {},
   "outputs": [
    {
     "data": {
      "text/plain": [
       "{'black', 'blue', 'blues', 'green', 'yellow'}"
      ]
     },
     "execution_count": 30,
     "metadata": {},
     "output_type": "execute_result"
    }
   ],
   "source": [
    "{'blues', 'green', 'yellow', 'blue', 'black', 'green'}      # tekrar eden elemanları atar"
   ]
  },
  {
   "cell_type": "code",
   "execution_count": 32,
   "metadata": {},
   "outputs": [
    {
     "data": {
      "text/plain": [
       "{(4, 5, 6), 25, 3.14, True, 'mikail'}"
      ]
     },
     "execution_count": 32,
     "metadata": {},
     "output_type": "execute_result"
    }
   ],
   "source": [
    "{'mikail', 25, True, 3.14, (4, 5, 6)}   # içerisinde tuple oldu ama list, dict ve set koyarsak hata verir"
   ]
  },
  {
   "cell_type": "code",
   "execution_count": 37,
   "metadata": {},
   "outputs": [
    {
     "name": "stdout",
     "output_type": "stream",
     "text": [
      "Boş küme -->  set()\n",
      "Boş dictionary --> {}\n"
     ]
    }
   ],
   "source": [
    "# boş küme oluşturmanın tek bir yöntemi vardır:\n",
    "\n",
    "empty_set = set()\n",
    "print('Boş küme --> ',empty_set)            # boş set oluşutrmanın başka hiçbir yöntemi yoktur\n",
    "\n",
    "emty_dict = {}\n",
    "print('Boş dictionary -->', emty_dict)      # bu şekilde oluşturulan boş küme, dict olarak algılanır set olarak değil\n",
    "\n"
   ]
  },
  {
   "cell_type": "code",
   "execution_count": 41,
   "metadata": {},
   "outputs": [
    {
     "name": "stdout",
     "output_type": "stream",
     "text": [
      "['kalem', 'silgi', 'kağıt', 'kalem_ucu', 'silgi', 'defter', 'kağıt']\n",
      "{'kalem', 'defter', 'silgi', 'kalem_ucu', 'kağıt'}\n"
     ]
    }
   ],
   "source": [
    "# 1 numaralı kırtasiyeden gelen eksik malzeme bilgileri:\n",
    "liste_1 = ['kalem', 'silgi', 'kağıt', 'kalem_ucu']\n",
    "\n",
    "# 2 numaralı kırtasiyeden gelen eksik malzeme bilgileri:\n",
    "liste_2 = ['silgi', 'defter', 'kağıt']\n",
    "\n",
    "# toplamda ihtiyaç duyulan malzemeler:\n",
    "\n",
    "print(liste_1 + liste_2)        # bu şekilde yazdıırnca birden fazla aynı malzeme yazdırılır ör: silgi\n",
    "\n",
    "print(set(liste_1 + liste_2))   # ancak bu şekilde set yapıp yazdırınca tüm malzemeler unique hale gelir\n"
   ]
  },
  {
   "cell_type": "code",
   "execution_count": 43,
   "metadata": {},
   "outputs": [
    {
     "data": {
      "text/plain": [
       "{False, True, 3.5, 5}"
      ]
     },
     "execution_count": 43,
     "metadata": {},
     "output_type": "execute_result"
    }
   ],
   "source": [
    "set_1 = {True, False, 1, 5, 0.0, 3.5}       # True ve 1 arasından sadece ilk sırada yazılanı yazdırır. Aynı şekilde False ve 0.0 için de geçerli. \n",
    "set_1   "
   ]
  },
  {
   "cell_type": "code",
   "execution_count": 45,
   "metadata": {},
   "outputs": [
    {
     "data": {
      "text/plain": [
       "{0.0, True, 3.5, 5}"
      ]
     },
     "execution_count": 45,
     "metadata": {},
     "output_type": "execute_result"
    }
   ],
   "source": [
    "set_2 = {True, 0.0, 1, 5, False, 3.5}       # yazdığımız sıralam o yüzden önemli olabilmektedir\n",
    "set_2"
   ]
  },
  {
   "cell_type": "code",
   "execution_count": 47,
   "metadata": {},
   "outputs": [
    {
     "data": {
      "text/plain": [
       "[0.0, True, 3.5, 5]"
      ]
     },
     "execution_count": 47,
     "metadata": {},
     "output_type": "execute_result"
    }
   ],
   "source": [
    "# list() ile çalışır --> iterable olduğunun kanıtı \n",
    "\n",
    "list(set_2)     # artık böyle bir listede item'lara da ulaşabiliyoruz"
   ]
  },
  {
   "cell_type": "code",
   "execution_count": 48,
   "metadata": {},
   "outputs": [
    {
     "name": "stdout",
     "output_type": "stream",
     "text": [
      "0.0\n",
      "True\n",
      "3.5\n",
      "5\n"
     ]
    }
   ],
   "source": [
    "# for dönügüsü ile de çalışabiliyor ayrıca. -->  iterable olduğunun kanıtı \n",
    "\n",
    "for i in set_2:\n",
    "    print(i)"
   ]
  },
  {
   "cell_type": "markdown",
   "metadata": {},
   "source": [
    "## **METHODS**"
   ]
  },
  {
   "cell_type": "markdown",
   "metadata": {},
   "source": [
    "> ### union (birleşim), intersection (kesişim), difference (fark) --> bunlar matematikteki kümelerde de olan işlemlerdir"
   ]
  },
  {
   "cell_type": "code",
   "execution_count": 93,
   "metadata": {},
   "outputs": [
    {
     "name": "stdout",
     "output_type": "stream",
     "text": [
      "a kümesi:  {'u', 'a', 'n', 's', 'z'} \n",
      "b kümesi:  {'u', 'a', 'y', 'v', 'z'}\n"
     ]
    }
   ],
   "source": [
    "a = set('suzan')\n",
    "b = set('yavuz')\n",
    "\n",
    "print('a kümesi: ',  a, '\\nb kümesi: ', b)"
   ]
  },
  {
   "cell_type": "code",
   "execution_count": 59,
   "metadata": {},
   "outputs": [
    {
     "data": {
      "text/plain": [
       "{'a', 'n', 's', 'u', 'v', 'y', 'z'}"
      ]
     },
     "execution_count": 59,
     "metadata": {},
     "output_type": "execute_result"
    }
   ],
   "source": [
    "# union(), yani bu iki kümenin birleşimi:\n",
    "\n",
    "a.union(b)\n",
    "\n",
    "# OR (farketmez ikisi de olur):\n",
    "\n",
    "b.union(a)\n",
    "\n",
    "# union() methodunun kısa yolu --> | \n",
    "\n",
    "a | b                                   # bu şekilde union() metodu kullanılabilmektedir\n",
    "b | a "
   ]
  },
  {
   "cell_type": "code",
   "execution_count": 61,
   "metadata": {},
   "outputs": [
    {
     "data": {
      "text/plain": [
       "{'a', 'u', 'z'}"
      ]
     },
     "execution_count": 61,
     "metadata": {},
     "output_type": "execute_result"
    }
   ],
   "source": [
    "# intersection(), yani kesişim:\n",
    "\n",
    "a.intersection(b)               # a kesişim b demektir (diğerinin aynısı)\n",
    "b.intersection(a)               # b kesişim a demektir (diğerinin aynısı)\n",
    "\n",
    "# intersection() methodunun kısa yolu --> &\n",
    "\n",
    "a & b                           # bu şekilde intersection() metodu kullanılabilmektedir\n",
    "b & a"
   ]
  },
  {
   "cell_type": "code",
   "execution_count": 63,
   "metadata": {},
   "outputs": [
    {
     "data": {
      "text/plain": [
       "{'n', 's'}"
      ]
     },
     "execution_count": 63,
     "metadata": {},
     "output_type": "execute_result"
    }
   ],
   "source": [
    "# difference(), yani fark:\n",
    "\n",
    "a.difference(b)                # a fark b, yani a'da olup b'de olmayan demektir (diğeriyla aynı değildir),"
   ]
  },
  {
   "cell_type": "code",
   "execution_count": 65,
   "metadata": {},
   "outputs": [
    {
     "data": {
      "text/plain": [
       "{'v', 'y'}"
      ]
     },
     "execution_count": 65,
     "metadata": {},
     "output_type": "execute_result"
    }
   ],
   "source": [
    "b.difference(a)                # b fark a, yani b'de olup a'da olmayan demektir (diğeriyla aynı değildir)"
   ]
  },
  {
   "cell_type": "code",
   "execution_count": 66,
   "metadata": {},
   "outputs": [
    {
     "data": {
      "text/plain": [
       "{'n', 's'}"
      ]
     },
     "execution_count": 66,
     "metadata": {},
     "output_type": "execute_result"
    }
   ],
   "source": [
    "# difference() methodunun kısa yolu --> -\n",
    "\n",
    "a - b           # a.difference(b) demektir"
   ]
  },
  {
   "cell_type": "code",
   "execution_count": 67,
   "metadata": {},
   "outputs": [
    {
     "data": {
      "text/plain": [
       "{'v', 'y'}"
      ]
     },
     "execution_count": 67,
     "metadata": {},
     "output_type": "execute_result"
    }
   ],
   "source": [
    "b - a           # b.difference(a) demektir"
   ]
  },
  {
   "cell_type": "code",
   "execution_count": 68,
   "metadata": {},
   "outputs": [],
   "source": [
    "set_3 = set('fıstık')\n",
    "set_4 = set('fındık')"
   ]
  },
  {
   "cell_type": "code",
   "execution_count": 70,
   "metadata": {},
   "outputs": [
    {
     "name": "stdout",
     "output_type": "stream",
     "text": [
      "set_3 -->  {'ı', 'k', 't', 's', 'f'}\n",
      "set_4 -->  {'ı', 'd', 'k', 'n', 'f'}\n"
     ]
    }
   ],
   "source": [
    "print('set_3 --> ',set_3)\n",
    "print('set_4 --> ',set_4)"
   ]
  },
  {
   "cell_type": "code",
   "execution_count": 72,
   "metadata": {},
   "outputs": [
    {
     "name": "stdout",
     "output_type": "stream",
     "text": [
      "union() yani birleşimleri       -->  {'ı', 'd', 'k', 't', 'n', 's', 'f'}\n",
      "intersection() yani kesişimleri -->  {'ı', 'k', 'f'}\n",
      "set_3 fark set_4                -->  {'s', 't'}\n",
      "set_4 fark set_3                -->  {'n', 'd'}\n"
     ]
    }
   ],
   "source": [
    "print('union() yani birleşimleri       --> ', set_3 | set_4)\n",
    "print('intersection() yani kesişimleri --> ', set_3 & set_4)\n",
    "print('set_3 fark set_4                --> ', set_3 - set_4)\n",
    "print('set_4 fark set_3                --> ', set_4 - set_3)"
   ]
  },
  {
   "cell_type": "code",
   "execution_count": 79,
   "metadata": {},
   "outputs": [
    {
     "name": "stdout",
     "output_type": "stream",
     "text": [
      "Birinci yöntem --> {'n', 's', 't', 'd'}\n",
      "İkinci yöntem  --> {'n', 's', 't', 'd'}\n"
     ]
    }
   ],
   "source": [
    "# soru: set_3 ve set_4 içerisinde yer alan itemlerin tek bir yerde yer almasını istiyor hoca:\n",
    "\n",
    "my_set_1 = set_3 - set_4\n",
    "my_set_2 = set_4 - set_3\n",
    "my_set_final = my_set_1 | my_set_2\n",
    "\n",
    "print('Birinci yöntem -->', my_set_final)\n",
    "\n",
    "# or:\n",
    "\n",
    "my_set_union = set_3 | set_4\n",
    "my_set_intersection = set_3 & set_4\n",
    "my_set_final2 = my_set_union - my_set_intersection\n",
    "\n",
    "print('İkinci yöntem  -->', my_set_final2)"
   ]
  },
  {
   "cell_type": "code",
   "execution_count": 81,
   "metadata": {},
   "outputs": [
    {
     "data": {
      "text/plain": [
       "{'d', 'n', 's', 't'}"
      ]
     },
     "execution_count": 81,
     "metadata": {},
     "output_type": "execute_result"
    }
   ],
   "source": [
    "# symmetric_difference() yani bir önceki hücrede yaptığımız olay, iki küme arasındakji farkların toplamıdır:\n",
    "\n",
    "set_3.symmetric_difference(set_4)\n",
    "\n",
    "# symmetric_difference() methodunun kısa yolu --> ^\n",
    "\n",
    "set_3 ^ set_4               # bu şekilde symmetric_difference() metodu kullanılabilmektedir"
   ]
  },
  {
   "cell_type": "code",
   "execution_count": 82,
   "metadata": {},
   "outputs": [
    {
     "data": {
      "text/plain": [
       "{'d', 'n', 's', 't'}"
      ]
     },
     "execution_count": 82,
     "metadata": {},
     "output_type": "execute_result"
    }
   ],
   "source": [
    "# hocanın istediği örneği direkt işlemsel olarak yazarsak:\n",
    "\n",
    "(set_3 | set_4) - (set_3 & set_4)       # önce birleşimlerini aldık, sonra kesişimlerini alıp aradaki farkı bulduk\n",
    "\n",
    "(set_3 - set_4) | (set_4 - set_3)       # önce farkları bulduk sonra bu farkları birleştirdik"
   ]
  },
  {
   "cell_type": "markdown",
   "metadata": {},
   "source": [
    "## **basic operations with sets**\n"
   ]
  },
  {
   "cell_type": "code",
   "execution_count": 99,
   "metadata": {},
   "outputs": [
    {
     "data": {
      "text/plain": [
       "set()"
      ]
     },
     "execution_count": 99,
     "metadata": {},
     "output_type": "execute_result"
    }
   ],
   "source": [
    "# clear():\n",
    "\n",
    "set_3.clear()\n",
    "set_3"
   ]
  },
  {
   "cell_type": "code",
   "execution_count": 94,
   "metadata": {},
   "outputs": [
    {
     "name": "stdout",
     "output_type": "stream",
     "text": [
      "remove() öncei a kümesi   --> {'u', 'a', 'n', 's', 'z'}\n",
      "remove() sonrası a kümesi --> {'u', 'a', 'n', 'z'}\n"
     ]
    }
   ],
   "source": [
    "# remove():         \n",
    "print('remove() öncei a kümesi   -->', a)\n",
    "a.remove('s')                               # eğer içerisinde olmayan bir eleman olsaydı error verirdi\n",
    "print('remove() sonrası a kümesi -->', a)"
   ]
  },
  {
   "cell_type": "code",
   "execution_count": 95,
   "metadata": {},
   "outputs": [
    {
     "name": "stdout",
     "output_type": "stream",
     "text": [
      "pop() öncei b kümesi   --> {'u', 'a', 'y', 'v', 'z'}\n",
      "pop() sonrası b kümesi --> {'u', 'a', 'n', 'z'}\n"
     ]
    }
   ],
   "source": [
    "# pop(), rastgele bir eleman siler:\n",
    "print('pop() öncei b kümesi   -->', b)\n",
    "b.pop()\n",
    "print('pop() sonrası b kümesi -->', a)"
   ]
  },
  {
   "cell_type": "code",
   "execution_count": 100,
   "metadata": {},
   "outputs": [
    {
     "name": "stdout",
     "output_type": "stream",
     "text": [
      "set()\n",
      "{'a'}\n"
     ]
    }
   ],
   "source": [
    "# add(), eleman ekler: \n",
    "\n",
    "print(set_3)            # boş kümeydi\n",
    "set_3.add('a')\n",
    "print(set_3)"
   ]
  },
  {
   "cell_type": "code",
   "execution_count": 102,
   "metadata": {},
   "outputs": [
    {
     "data": {
      "text/plain": [
       "{'a', 'c', 'e', 'h', 'o', 'p', 'r', 't'}"
      ]
     },
     "execution_count": 102,
     "metadata": {},
     "output_type": "execute_result"
    }
   ],
   "source": [
    "# update(), eleman ekler: iterable olmalı\n",
    "\n",
    "set_3.update('techpro')\n",
    "set_3"
   ]
  },
  {
   "cell_type": "code",
   "execution_count": 108,
   "metadata": {},
   "outputs": [
    {
     "name": "stdout",
     "output_type": "stream",
     "text": [
      "{'i', 'e', 'l', 'n', 's'}\n",
      "{'n', 'e', 's'}\n",
      "False\n",
      "True\n"
     ]
    }
   ],
   "source": [
    "# issubset() önemlidir, bir kümenin başka bir kümenin alt kümesi olup olmadığını sorgularız.\n",
    "\n",
    "set_5 = set('selin')\n",
    "set_6 = set('enes')\n",
    "\n",
    "print(set_5)\n",
    "print(set_6)\n",
    "\n",
    "# set_6'da bulunan tüm item'lar set_5'de yer almaktadır. Yani set_6 kümesi set_5 kümesinin bir subset'i dir.\n",
    "\n",
    "print(set_5.issubset(set_6))       # set_5 kümesi set_6 kümesinin bir alt kümesi midir? diye sorgular -Hayır\n",
    "print(set_6.issubset(set_5))       # set_6 kümesi set_5 kümesinin bir alt kümesi midir? diye sorgular -Evet"
   ]
  },
  {
   "cell_type": "code",
   "execution_count": 109,
   "metadata": {},
   "outputs": [
    {
     "data": {
      "text/plain": [
       "True"
      ]
     },
     "execution_count": 109,
     "metadata": {},
     "output_type": "execute_result"
    }
   ],
   "source": [
    "# iki aynı küme birbirinin alt kümseisidr:\n",
    "\n",
    "set_7 = set('sine')\n",
    "set_8 = set('enis')\n",
    "\n",
    "\n",
    "set_7.issubset(set_8)"
   ]
  }
 ],
 "metadata": {
  "kernelspec": {
   "display_name": "Python 3",
   "language": "python",
   "name": "python3"
  },
  "language_info": {
   "codemirror_mode": {
    "name": "ipython",
    "version": 3
   },
   "file_extension": ".py",
   "mimetype": "text/x-python",
   "name": "python",
   "nbconvert_exporter": "python",
   "pygments_lexer": "ipython3",
   "version": "3.9.13"
  }
 },
 "nbformat": 4,
 "nbformat_minor": 2
}
