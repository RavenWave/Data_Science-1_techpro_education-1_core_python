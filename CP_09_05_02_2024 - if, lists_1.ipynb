{
 "cells": [
  {
   "cell_type": "markdown",
   "metadata": {},
   "source": [
    "# **SESSION_9: IF CLAUSE, LISTS**"
   ]
  },
  {
   "cell_type": "markdown",
   "metadata": {},
   "source": [
    "## **1) If Clause**"
   ]
  },
  {
   "cell_type": "code",
   "execution_count": 1,
   "metadata": {},
   "outputs": [
    {
     "name": "stdout",
     "output_type": "stream",
     "text": [
      "5, 2'den büyüktür\n"
     ]
    }
   ],
   "source": [
    "if 5 > 2:                                   # \"5>2\" bir koşuldur. Buraya yazdığımız koşul eğer doğru ise, kod çalışmaya devam eder.\n",
    "    print(\"5, 2'den büyüktür\")"
   ]
  },
  {
   "cell_type": "code",
   "execution_count": 2,
   "metadata": {},
   "outputs": [
    {
     "name": "stdout",
     "output_type": "stream",
     "text": [
      "32\n"
     ]
    }
   ],
   "source": [
    "if True:\n",
    "    print(8 * 4)"
   ]
  },
  {
   "cell_type": "code",
   "execution_count": 3,
   "metadata": {},
   "outputs": [
    {
     "name": "stdout",
     "output_type": "stream",
     "text": [
      "Bu kod kesinlikle çalışır.\n"
     ]
    }
   ],
   "source": [
    "if \"Techpro\":\n",
    "    print(\"Bu kod kesinlikle çalışır.\")\n"
   ]
  },
  {
   "cell_type": "code",
   "execution_count": 4,
   "metadata": {},
   "outputs": [],
   "source": [
    "if 5 < 2:\n",
    "    print(\"Bu koşulun sonucu False olduğu için, çikti alamayiz\")"
   ]
  },
  {
   "cell_type": "code",
   "execution_count": 5,
   "metadata": {},
   "outputs": [],
   "source": [
    "if False:\n",
    "    print(\"selam\")              # mesela burada \"False\"u algıladığı için print() kısmını soluk gösterdi, çünkü çıktı alamayağız False olduğu için."
   ]
  },
  {
   "cell_type": "code",
   "execution_count": 7,
   "metadata": {},
   "outputs": [
    {
     "name": "stdout",
     "output_type": "stream",
     "text": [
      "Acaba çikti verir mi?\n"
     ]
    }
   ],
   "source": [
    "if 8 == 8:\n",
    "    print(\"Acaba çikti verir mi?\")"
   ]
  },
  {
   "cell_type": "code",
   "execution_count": 9,
   "metadata": {},
   "outputs": [
    {
     "name": "stdout",
     "output_type": "stream",
     "text": [
      "if çalişmasa da ben çikti veririm.\n"
     ]
    }
   ],
   "source": [
    "if 5 < 4:\n",
    "    print(\"5, 4'ten küçüktür\")\n",
    "\n",
    "print(\"if çalişmasa da ben çikti veririm.\")"
   ]
  },
  {
   "cell_type": "code",
   "execution_count": 10,
   "metadata": {},
   "outputs": [],
   "source": [
    "if \"\":\n",
    "    print(\"Çikti verir mi?\")"
   ]
  },
  {
   "cell_type": "code",
   "execution_count": 2,
   "metadata": {},
   "outputs": [
    {
     "name": "stdout",
     "output_type": "stream",
     "text": [
      "10, 3'ten büyüktür\n",
      "30\n",
      "7\n",
      "28\n"
     ]
    }
   ],
   "source": [
    "if 10 > 3:\n",
    "    print(\"10, 3'ten büyüktür\")\n",
    "    print(10 * 3)\n",
    "    print(10 - 3)\n",
    "    age = 10 * 3 - 2\n",
    "    print(age)"
   ]
  },
  {
   "cell_type": "code",
   "execution_count": 3,
   "metadata": {},
   "outputs": [
    {
     "data": {
      "text/plain": [
       "28"
      ]
     },
     "execution_count": 3,
     "metadata": {},
     "output_type": "execute_result"
    }
   ],
   "source": [
    "age                             # if bloğunda tanımlanan age değişkeni if dışında da çalışır"
   ]
  },
  {
   "cell_type": "code",
   "execution_count": 4,
   "metadata": {},
   "outputs": [
    {
     "name": "stdout",
     "output_type": "stream",
     "text": [
      "if kismi çalisir\n"
     ]
    }
   ],
   "source": [
    "if 5 > 4:\n",
    "    print(\"if kismi çalisir\")\n",
    "else:\n",
    "    print(\"else kismi çalisir\")"
   ]
  },
  {
   "cell_type": "code",
   "execution_count": 5,
   "metadata": {},
   "outputs": [
    {
     "name": "stdout",
     "output_type": "stream",
     "text": [
      "else kismi çalisir\n"
     ]
    }
   ],
   "source": [
    "if 5 < 4:\n",
    "    print(\"if kismi çalisir\")\n",
    "else:\n",
    "    print(\"else kismi çalisir\")"
   ]
  },
  {
   "cell_type": "code",
   "execution_count": 6,
   "metadata": {},
   "outputs": [
    {
     "name": "stdout",
     "output_type": "stream",
     "text": [
      "else kismi çalisir\n"
     ]
    }
   ],
   "source": [
    "x = 8 \n",
    "if x < 5:\n",
    "    print(\"if kismi çalisir\")\n",
    "else:\n",
    "    print(\"else kismi çalisir\")"
   ]
  },
  {
   "cell_type": "code",
   "execution_count": 7,
   "metadata": {},
   "outputs": [
    {
     "name": "stdout",
     "output_type": "stream",
     "text": [
      "3. elif kısmı çalışır\n"
     ]
    }
   ],
   "source": [
    "x = 8\n",
    "if x < 5:\n",
    "    print(\"if kısmı çalışır\")\n",
    "elif x == 9:\n",
    "    print(\"1. elif kısmı çalışır\")\n",
    "elif x > 10:\n",
    "    print(\"2. elif kısmı çalışır\")\n",
    "elif x < 10:\n",
    "    print(\"3. elif kısmı çalışır\")"
   ]
  },
  {
   "cell_type": "code",
   "execution_count": 8,
   "metadata": {},
   "outputs": [
    {
     "name": "stdout",
     "output_type": "stream",
     "text": [
      "2. elif kısmı çalışır\n"
     ]
    }
   ],
   "source": [
    "x = 8\n",
    "if x < 8:\n",
    "    print(\"if kısmı çalışır\")\n",
    "elif x == 9:\n",
    "    print(\"1. elif kısmı çalışır\")\n",
    "elif x < 10:\n",
    "    print(\"2. elif kısmı çalışır\")\n",
    "elif x > 10:\n",
    "    print(\"3. elif kısmı çalışır\")"
   ]
  },
  {
   "cell_type": "code",
   "execution_count": 9,
   "metadata": {},
   "outputs": [],
   "source": [
    "x = 8\n",
    "if x < 8:\n",
    "    print(\"if çalışır\")\n",
    "elif x == 9:\n",
    "    print(\"elif çalışır\")"
   ]
  },
  {
   "cell_type": "code",
   "execution_count": 11,
   "metadata": {},
   "outputs": [
    {
     "name": "stdout",
     "output_type": "stream",
     "text": [
      "Sayı 10'dan küçüktür.\n"
     ]
    }
   ],
   "source": [
    "x = int(input(\"Lütfen 0 ile 50 arasında bir sayı girin: \"))\n",
    "\n",
    "if x < 10:\n",
    "    print(\"Sayı 10'dan küçüktür.\")\n",
    "elif x < 35:\n",
    "    print(\"Sayı 35'ten küçüktür\")\n",
    "elif x <= 50:\n",
    "    print(\"Sayı 50'ye eşit veya küçüktür\")\n",
    "else:\n",
    "    print(\"Sayı 0 ile 50 arasında değil\")"
   ]
  },
  {
   "cell_type": "code",
   "execution_count": 12,
   "metadata": {},
   "outputs": [
    {
     "name": "stdout",
     "output_type": "stream",
     "text": [
      "else\n"
     ]
    }
   ],
   "source": [
    "x = 4\n",
    "if x < 2:\n",
    "    print(\"if\")\n",
    "elif x > 5:\n",
    "    print(\"elif\")\n",
    "else:\n",
    "    print(\"else\")"
   ]
  },
  {
   "cell_type": "code",
   "execution_count": 16,
   "metadata": {},
   "outputs": [
    {
     "name": "stdout",
     "output_type": "stream",
     "text": [
      "16\n"
     ]
    }
   ],
   "source": [
    "x = 4\n",
    "if x < 2:\n",
    "    print(\"if\")\n",
    "elif x > 5:\n",
    "    print(\"elif\")\n",
    "else:\n",
    "    print(4 ** 2)"
   ]
  },
  {
   "cell_type": "markdown",
   "metadata": {},
   "source": [
    "> kahhot. 15 soru var. 5 ve altında sayı doğru ise \"dahi misin\" \n",
    "\n",
    "> 10 ve altı ise \"şaka mısın sen\"\n",
    "\n",
    "> 15 ve altı ise \"süpersin\"\n",
    "\n",
    "> doğru değer girilmezse yanlış değer girdiği belirtilsin"
   ]
  },
  {
   "cell_type": "code",
   "execution_count": 19,
   "metadata": {},
   "outputs": [
    {
     "name": "stdout",
     "output_type": "stream",
     "text": [
      "Geçersiz bir değer girdiniz.\n"
     ]
    }
   ],
   "source": [
    "doğru_sayısı = int(input(\"Kaç doğrun var? \"))\n",
    "if doğru_sayısı <= 5:\n",
    "    print(\"Dahi misin?\")\n",
    "elif doğru_sayısı <= 10:\n",
    "    print(\"şaka mısın sen?\")\n",
    "elif doğru_sayısı <= 15:\n",
    "    print(\"süpersin\")\n",
    "else:\n",
    "    print(\"Geçersiz bir değer girdiniz.\")"
   ]
  },
  {
   "cell_type": "markdown",
   "metadata": {},
   "source": [
    "## **2) Lists**\n",
    "\n",
    "> Listeler içerisinde her türden veri alabilir, string, integer, float, list, float\n",
    "\n",
    "> Bu sebepten dolayı da listeler yavaş çalışır. Listelerin en büyük dezavantajı budur. Yükü ağırdır. Ama bu bizim hissedebileceğimiz bir ağırlık değil.,\n",
    "\n",
    "> Listeler stringlerin aksine imutable değil mutable'dir yani herhangi bir atamaya ihtiyaç duymadan değiştirilebilirler.\n",
    "\n",
    "> Stringler gibi iterable'dır yani elemanlarına teker teker ulaşıp slicing vs gibi işlemle yapılabilmektedir.\n",
    "\n",
    "> Liste oluşturmanın iki yöntemi vardır. Birincisi sadece [] yaparak oluştururuz. Ya da list() formülünü kullanırız.\n",
    "\n",
    "> listeler elemanlarını virgüllerle ayırır."
   ]
  },
  {
   "cell_type": "code",
   "execution_count": 27,
   "metadata": {},
   "outputs": [
    {
     "name": "stdout",
     "output_type": "stream",
     "text": [
      "1. liste --> [1, 2, 3.154, 'Mustafa', False]\n",
      "2. liste --> ['T', 'e', 'c', 'h', 'p', 'r', 'o']\n"
     ]
    }
   ],
   "source": [
    "# 1. list oluşturma yöntemi: (Önerilir, daha yoğun tercih edilir)\n",
    "liste_1 = [1, 2, 3.154, \"Mustafa\", False]\n",
    "print(\"1. liste -->\", liste_1)\n",
    "# ikinci list oluştumra yöntemi:\n",
    "liste_2 = list(\"Techpro\")                   # bu yöntemle liste oluşturmak için iterable bir şey yazmak gerekir.\n",
    "print(\"2. liste -->\", liste_2)\n"
   ]
  },
  {
   "cell_type": "code",
   "execution_count": 28,
   "metadata": {},
   "outputs": [
    {
     "name": "stdout",
     "output_type": "stream",
     "text": [
      "liste_1'ın eleman sayısı --> 5\n",
      "liste_2'ın eleman sayısı --> 7\n"
     ]
    }
   ],
   "source": [
    "# liste eleman sayısını bulma, len() foknsiyonu kullanarak:\n",
    "print(\"liste_1'ın eleman sayısı -->\", len(liste_1))             # len() fonksiyonu iterable olan her türün eleman sayısını hesaplar, stringlerde olduğu gibi listelerde de vardır. Mesela integar'larda eror verir.\n",
    "print(\"liste_2'ın eleman sayısı -->\", len(liste_2))"
   ]
  },
  {
   "cell_type": "code",
   "execution_count": 30,
   "metadata": {},
   "outputs": [
    {
     "data": {
      "text/plain": [
       "['techpro']"
      ]
     },
     "execution_count": 30,
     "metadata": {},
     "output_type": "execute_result"
    }
   ],
   "source": [
    "liste_3 = [\"techpro\"]\n",
    "liste_3"
   ]
  },
  {
   "cell_type": "code",
   "execution_count": 40,
   "metadata": {},
   "outputs": [
    {
     "name": "stdout",
     "output_type": "stream",
     "text": [
      "[2, 3.5, False, [1, 2, 3]]\n",
      "liste_4'ın eleman sayısı --> 4\n"
     ]
    }
   ],
   "source": [
    "liste_4 = [2, 3.5, False, [1, 2, 3]]\n",
    "print(liste_4)\n",
    "print(\"liste_4'ın eleman sayısı -->\", len(liste_4))"
   ]
  },
  {
   "cell_type": "code",
   "execution_count": 46,
   "metadata": {},
   "outputs": [
    {
     "name": "stdout",
     "output_type": "stream",
     "text": [
      "liste_5 -->  [['m', 'e', 'h', 'm', 'e', 't']]\n",
      "liste_5'in eleman sayısı --> 1\n"
     ]
    }
   ],
   "source": [
    "liste_5 = [list(\"mehmet\")]\n",
    "print(\"liste_5 --> \", liste_5)\n",
    "print(\"liste_5'in eleman sayısı -->\", len(liste_5))"
   ]
  },
  {
   "cell_type": "code",
   "execution_count": 55,
   "metadata": {},
   "outputs": [
    {
     "name": "stdout",
     "output_type": "stream",
     "text": [
      "1. boş list --> []\n",
      "1. boş list'in uzunluğu -->  0\n",
      "2. boş list --> []\n",
      "2. boş list'in uzunluğu --> 0\n",
      "boş listenin type'ı -->  <class 'list'>\n"
     ]
    }
   ],
   "source": [
    "# boş liste oluşturma:\n",
    "\n",
    "boş_liste_1 = []\n",
    "print(\"1. boş list -->\", boş_liste_1)\n",
    "print(\"1. boş list'in uzunluğu --> \", len(boş_liste_1))\n",
    "boş_liste_2 = list()\n",
    "print(\"2. boş list -->\", boş_liste_2)\n",
    "print(\"2. boş list'in uzunluğu -->\", len(boş_liste_2))\n",
    "print(\"boş listenin type'ı --> \", type(boş_liste_1))"
   ]
  },
  {
   "cell_type": "code",
   "execution_count": 60,
   "metadata": {},
   "outputs": [
    {
     "data": {
      "text/plain": [
       "1"
      ]
     },
     "execution_count": 60,
     "metadata": {},
     "output_type": "execute_result"
    }
   ],
   "source": [
    "liste_6 = [\"Fulya, Mehmet, Zeynep, Bilkay\"]\n",
    "len(liste_6)"
   ]
  },
  {
   "cell_type": "code",
   "execution_count": 62,
   "metadata": {},
   "outputs": [
    {
     "data": {
      "text/plain": [
       "7"
      ]
     },
     "execution_count": 62,
     "metadata": {},
     "output_type": "execute_result"
    }
   ],
   "source": [
    "liste_8 = [\"Mehmet\", 5, \"Aslan\", 5, \"Mehmet\", \"mehmet\", 5.0]            # Listeler içerisinde tekrarlı ifadeler barındırabilirler\n",
    "len(liste_8)"
   ]
  },
  {
   "cell_type": "code",
   "execution_count": 64,
   "metadata": {},
   "outputs": [
    {
     "ename": "TypeError",
     "evalue": "'int' object is not iterable",
     "output_type": "error",
     "traceback": [
      "\u001b[1;31m---------------------------------------------------------------------------\u001b[0m",
      "\u001b[1;31mTypeError\u001b[0m                                 Traceback (most recent call last)",
      "Cell \u001b[1;32mIn[64], line 1\u001b[0m\n\u001b[1;32m----> 1\u001b[0m liste_9 \u001b[38;5;241m=\u001b[39m \u001b[38;5;28;43mlist\u001b[39;49m\u001b[43m(\u001b[49m\u001b[38;5;241;43m1545\u001b[39;49m\u001b[43m)\u001b[49m\n\u001b[0;32m      2\u001b[0m \u001b[38;5;28mprint\u001b[39m(\u001b[38;5;124m\"\u001b[39m\u001b[38;5;124mlist_9 --> \u001b[39m\u001b[38;5;124m\"\u001b[39m ,liste_9)\n\u001b[0;32m      3\u001b[0m \u001b[38;5;28mprint\u001b[39m(\u001b[38;5;28mlen\u001b[39m(liste_9))\n",
      "\u001b[1;31mTypeError\u001b[0m: 'int' object is not iterable"
     ]
    }
   ],
   "source": [
    "liste_9 = list(1545)                                                    # integer bi ifade listeye dönüştürlemezler. Çünkü iterable değildirler\n",
    "print(\"list_9 --> \" ,liste_9)\n",
    "print(len(liste_9))"
   ]
  },
  {
   "cell_type": "code",
   "execution_count": 65,
   "metadata": {},
   "outputs": [
    {
     "ename": "TypeError",
     "evalue": "list expected at most 1 argument, got 2",
     "output_type": "error",
     "traceback": [
      "\u001b[1;31m---------------------------------------------------------------------------\u001b[0m",
      "\u001b[1;31mTypeError\u001b[0m                                 Traceback (most recent call last)",
      "Cell \u001b[1;32mIn[65], line 1\u001b[0m\n\u001b[1;32m----> 1\u001b[0m liste_10 \u001b[38;5;241m=\u001b[39m \u001b[38;5;28;43mlist\u001b[39;49m\u001b[43m(\u001b[49m\u001b[38;5;124;43m\"\u001b[39;49m\u001b[38;5;124;43mAli\u001b[39;49m\u001b[38;5;124;43m\"\u001b[39;49m\u001b[43m,\u001b[49m\u001b[43m \u001b[49m\u001b[38;5;124;43m\"\u001b[39;49m\u001b[38;5;124;43mAhmet\u001b[39;49m\u001b[38;5;124;43m\"\u001b[39;49m\u001b[43m)\u001b[49m\n",
      "\u001b[1;31mTypeError\u001b[0m: list expected at most 1 argument, got 2"
     ]
    }
   ],
   "source": [
    "liste_10 = list(\"Ali\", \"Ahmet\")                                         # list() fonksiyonu kullanırken içerisine en fazla 1 adet argument yazabiliriz, biz iki tane yazdık.\n",
    "liste_10"
   ]
  },
  {
   "cell_type": "code",
   "execution_count": 78,
   "metadata": {},
   "outputs": [
    {
     "name": "stdout",
     "output_type": "stream",
     "text": [
      "liste_10 -->  ['A', 'l', 'i', 'M', 'e', 'h', 'm', 'e', 't']\n",
      "liste_10'un eleman sayısı --> 9\n",
      "AliMehmet\n",
      "liste_10 -->  ['A', 'l', 'i', 'M', 'e', 'h', 'm', 'e', 't']\n",
      "liste_10'un eleman sayısı --> 9\n"
     ]
    }
   ],
   "source": [
    "liste_10 = list(\"Ali\" \"Mehmet\")                                     # aralarında virgül olmadan iki tane string yan yana olunca 1 tane string gibi davranırlar concate olurlar\n",
    "print(\"liste_10 --> \", liste_10)\n",
    "print(\"liste_10'un eleman sayısı -->\", len(liste_10))\n",
    "print(\"Ali\" \"Mehmet\")\n",
    "liste_10 = list(\"Ali\" + \"Mehmet\")                                   # aynı şekilde + ile de yapabiliyoruz\n",
    "print(\"liste_10 --> \", liste_10)\n",
    "print(\"liste_10'un eleman sayısı -->\", len(liste_10))"
   ]
  },
  {
   "cell_type": "code",
   "execution_count": 88,
   "metadata": {},
   "outputs": [
    {
     "name": "stdout",
     "output_type": "stream",
     "text": [
      "ortaya_karışık isimli liste --> [3, 4.4, 'Orkun', False, [1, 2, 3, 4, 5]]\n",
      "ortaya_karışık listesinin 0. indexi -->  3\n",
      "ortaya_karışık listesinin 1. indexi -->  4.4\n",
      "ortaya_karışık listesinin 2. indexi -->  Orkun\n",
      "\n",
      "💥 Yani, listeler de stringler gibi iterable olduğu için indexlerini kullanarak elemanlarına ulaşabiliyoruz basitçe\n"
     ]
    }
   ],
   "source": [
    "ortaya_karışık = [3, 4.4, \"Orkun\", False, [1, 2, 3, 4, 5]]\n",
    "print(\"ortaya_karışık isimli liste -->\", ortaya_karışık)\n",
    "print(\"ortaya_karışık listesinin 0. indexi --> \", ortaya_karışık[0])\n",
    "print(\"ortaya_karışık listesinin 1. indexi --> \", ortaya_karışık[1])\n",
    "print(\"ortaya_karışık listesinin 2. indexi --> \", ortaya_karışık[2])\n",
    "print(\"\\n💥 Yani, listeler de stringler gibi iterable olduğu için indexlerini kullanarak elemanlarına ulaşabiliyoruz basitçe\")"
   ]
  },
  {
   "cell_type": "code",
   "execution_count": 89,
   "metadata": {},
   "outputs": [
    {
     "data": {
      "text/plain": [
       "[4.4, 'Orkun', False]"
      ]
     },
     "execution_count": 89,
     "metadata": {},
     "output_type": "execute_result"
    }
   ],
   "source": [
    "ortaya_karışık[1:4]             # 1. index dahil 4. index dahil değil..."
   ]
  },
  {
   "cell_type": "code",
   "execution_count": 90,
   "metadata": {},
   "outputs": [
    {
     "data": {
      "text/plain": [
       "'ORKUN'"
      ]
     },
     "execution_count": 90,
     "metadata": {},
     "output_type": "execute_result"
    }
   ],
   "source": [
    "ortaya_karışık[2].upper()       # listenin bir elemanınin type'ı ne ise, o type'a uygun her metodu uygulayabiliriz."
   ]
  },
  {
   "cell_type": "code",
   "execution_count": 95,
   "metadata": {},
   "outputs": [
    {
     "name": "stdout",
     "output_type": "stream",
     "text": [
      "ortaya_karışık isimli listenin 4. elemanı da bir listedir -->  [1, 2, 3, 4, 5]\n",
      "Ve bu listenin eleman sayısı -->  5\n"
     ]
    }
   ],
   "source": [
    "print(\"ortaya_karışık isimli listenin 4. elemanı da bir listedir --> \", ortaya_karışık[4])\n",
    "print(\"Ve bu listenin eleman sayısı --> \", len(ortaya_karışık[4]))"
   ]
  },
  {
   "cell_type": "code",
   "execution_count": 97,
   "metadata": {},
   "outputs": [
    {
     "name": "stdout",
     "output_type": "stream",
     "text": [
      "ortaya_karışık listesinin 4. elemanındaki listenin 3. elemanı -->  4\n"
     ]
    }
   ],
   "source": [
    "print(\"ortaya_karışık listesinin 4. elemanındaki listenin 3. elemanı --> \", ortaya_karışık[4][3])"
   ]
  },
  {
   "cell_type": "code",
   "execution_count": 101,
   "metadata": {},
   "outputs": [
    {
     "name": "stdout",
     "output_type": "stream",
     "text": [
      "[3, 4.4, 'Orkun', False, [1, 2, 3, 4, 5]]\n",
      "4.4\n",
      "istenilen nokta ifadesi -->  .\n"
     ]
    }
   ],
   "source": [
    "# exercise: ortaya_karışık listesinin 1. elemanı 4.4'tür. Bu elemanın içerisinde bulunan noktayı çıktı olarak döndür:\n",
    "\n",
    "print(ortaya_karışık)\n",
    "print(ortaya_karışık[1])\n",
    "print(\"istenilen nokta ifadesi --> \", str(ortaya_karışık[1])[1])"
   ]
  },
  {
   "cell_type": "markdown",
   "metadata": {},
   "source": [
    ">> Ödev1: kullanıcıdan boy ve kilo öğrenip vki durumunu yazdırın. (zayıf, şişman, obez gibi durumları araştır)\n",
    "\n",
    ">> Ödev2:\n",
    "\n",
    ">> 1 - Kullanıcıdan bir sayı alın.\n",
    "\n",
    ">> 2 - Bu sayı 3 e bölünebiliyorsa \"Tech\",\n",
    "\n",
    ">> 3 - 5 e bölünebiliyorsa \"Pro\",\n",
    "\n",
    ">> 4 - Hem 5 e hem de 3 e bölünebiliyorsa \"Techpro\" yazdırın.\n",
    "\n",
    ">> 5 - sayı bu şartların hiç birini sağlamıyorsa sayının kendisini yazdıran python kodunu yazın.\n",
    "\n",
    ">> Cevaplar yarın 15:00(tr) e kadar slack kanallarında paylaşılmayacak. 15:00 dan sonra paylaşabilirsiniz."
   ]
  },
  {
   "cell_type": "code",
   "execution_count": 3,
   "metadata": {},
   "outputs": [
    {
     "name": "stdout",
     "output_type": "stream",
     "text": [
      "Kilo Değeriniz:  93.0  kg\n",
      "Boy Değeriniz:  1.66 m\n",
      "\n",
      "Yukarda elde edilen değerler sonucunda Vücut Kitle Endekseniz: \n",
      ">>  33.7  kg/m^2\n",
      "\n",
      "Rapor sonucunuz şu şekilde:\n",
      "\n",
      "📌 Obeziteyle karşı karşıyasınız. Acilen bir doktora gitmeniz gerekmektedir. 📌\n"
     ]
    }
   ],
   "source": [
    "# 1. Ödev\n",
    "# vki = ağırluk (kg)/ [boy (m) ** 2] = kg / m^2\n",
    "\n",
    "kilo = float(input(\"Kaç kilosunuz? \"))\n",
    "boy = (float(input(\"Kaç cm boyunuz var? \"))) / 100\n",
    "\n",
    "print(\"Kilo Değeriniz: \", kilo, \" kg\")\n",
    "print(\"Boy Değeriniz: \", boy, \"m\")\n",
    "print(\"\\nYukarda elde edilen değerler sonucunda Vücut Kitle Endekseniz: \")\n",
    "vke = kilo / boy ** 2\n",
    "print(\">> \", round(vke,1), \" kg/m^2\\n\")\n",
    "\n",
    "print(\"Rapor sonucunuz şu şekilde:\\n\")\n",
    "\n",
    "if vke < 18.5:\n",
    "    print(\"📌 Zayıfsınız, biraz kilo olmanız gerekiyor. 📌\")\n",
    "elif 18.5 <= vke < 25:\n",
    "    print(\"📌 Normal bir kiloya sahipsiniz. 📌\")\n",
    "elif 25 <= vke < 30:\n",
    "    print(\"📌 Fazla kilolusunuz, biraz kilo vermeniz gerekiyor. 📌\")\n",
    "elif 30 <= vke:\n",
    "    print(\"📌 Obeziteyle karşı karşıyasınız. Acilen bir doktora gitmeniz gerekmektedir. 📌\")"
   ]
  },
  {
   "cell_type": "code",
   "execution_count": 4,
   "metadata": {},
   "outputs": [
    {
     "name": "stdout",
     "output_type": "stream",
     "text": [
      "Pro\n"
     ]
    }
   ],
   "source": [
    "# 2. Ödev\n",
    "\n",
    "sayı = float(input(\"Bir sayı giriniz: \"))\n",
    "\n",
    "if (sayı % 3 == 0) and (sayı % 5 == 0):             # hem 3'e hem 5'e bölünebilme şartı\n",
    "    print(\"Techpro\")                            \n",
    "elif sayı % 3 == 0:                             # 3'e bölünebilme şartı\n",
    "    print(\"Tech\")\n",
    "elif sayı % 5 == 0:                             # 5'e bölünebilme şartı\n",
    "    print(\"Pro\")    \n",
    "else:                                           # hiçbir şartı sağlamazsa\n",
    "    print(sayı)\n"
   ]
  }
 ],
 "metadata": {
  "kernelspec": {
   "display_name": "Python 3",
   "language": "python",
   "name": "python3"
  },
  "language_info": {
   "codemirror_mode": {
    "name": "ipython",
    "version": 3
   },
   "file_extension": ".py",
   "mimetype": "text/x-python",
   "name": "python",
   "nbconvert_exporter": "python",
   "pygments_lexer": "ipython3",
   "version": "3.9.13"
  }
 },
 "nbformat": 4,
 "nbformat_minor": 2
}
