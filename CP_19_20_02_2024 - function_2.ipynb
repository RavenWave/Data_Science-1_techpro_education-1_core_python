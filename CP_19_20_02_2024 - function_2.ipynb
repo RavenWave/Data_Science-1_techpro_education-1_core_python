{
 "cells": [
  {
   "cell_type": "markdown",
   "metadata": {},
   "source": [
    "    print ile return arasındaki farkı açıklayacak hoca:"
   ]
  },
  {
   "cell_type": "code",
   "execution_count": 3,
   "metadata": {},
   "outputs": [
    {
     "name": "stdout",
     "output_type": "stream",
     "text": [
      "Hello world\n"
     ]
    }
   ],
   "source": [
    "print(\"Hello world\")"
   ]
  },
  {
   "cell_type": "code",
   "execution_count": 4,
   "metadata": {},
   "outputs": [
    {
     "name": "stdout",
     "output_type": "stream",
     "text": [
      "Hello world\n"
     ]
    }
   ],
   "source": [
    "a = print(\"Hello world\")"
   ]
  },
  {
   "cell_type": "code",
   "execution_count": 5,
   "metadata": {},
   "outputs": [
    {
     "ename": "NameError",
     "evalue": "name 'a' is not defined",
     "output_type": "error",
     "traceback": [
      "\u001b[1;31m---------------------------------------------------------------------------\u001b[0m",
      "\u001b[1;31mNameError\u001b[0m                                 Traceback (most recent call last)",
      "Cell \u001b[1;32mIn[5], line 1\u001b[0m\n\u001b[1;32m----> 1\u001b[0m \u001b[43ma\u001b[49m\n",
      "\u001b[1;31mNameError\u001b[0m: name 'a' is not defined"
     ]
    }
   ],
   "source": [
    "a"
   ]
  },
  {
   "cell_type": "markdown",
   "metadata": {},
   "source": [
    "    Yukarıda görüldüğü gibi a'ya print atadığımız halde a bize hiçbir şey döndürmez. Çünkü print fonksiyonu bir kere kullanılır sadece. Kullanılıp içi boşaltılan bir fonksiyondur. "
   ]
  },
  {
   "cell_type": "code",
   "execution_count": null,
   "metadata": {},
   "outputs": [
    {
     "name": "stdout",
     "output_type": "stream",
     "text": [
      "\n"
     ]
    },
    {
     "data": {
      "text/plain": [
       "NoneType"
      ]
     },
     "execution_count": 4,
     "metadata": {},
     "output_type": "execute_result"
    }
   ],
   "source": [
    "type(print())"
   ]
  },
  {
   "attachments": {
    "image.png": {
     "image/png": "[encoded data removed]"
    }
   },
   "cell_type": "markdown",
   "metadata": {},
   "source": [
    "![image.png](attachment:image.png)\n",
    "\n",
    "daha önceden o ayarda debug yazıyordu"
   ]
  },
  {
   "cell_type": "markdown",
   "metadata": {},
   "source": [
    "    Mesela yukarıda bile bir defa print yapıp o şekilde NoneType yazılmıştır."
   ]
  },
  {
   "cell_type": "code",
   "execution_count": 6,
   "metadata": {},
   "outputs": [],
   "source": [
    "def calculator1(num1, opr, num2):\n",
    "    if opr == \"+\":\n",
    "        print(num1 + num2)\n",
    "    elif opr == \"-\":\n",
    "        print(num1 - num2)\n",
    "    elif opr == \"x\":\n",
    "        print(num1 * num2)\n",
    "    elif opr == \"/\":\n",
    "        print(num1 / num2)\n",
    "    else:\n",
    "        print(\"Hatalı operatör girişi.\")"
   ]
  },
  {
   "cell_type": "code",
   "execution_count": 7,
   "metadata": {},
   "outputs": [],
   "source": [
    "def calculator2(num1, opr, num2):\n",
    "    if opr == \"+\":\n",
    "        return num1 + num2\n",
    "    elif opr == \"-\":\n",
    "        return num1 - num2\n",
    "    elif opr == \"x\":\n",
    "        return num1 * num2\n",
    "    elif opr == \"/\":\n",
    "        return num1 / num2\n",
    "    else:\n",
    "        return(\"Hatalı operatör girişi.\")"
   ]
  },
  {
   "cell_type": "code",
   "execution_count": 8,
   "metadata": {},
   "outputs": [
    {
     "name": "stdout",
     "output_type": "stream",
     "text": [
      "13\n"
     ]
    }
   ],
   "source": [
    "calculator1(5, '+', 8)"
   ]
  },
  {
   "cell_type": "code",
   "execution_count": 9,
   "metadata": {},
   "outputs": [
    {
     "name": "stdout",
     "output_type": "stream",
     "text": [
      "13\n"
     ]
    }
   ],
   "source": [
    "b = calculator1(5, '+', 8)"
   ]
  },
  {
   "cell_type": "code",
   "execution_count": 10,
   "metadata": {},
   "outputs": [],
   "source": [
    "b       # b'yi bir kere çalıştırdık ve artık boş hale geldi. çünkü print kullanılmıştı"
   ]
  },
  {
   "cell_type": "code",
   "execution_count": 11,
   "metadata": {},
   "outputs": [
    {
     "data": {
      "text/plain": [
       "13"
      ]
     },
     "execution_count": 11,
     "metadata": {},
     "output_type": "execute_result"
    }
   ],
   "source": [
    "calculator2(5, '+', 8)"
   ]
  },
  {
   "cell_type": "code",
   "execution_count": 12,
   "metadata": {},
   "outputs": [],
   "source": [
    "c = calculator2(5, '+', 8)        # bu noktada normalde print ile yapsaydık direkt çıktı alırdık."
   ]
  },
  {
   "cell_type": "code",
   "execution_count": 14,
   "metadata": {},
   "outputs": [
    {
     "data": {
      "text/plain": [
       "13"
      ]
     },
     "execution_count": 14,
     "metadata": {},
     "output_type": "execute_result"
    }
   ],
   "source": [
    "c       # printten farkı tam olarak bu işte. return olarak yazdığımız için burada c yazınca bir çıktı alabildik"
   ]
  },
  {
   "cell_type": "markdown",
   "metadata": {},
   "source": [
    "**ÖZETLE:** print fonksiyonu kullanarak elde ettiğimiz bir sonucu başka bir yerde kullanamayız. Ancak return ile elde ettiğimiz sonucu bir değişkene atayarak sonradan kullanabiliyoruz\n",
    "\n",
    "    yani fonksiyonumuz bir işlemin sonucunu sadece göstersin istiyorsak print kullanabiliriz ancak işlemin sonucunu başka bir yerde kullanmak istiyorsak return kullanmalıyız"
   ]
  },
  {
   "cell_type": "code",
   "execution_count": 16,
   "metadata": {},
   "outputs": [],
   "source": [
    "def my_len1(x):\n",
    "    \"\"\"len fonksiyonunu beğenmediğim için kendi fonksiyonumu yazıyorum. Bu fonksiyon bir iterable ın uzunluğunu verir\"\"\"\n",
    "    sayaç = 0\n",
    "    for i in x:\n",
    "        sayaç += 1\n",
    "    print(sayaç)\n"
   ]
  },
  {
   "cell_type": "code",
   "execution_count": 15,
   "metadata": {},
   "outputs": [],
   "source": [
    "def my_len2(x):\n",
    "    \"\"\"len fonksiyonunu beğenmediğim için kendi fonksiyonumu yazıyorum. Bu fonksiyon bir iterable ın uzunluğunu verir\"\"\"\n",
    "    sayaç = 0\n",
    "    for i in x:\n",
    "        sayaç += 1\n",
    "    return sayaç\n"
   ]
  },
  {
   "cell_type": "code",
   "execution_count": 17,
   "metadata": {},
   "outputs": [],
   "source": [
    "liste_1 = [1, 2, 3, 4, 5]"
   ]
  },
  {
   "cell_type": "code",
   "execution_count": 19,
   "metadata": {},
   "outputs": [
    {
     "name": "stdout",
     "output_type": "stream",
     "text": [
      "5\n"
     ]
    }
   ],
   "source": [
    "my_len1(liste_1)        # eleman sayısının 5 olduğunu gördük, ancak bu sonuç print'ten geldiği için başka bir yerde kullanamayız"
   ]
  },
  {
   "cell_type": "code",
   "execution_count": 21,
   "metadata": {},
   "outputs": [
    {
     "name": "stdout",
     "output_type": "stream",
     "text": [
      "5\n"
     ]
    }
   ],
   "source": [
    "d = my_len1(liste_1)"
   ]
  },
  {
   "cell_type": "code",
   "execution_count": 23,
   "metadata": {},
   "outputs": [
    {
     "ename": "TypeError",
     "evalue": "'NoneType' object cannot be interpreted as an integer",
     "output_type": "error",
     "traceback": [
      "\u001b[1;31m---------------------------------------------------------------------------\u001b[0m",
      "\u001b[1;31mTypeError\u001b[0m                                 Traceback (most recent call last)",
      "Cell \u001b[1;32mIn[23], line 1\u001b[0m\n\u001b[1;32m----> 1\u001b[0m \u001b[38;5;28mlist\u001b[39m(\u001b[38;5;28;43mrange\u001b[39;49m\u001b[43m(\u001b[49m\u001b[38;5;241;43m0\u001b[39;49m\u001b[43m,\u001b[49m\u001b[43m \u001b[49m\u001b[43md\u001b[49m\u001b[43m)\u001b[49m)       \u001b[38;5;66;03m# hatanın sebebi my_len1 fonksiyonu içerisinde print kullanmış olmamızdır. print olduğu için NoneType olarak algılar\u001b[39;00m\n",
      "\u001b[1;31mTypeError\u001b[0m: 'NoneType' object cannot be interpreted as an integer"
     ]
    }
   ],
   "source": [
    "list(range(0, d))       # hatanın sebebi my_len1 fonksiyonu içerisinde print kullanmış olmamızdır. print olduğu için NoneType olarak algılar"
   ]
  },
  {
   "cell_type": "code",
   "execution_count": 25,
   "metadata": {},
   "outputs": [
    {
     "data": {
      "text/plain": [
       "5"
      ]
     },
     "execution_count": 25,
     "metadata": {},
     "output_type": "execute_result"
    }
   ],
   "source": [
    "e = my_len2(liste_1)\n",
    "e"
   ]
  },
  {
   "cell_type": "code",
   "execution_count": 27,
   "metadata": {},
   "outputs": [
    {
     "data": {
      "text/plain": [
       "[0, 1, 2, 3, 4]"
      ]
     },
     "execution_count": 27,
     "metadata": {},
     "output_type": "execute_result"
    }
   ],
   "source": [
    "list(range(0, e))       # my_len2 fonksiyonunda print yerine return kullandığımız için elde edilen sayıyı başka bir yerde kullanabiliyoruz"
   ]
  },
  {
   "cell_type": "markdown",
   "metadata": {},
   "source": [
    "    iki küçük kenarını bildiğimiz bir dik üçgenin büyük kenarını hesaplayan bir fonksiyon üretelim. (yani hipotenüs'ü hesaplar) bu fonksiyondan elde ettiğimiz bilgi ile üçgenin çevresini hesaplayalım"
   ]
  },
  {
   "cell_type": "code",
   "execution_count": 32,
   "metadata": {},
   "outputs": [
    {
     "data": {
      "text/plain": [
       "12.0"
      ]
     },
     "execution_count": 32,
     "metadata": {},
     "output_type": "execute_result"
    }
   ],
   "source": [
    "def hypo(x, y):\n",
    "    z = (x ** 2 + y ** 2) ** 0.5\n",
    "    return z        # eğer return yerine print kullansaydık aşağıdaki işlemleri yapamazdık\n",
    "\n",
    "çevre = 3 + 4 + hypo(3, 4)\n",
    "çevre"
   ]
  },
  {
   "cell_type": "markdown",
   "metadata": {},
   "source": [
    "    bir fonksiyonun içerisine bir liste verelim ve listenin içerisindeki elemanlarını tek veya çift olarak ayırsın"
   ]
  },
  {
   "cell_type": "code",
   "execution_count": 33,
   "metadata": {},
   "outputs": [
    {
     "name": "stdout",
     "output_type": "stream",
     "text": [
      "[1, 67, 3, 1, 11, 17, 4121]\n",
      "[2, 4, 32, 4, 412]\n"
     ]
    }
   ],
   "source": [
    "sayılar_listesi = [1, 2, 4, 67, 32, 4, 3, 1, 11, 17, 412, 4121]\n",
    "\n",
    "odds = [] # tek sayılar\n",
    "evens = [] # çift sayılar\n",
    "\n",
    "for i in sayılar_listesi:\n",
    "\n",
    "    if i % 2 == 0:\n",
    "        evens.append(i)\n",
    "    else:\n",
    "        odds.append(i)\n",
    "\n",
    "print(odds)\n",
    "print(evens)"
   ]
  },
  {
   "cell_type": "code",
   "execution_count": 41,
   "metadata": {},
   "outputs": [],
   "source": [
    "def tek_çift_ayırıcı(liste, istek):\n",
    "    \"\"\"Bu fonksiyon bir listenin elemanlarını sizin isteğinize göre tekler veya çiftler olarak ayırır.\"\"\"\n",
    "    odds = [] # tek sayılar\n",
    "    evens = [] # çift sayılar\n",
    "\n",
    "    for i in liste:\n",
    "\n",
    "        if i % 2 == 0:\n",
    "            evens.append(i)\n",
    "        else:\n",
    "            odds.append(i)    \n",
    "\n",
    "    if istek == 'tek':\n",
    "        return odds\n",
    "    elif istek == 'çift':\n",
    "        return evens\n",
    "    else:\n",
    "        print('hatalı istek')"
   ]
  },
  {
   "cell_type": "code",
   "execution_count": 37,
   "metadata": {},
   "outputs": [
    {
     "data": {
      "text/plain": [
       "[1, 67, 3, 1, 11, 17, 4121]"
      ]
     },
     "execution_count": 37,
     "metadata": {},
     "output_type": "execute_result"
    }
   ],
   "source": [
    "tek_çift_ayırıcı(sayılar_listesi, 'tek')"
   ]
  },
  {
   "cell_type": "code",
   "execution_count": 39,
   "metadata": {},
   "outputs": [
    {
     "data": {
      "text/plain": [
       "[12, 32]"
      ]
     },
     "execution_count": 39,
     "metadata": {},
     "output_type": "execute_result"
    }
   ],
   "source": [
    "tek_çift_ayırıcı([12, 25, 32, 31, 25, 267], 'çift')"
   ]
  },
  {
   "cell_type": "code",
   "execution_count": 40,
   "metadata": {},
   "outputs": [
    {
     "name": "stdout",
     "output_type": "stream",
     "text": [
      "hatalı istek\n"
     ]
    }
   ],
   "source": [
    "tek_çift_ayırıcı(sayılar_listesi, 'farketmez')"
   ]
  },
  {
   "cell_type": "markdown",
   "metadata": {},
   "source": [
    "    herkese isminin ünlü harflerini 1000 dolar ile çarpalım ve hediye edelim:"
   ]
  },
  {
   "cell_type": "code",
   "execution_count": 42,
   "metadata": {},
   "outputs": [],
   "source": [
    "def adın_kadar_kazan(isim):\n",
    "    \"\"\"Bu fonksiyon ismin içindeki sesli harfleri bulur\"\"\"\n",
    "    counter = 0\n",
    "    for i in isim.lower():\n",
    "        if i in \"aeıioöuü\":\n",
    "            counter += 1\n",
    "    print(counter)"
   ]
  },
  {
   "cell_type": "code",
   "execution_count": 44,
   "metadata": {},
   "outputs": [
    {
     "name": "stdout",
     "output_type": "stream",
     "text": [
      "2\n"
     ]
    },
    {
     "ename": "TypeError",
     "evalue": "unsupported operand type(s) for *: 'NoneType' and 'int'",
     "output_type": "error",
     "traceback": [
      "\u001b[1;31m---------------------------------------------------------------------------\u001b[0m",
      "\u001b[1;31mTypeError\u001b[0m                                 Traceback (most recent call last)",
      "Cell \u001b[1;32mIn[44], line 1\u001b[0m\n\u001b[1;32m----> 1\u001b[0m \u001b[43madın_kadar_kazan\u001b[49m\u001b[43m(\u001b[49m\u001b[38;5;124;43m'\u001b[39;49m\u001b[38;5;124;43mserhan\u001b[39;49m\u001b[38;5;124;43m'\u001b[39;49m\u001b[43m)\u001b[49m\u001b[43m \u001b[49m\u001b[38;5;241;43m*\u001b[39;49m\u001b[43m \u001b[49m\u001b[38;5;241;43m1000\u001b[39;49m\n",
      "\u001b[1;31mTypeError\u001b[0m: unsupported operand type(s) for *: 'NoneType' and 'int'"
     ]
    }
   ],
   "source": [
    "adın_kadar_kazan('serhan') * 1000       # fonksiyon return yerine print ile oluşturulduğu için hata alırız"
   ]
  },
  {
   "cell_type": "code",
   "execution_count": 46,
   "metadata": {},
   "outputs": [],
   "source": [
    "def adın_kadar_kazan2(isim):\n",
    "    \"\"\"Bu fonksiyon ismin içindeki sesli harfleri bulur\"\"\"\n",
    "    counter = 0\n",
    "    for i in isim.lower():\n",
    "        if i in \"aeıioöuü\":\n",
    "            counter += 1\n",
    "    return counter"
   ]
  },
  {
   "cell_type": "code",
   "execution_count": 48,
   "metadata": {},
   "outputs": [
    {
     "data": {
      "text/plain": [
       "2000"
      ]
     },
     "execution_count": 48,
     "metadata": {},
     "output_type": "execute_result"
    }
   ],
   "source": [
    "adın_kadar_kazan2('irem') * 1000      # return ile yaptığımız için oldu"
   ]
  },
  {
   "cell_type": "code",
   "execution_count": 102,
   "metadata": {},
   "outputs": [
    {
     "name": "stdout",
     "output_type": "stream",
     "text": [
      "Bu sayı bir Armstrong Sayı DEĞİLDİR.\n"
     ]
    }
   ],
   "source": [
    "def armstrong():\n",
    "\n",
    "    \"\"\"Bu fonksiyon, bir sayının Armstrong sayı olup olmadığını kontrol eder.\"\"\" \n",
    "\n",
    "    sayı = input('bir sayı girin')  # len fonksiyonunu kullanacağımız için integer'a çevirmedik henüz\n",
    "    y = len(sayı)  \n",
    "    z = 0\n",
    "    for i in range(y):  \n",
    "        z += int(sayı[i]) ** y\n",
    "    if z == int(sayı):\n",
    "        print(\"Bu sayı bir Armstrong Sayıdır.\")\n",
    "    else:\n",
    "        print(\"Bu sayı bir Armstrong Sayı DEĞİLDİR.\")\n",
    "\n",
    "armstrong()"
   ]
  },
  {
   "cell_type": "code",
   "execution_count": null,
   "metadata": {},
   "outputs": [],
   "source": []
  },
  {
   "cell_type": "code",
   "execution_count": 103,
   "metadata": {},
   "outputs": [
    {
     "name": "stdout",
     "output_type": "stream",
     "text": [
      "Değildir.\n"
     ]
    }
   ],
   "source": [
    "def armstrong():\n",
    "\n",
    "    \"\"\"Bu fonksiyon, bir sayının Armstrong sayı olup olmadığını kontrol eder.\"\"\" \n",
    "\n",
    "    sayı = input('bir sayı girin')  # len fonksiyonunu kullanacağımız için integer'a çevirmedik henüz\n",
    "    y = len(sayı)  \n",
    "    if int(sayı) == sum([int(i) ** y for i in sayı]):\n",
    "        print(\"Bu sayı bir Armstrong sayıdır.\")\n",
    "    else: \n",
    "        print(\"Değildir.\")\n",
    "\n",
    "armstrong()"
   ]
  },
  {
   "cell_type": "code",
   "execution_count": 104,
   "metadata": {},
   "outputs": [],
   "source": [
    "def armstrong(x):\n",
    "    x = str(x)\n",
    "    uzunluk = len(x)\n",
    "    if int(x) == sum([int(i) ** uzunluk for i in x]):\n",
    "        return int(x)\n",
    "    else:\n",
    "        return f\"{x} armstrong değildir\""
   ]
  },
  {
   "cell_type": "code",
   "execution_count": 1,
   "metadata": {},
   "outputs": [],
   "source": [
    "def armstrong(x):\n",
    "    x = str(x)\n",
    "    uzunluk = len(x)\n",
    "    if int(x) == sum([int(i) ** uzunluk for i in x]):\n",
    "        return int(x)"
   ]
  },
  {
   "cell_type": "code",
   "execution_count": 2,
   "metadata": {},
   "outputs": [
    {
     "data": {
      "text/plain": [
       "5"
      ]
     },
     "execution_count": 2,
     "metadata": {},
     "output_type": "execute_result"
    }
   ],
   "source": [
    "armstrong(5)"
   ]
  },
  {
   "cell_type": "code",
   "execution_count": 3,
   "metadata": {},
   "outputs": [
    {
     "name": "stdout",
     "output_type": "stream",
     "text": [
      "CPU times: total: 1.61 s\n",
      "Wall time: 1.64 s\n"
     ]
    },
    {
     "data": {
      "text/plain": [
       "[1,\n",
       " 2,\n",
       " 3,\n",
       " 4,\n",
       " 5,\n",
       " 6,\n",
       " 7,\n",
       " 8,\n",
       " 9,\n",
       " 153,\n",
       " 370,\n",
       " 371,\n",
       " 407,\n",
       " 1634,\n",
       " 8208,\n",
       " 9474,\n",
       " 54748,\n",
       " 92727,\n",
       " 93084,\n",
       " 548834]"
      ]
     },
     "execution_count": 3,
     "metadata": {},
     "output_type": "execute_result"
    }
   ],
   "source": [
    "%%time\n",
    "result = []\n",
    "for i in range(1, 1000001):\n",
    "    if armstrong(i) != None:\n",
    "        result.append(i)\n",
    "result"
   ]
  },
  {
   "cell_type": "code",
   "execution_count": 4,
   "metadata": {},
   "outputs": [],
   "source": [
    "%%time\n",
    "[i for i in range(1, 100000001) if armstrong(i) !=None]"
   ]
  }
 ],
 "metadata": {
  "kernelspec": {
   "display_name": "Python 3",
   "language": "python",
   "name": "python3"
  },
  "language_info": {
   "codemirror_mode": {
    "name": "ipython",
    "version": 3
   },
   "file_extension": ".py",
   "mimetype": "text/x-python",
   "name": "python",
   "nbconvert_exporter": "python",
   "pygments_lexer": "ipython3",
   "version": "3.9.13"
  }
 },
 "nbformat": 4,
 "nbformat_minor": 2
}
