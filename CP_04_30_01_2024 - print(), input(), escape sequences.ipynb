{
 "cells": [
  {
   "cell_type": "markdown",
   "metadata": {},
   "source": [
    "# **SESSION_4: print() & input() & ESCAPE SEQUENCES**"
   ]
  },
  {
   "cell_type": "code",
   "execution_count": 2,
   "metadata": {},
   "outputs": [
    {
     "name": "stdout",
     "output_type": "stream",
     "text": [
      "Emre😊Cakir\n"
     ]
    }
   ],
   "source": [
    "print(\"Emre\", \"Cakir\", sep = \"😊\")"
   ]
  },
  {
   "cell_type": "code",
   "execution_count": 10,
   "metadata": {},
   "outputs": [
    {
     "name": "stdout",
     "output_type": "stream",
     "text": [
      "Help on built-in function print in module builtins:\n",
      "\n",
      "print(...)\n",
      "    print(value, ..., sep=' ', end='\\n', file=sys.stdout, flush=False)\n",
      "    \n",
      "    Prints the values to a stream, or to sys.stdout by default.\n",
      "    Optional keyword arguments:\n",
      "    file:  a file-like object (stream); defaults to the current sys.stdout.\n",
      "    sep:   string inserted between values, default a space.\n",
      "    end:   string appended after the last value, default a newline.\n",
      "    flush: whether to forcibly flush the stream.\n",
      "\n"
     ]
    }
   ],
   "source": [
    "help(print)"
   ]
  },
  {
   "cell_type": "code",
   "execution_count": 11,
   "metadata": {},
   "outputs": [
    {
     "name": "stdout",
     "output_type": "stream",
     "text": [
      "23 24\n"
     ]
    }
   ],
   "source": [
    "print(\"23\", 24)"
   ]
  },
  {
   "cell_type": "code",
   "execution_count": 12,
   "metadata": {},
   "outputs": [],
   "source": [
    "age = input(\"Lütfen yaşinizi girin: \")"
   ]
  },
  {
   "cell_type": "code",
   "execution_count": 13,
   "metadata": {},
   "outputs": [
    {
     "data": {
      "text/plain": [
       "1996"
      ]
     },
     "execution_count": 13,
     "metadata": {},
     "output_type": "execute_result"
    }
   ],
   "source": [
    "2024 - 28"
   ]
  },
  {
   "cell_type": "code",
   "execution_count": 14,
   "metadata": {},
   "outputs": [
    {
     "name": "stdout",
     "output_type": "stream",
     "text": [
      "Dogum yiliniz:  1997\n"
     ]
    }
   ],
   "source": [
    "yas = input(\"Lütfen Yasinizi Girin: \")\n",
    "yas = int(yas)\n",
    "dogum_yili = 2024 - yas\n",
    "print(\"Dogum yiliniz: \", dogum_yili)"
   ]
  },
  {
   "cell_type": "code",
   "execution_count": 17,
   "metadata": {},
   "outputs": [
    {
     "name": "stdout",
     "output_type": "stream",
     "text": [
      "Vücut kitle endexiniz:  26.023048986244955\n"
     ]
    }
   ],
   "source": [
    "kilo = float(input(\"Kilo: \"))\n",
    "boy = float(input(\"Boy: \"))\n",
    "vke = kilo / boy ** 2 \n",
    "print(\"Vücut kitle endexiniz: \", vke)"
   ]
  },
  {
   "cell_type": "markdown",
   "metadata": {},
   "source": [
    "# **Escape Sequences:**\n",
    "### Hatalardan kaçınmaya yarayan bazı yöntemlerdir.\n",
    "#### 1) Ters Slash : \" \\ \"\n",
    "##### Bir string içerisinde \" \\ \" operatörünü yazarsan, bunu yazdıktan hemen sonra gelen şeyin sadece string olarak algılanmasını sağlar. Eğer ters slash kullandıktan sonra çift tırnak gelirse onu sadece string olarak algılar başka bir fonksiyonu olamaz o çift tırnağın artık\n",
    "#### 2) Ters Slash + n : \" \\n \"\n",
    "##### Bilindiği gibi, enter tuşu görevi görür.\n",
    "#### 3) Ters Slash + t : \" \\t \"\n",
    "##### Bilindiği gibi, tab tuşu görevi görür.\n",
    "#### 4) Ters Slash + b : \" \\b \"\n",
    "##### Backspace tuşu görevi görür.\n",
    "#### 5) r : r\" ... \"\n",
    "##### Bir stringin önüne \"r\" harfini eklersek, o string içerisindeki tüm Escape Sequence operatörleri görmezden gelinir."
   ]
  },
  {
   "cell_type": "code",
   "execution_count": 7,
   "metadata": {},
   "outputs": [
    {
     "name": "stdout",
     "output_type": "stream",
     "text": [
      "I'm Python teacher\n",
      "I\"m Python teacher\n"
     ]
    }
   ],
   "source": [
    "# print('I'm python theacher.') soldaki problemi aşağıdaki gibi aşabiliriz:\n",
    "\n",
    "print('I\\'m Python teacher')\n",
    "\n",
    "print(\"I\\\"m Python teacher\")"
   ]
  },
  {
   "cell_type": "code",
   "execution_count": 21,
   "metadata": {},
   "outputs": [
    {
     "name": "stdout",
     "output_type": "stream",
     "text": [
      "Bu ders çok uzadi sanki. \n",
      "Bi an önce bitse mi acaba\n"
     ]
    }
   ],
   "source": [
    "# \" \\n \" --> bir tane enter tuşuna basmak demektir: (newline'ın n'si kullanılmıştır)\n",
    "\n",
    "print(\"Bu ders çok uzadi sanki. \\nBi an önce bitse mi acaba\")"
   ]
  },
  {
   "cell_type": "code",
   "execution_count": 22,
   "metadata": {},
   "outputs": [
    {
     "name": "stdout",
     "output_type": "stream",
     "text": [
      "Betül\n",
      "Ayse\n",
      "Aytac\n",
      "Betül\tAyse\tAytac\n"
     ]
    }
   ],
   "source": [
    "print(\"Betül\", \"Ayse\", \"Aytac\", sep = \"\\n\") \n",
    "print(\"Betül\", \"Ayse\", \"Aytac\", sep = \"\\t\") # \\t --> bir tane tab tuşuna basmak oluyor."
   ]
  },
  {
   "cell_type": "code",
   "execution_count": 29,
   "metadata": {},
   "outputs": [
    {
     "name": "stdout",
     "output_type": "stream",
     "text": [
      "Bu ders çok uzadi sanki.Bi an önce bitse mi acaba\n",
      "BetüAysAytac\n"
     ]
    }
   ],
   "source": [
    "print(\"Bu ders çok uzadi sanki. \\bBi an önce bitse mi acaba\") # \\b --> bir backspace tuşuna basmak oluyor.\n",
    "print(\"Betül\", \"Ayse\", \"Aytac\", sep = \"\\b\") "
   ]
  },
  {
   "cell_type": "code",
   "execution_count": 31,
   "metadata": {},
   "outputs": [
    {
     "name": "stdout",
     "output_type": "stream",
     "text": [
      "Bizde geri \n",
      "vites olmaz\n"
     ]
    }
   ],
   "source": [
    "print(\"Bizde geri \\nvites olmaz\")"
   ]
  },
  {
   "cell_type": "code",
   "execution_count": 33,
   "metadata": {},
   "outputs": [
    {
     "name": "stdout",
     "output_type": "stream",
     "text": [
      "Bizde geri \\nvites olmaz\n"
     ]
    }
   ],
   "source": [
    "print(r\"Bizde geri \\nvites olmaz\") # burada ki \"r\", string içerisinde bulunan tüm escape'leri yok sayar.\n"
   ]
  },
  {
   "cell_type": "markdown",
   "metadata": {},
   "source": [
    "# **ÖDEV: Kullanıcıdan celsius bilgsini alın ve fahrenheit a çevirin.**"
   ]
  },
  {
   "cell_type": "code",
   "execution_count": 2,
   "metadata": {},
   "outputs": [
    {
     "name": "stdout",
     "output_type": "stream",
     "text": [
      "Fahrenheit cinsinden havanin derecesi:  38.48\n"
     ]
    }
   ],
   "source": [
    "celsius = input(\"Hava celsius kaç derece: \")\n",
    "fahrenheit = float(celsius) * (9/5) + 32\n",
    "print(\"Fahrenheit cinsinden havanin derecesi: \", round(fahrenheit,2))"
   ]
  }
 ],
 "metadata": {
  "kernelspec": {
   "display_name": "Python 3",
   "language": "python",
   "name": "python3"
  },
  "language_info": {
   "codemirror_mode": {
    "name": "ipython",
    "version": 3
   },
   "file_extension": ".py",
   "mimetype": "text/x-python",
   "name": "python",
   "nbconvert_exporter": "python",
   "pygments_lexer": "ipython3",
   "version": "3.9.13"
  }
 },
 "nbformat": 4,
 "nbformat_minor": 2
}
