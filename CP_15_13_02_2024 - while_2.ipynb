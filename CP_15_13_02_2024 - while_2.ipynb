{
 "cells": [
  {
   "cell_type": "markdown",
   "metadata": {},
   "source": [
    "# **SESSION_15: WHILE**"
   ]
  },
  {
   "cell_type": "markdown",
   "metadata": {},
   "source": [
    "> **random modülü**\n",
    "\n",
    ">> Rastgele sayılar üretmek için kullanırız. \n",
    "\n",
    ">> random modülüne ait olan random() metodu 0-1 arasında rastgele sayı üretiri."
   ]
  },
  {
   "cell_type": "code",
   "execution_count": 2,
   "metadata": {},
   "outputs": [],
   "source": [
    "import random "
   ]
  },
  {
   "cell_type": "code",
   "execution_count": 5,
   "metadata": {},
   "outputs": [
    {
     "data": {
      "text/plain": [
       "0.6643963627330812"
      ]
     },
     "execution_count": 5,
     "metadata": {},
     "output_type": "execute_result"
    }
   ],
   "source": [
    "random.random()     # 0-1 arasında rastgele sayılar üretecektir (0 dahil ama 1 dahil değil). ve her çalıştırdığımızda sayı değişir."
   ]
  },
  {
   "cell_type": "code",
   "execution_count": 11,
   "metadata": {},
   "outputs": [
    {
     "data": {
      "text/plain": [
       "0.6820045605879779"
      ]
     },
     "execution_count": 11,
     "metadata": {},
     "output_type": "execute_result"
    }
   ],
   "source": [
    "# aşağıda seed'in içerisine bir sayı girersen çıktı değişir. Ama çıktılar sabittir, her run ettiğimizde yeniden sayı üretmez.\n",
    "\n",
    "random.seed(37) \n",
    "random.random() "
   ]
  },
  {
   "cell_type": "code",
   "execution_count": 13,
   "metadata": {},
   "outputs": [
    {
     "data": {
      "text/plain": [
       "0.9560342718892494"
      ]
     },
     "execution_count": 13,
     "metadata": {},
     "output_type": "execute_result"
    }
   ],
   "source": [
    "random.seed(2)          # istediğim kadar re-run yapayım yine de çıktı değişmez. Ayrıca bu seed değerleri her pc'de aynıdır. \n",
    "random.random()     "
   ]
  },
  {
   "cell_type": "code",
   "execution_count": 17,
   "metadata": {},
   "outputs": [
    {
     "data": {
      "text/plain": [
       "4"
      ]
     },
     "execution_count": 17,
     "metadata": {},
     "output_type": "execute_result"
    }
   ],
   "source": [
    "random.randint(2, 5)            # 2 ile 5 arasında rastgele tam sayı üretir. ve her çalıştırdığımızda sayı değişir."
   ]
  },
  {
   "cell_type": "code",
   "execution_count": 20,
   "metadata": {},
   "outputs": [
    {
     "data": {
      "text/plain": [
       "[20, 55, 81, 50, 92]"
      ]
     },
     "execution_count": 20,
     "metadata": {},
     "output_type": "execute_result"
    }
   ],
   "source": [
    "random.sample(range(100), 5)        # 100'e kadar olan sayılar arasında 5 tane rastgele tam sayı üretir. her çalıştırdığımızda değişir."
   ]
  },
  {
   "cell_type": "code",
   "execution_count": 35,
   "metadata": {},
   "outputs": [
    {
     "data": {
      "text/plain": [
       "[533, 609, 431, 920, 226, 147, 133]"
      ]
     },
     "execution_count": 35,
     "metadata": {},
     "output_type": "execute_result"
    }
   ],
   "source": [
    "# seed'i burası için de kullanabiliriz\n",
    "\n",
    "random.seed(1002)\n",
    "random.sample(range(1000), 7)        # 100'e kadar olan sayılar arasında 5 tane rastgele tam sayı üretir. her çalıştırdığımızda değişir."
   ]
  },
  {
   "cell_type": "code",
   "execution_count": 40,
   "metadata": {},
   "outputs": [
    {
     "name": "stdout",
     "output_type": "stream",
     "text": [
      "Girdiğiniz sayı: 51. \n",
      "Tahmini azalt. \n",
      "Girdiğiniz sayı: 62. \n",
      "Tahmini azalt. \n",
      "Girdiğiniz sayı: 25. \n",
      "Tahmini azalt. \n",
      "Girdiğiniz sayı: 11. \n",
      "Tahmini arttır. \n",
      "Girdiğiniz sayı: 13. \n",
      "Tahmini arttır. \n",
      "Deneme hakkınızı doldurdunuz.\n"
     ]
    }
   ],
   "source": [
    "# buradaki sayaç kullanımı hoşuma gitti.\n",
    "\n",
    "y = True\n",
    "aklımdaki_sayı = random.randint(1, 100)\n",
    "sayaç = 0\n",
    "\n",
    "while y:\n",
    "    tahmin = int(input(\"1 ile 100 arasında bir sayı tahmin edin.\"))\n",
    "    sayaç += 1\n",
    "    if aklımdaki_sayı < tahmin:\n",
    "        print(f\"Girdiğiniz sayı: {tahmin}. \\nTahmini azalt. \")\n",
    "    elif aklımdaki_sayı > tahmin:\n",
    "        print(f\"Girdiğiniz sayı: {tahmin}. \\nTahmini arttır. \")\n",
    "    else:\n",
    "        print(f\"Girdiğiniz sayı: {tahmin}. {sayaç} denemede bildiniz, tebrikler. \")\n",
    "        y = False\n",
    "    if sayaç == 5:\n",
    "        print(f\"Deneme hakkınızı doldurdunuz.\")\n",
    "        y = False"
   ]
  },
  {
   "cell_type": "markdown",
   "metadata": {},
   "source": [
    "## **break, continue**"
   ]
  },
  {
   "cell_type": "markdown",
   "metadata": {},
   "source": [
    "    break -- döngüyü bitirir"
   ]
  },
  {
   "cell_type": "code",
   "execution_count": 43,
   "metadata": {},
   "outputs": [
    {
     "name": "stdout",
     "output_type": "stream",
     "text": [
      "Girdiğiniz sayı: 12. \n",
      "Tahmini arttır. \n",
      "Girdiğiniz sayı: 50. \n",
      "Tahmini arttır. \n",
      "Girdiğiniz sayı: 70. \n",
      "Tahmini arttır. \n",
      "Girdiğiniz sayı: 74. \n",
      "Tahmini arttır. \n",
      "Girdiğiniz sayı: 76. \n",
      "Tahmini arttır. \n",
      "Girdiğiniz sayı: 82. \n",
      "Tahmini azalt. \n",
      "Girdiğiniz sayı: 79. \n",
      "Tahmini arttır. \n",
      "Girdiğiniz sayı: 80.  \n",
      "Doğru bildiniz, tebrikler. \n"
     ]
    }
   ],
   "source": [
    "aklımdaki_sayı = random.randint(1, 100)\n",
    "\n",
    "while True:\n",
    "    tahmin = int(input(\"1 ile 100 arasında bir sayı tahmin edin.\"))\n",
    "    if aklımdaki_sayı < tahmin:\n",
    "        print(f\"Girdiğiniz sayı: {tahmin}. \\nTahmini azalt. \")\n",
    "    elif aklımdaki_sayı > tahmin:\n",
    "        print(f\"Girdiğiniz sayı: {tahmin}. \\nTahmini arttır. \")\n",
    "    else:\n",
    "        print(f\"Girdiğiniz sayı: {tahmin}.  \\nDoğru bildiniz, tebrikler. \")\n",
    "        \n",
    "        break       # doğru sayıyı bildiğinde kodu otomatik dolduracaktır şarta vs gerek yok"
   ]
  },
  {
   "cell_type": "code",
   "execution_count": 48,
   "metadata": {},
   "outputs": [
    {
     "name": "stdout",
     "output_type": "stream",
     "text": [
      "Girdiğiniz sayı: 2. \n",
      "Tahmini arttır. \n",
      "Girdiğiniz sayı: 4. \n",
      "Tahmini arttır. \n",
      "Girdiğiniz sayı: 6. \n",
      "Tahmini arttır. \n",
      "Girdiğiniz sayı: 89. \n",
      "Tahmini azalt. \n",
      "Girdiğiniz sayı: 1. \n",
      "Tahmini arttır. \n",
      "5 hakkın bitti..aklımdaki sayı 7 idi\n"
     ]
    }
   ],
   "source": [
    "aklımdaki_sayı = random.randint(1, 100)\n",
    "sayaç = 0\n",
    "\n",
    "while True:\n",
    "    tahmin = int(input(\"1 ile 100 arasında bir sayı tahmin edin.\"))\n",
    "    sayaç += 1\n",
    "    if aklımdaki_sayı < tahmin:\n",
    "        print(f\"Girdiğiniz sayı: {tahmin}. \\nTahmini azalt. \")\n",
    "    elif aklımdaki_sayı > tahmin:\n",
    "        print(f\"Girdiğiniz sayı: {tahmin}. \\nTahmini arttır. \")\n",
    "    else:\n",
    "        print(f\"Girdiğiniz sayı: {tahmin}.  \\nDoğru bildiniz, tebrikler. \")\n",
    "        break      \n",
    "\n",
    "    if sayaç == 5:\n",
    "        print(f\"5 hakkın bitti..aklımdaki sayı {aklımdaki_sayı} idi\")\n",
    "        break\n",
    "\n",
    "# yukarıdaki kod ya tahmin bilindiğinde duracak, ya da tahmin sayısı 5'e ulaştığında kod durdurulacak."
   ]
  },
  {
   "cell_type": "code",
   "execution_count": 50,
   "metadata": {},
   "outputs": [
    {
     "name": "stdout",
     "output_type": "stream",
     "text": [
      "Girdiğiniz sayı: 12. \n",
      "Tahmini arttır. \n",
      "Girdiğiniz sayı: 25. \n",
      "Tahmini arttır. \n",
      "Girdiğiniz sayı: 66. \n",
      "Tahmini azalt. \n",
      "Girdiğiniz sayı: 126. \n",
      "Tahmini azalt. \n",
      "Girdiğiniz sayı: 1. \n",
      "Tahmini arttır. \n",
      "5 hakkın bitti..aklımdaki sayı 29 idi\n"
     ]
    }
   ],
   "source": [
    "import time\n",
    "\n",
    "aklımdaki_sayı = random.randint(1, 100)\n",
    "\n",
    "time.sleep(2)           # buradaki kod kodumuzda 2 saniyelik bekletme yani bir nevi dinlenme yaratır. Bu sayede kodlardaki takılmalardan kurtulmuş olabiliriz.\n",
    "\n",
    "sayaç = 0\n",
    "\n",
    "while True:\n",
    "    tahmin = int(input(\"1 ile 100 arasında bir sayı tahmin edin.\"))\n",
    "    sayaç += 1\n",
    "    time.sleep(2)  \n",
    "    if aklımdaki_sayı < tahmin:\n",
    "        print(f\"Girdiğiniz sayı: {tahmin}. \\nTahmini azalt. \")\n",
    "    elif aklımdaki_sayı > tahmin:\n",
    "        print(f\"Girdiğiniz sayı: {tahmin}. \\nTahmini arttır. \")\n",
    "    else:\n",
    "        print(f\"Girdiğiniz sayı: {tahmin}.  \\nDoğru bildiniz, tebrikler. \")\n",
    "        break      \n",
    "    \n",
    "    time.sleep(2)\n",
    "    if sayaç == 5:\n",
    "        print(f\"5 hakkın bitti..aklımdaki sayı {aklımdaki_sayı} idi\")\n",
    "        break\n",
    "\n",
    "# yukarıdaki kod ya tahmin bilindiğinde duracak, ya da tahmin sayısı 5'e ulaştığında kod durdurulacak."
   ]
  },
  {
   "cell_type": "code",
   "execution_count": 51,
   "metadata": {},
   "outputs": [
    {
     "name": "stdout",
     "output_type": "stream",
     "text": [
      "10\n"
     ]
    }
   ],
   "source": [
    "liste = [1, 2, 3, 4, \"Techpro\", 5, 6, 7]\n",
    "\n",
    "# integer ifadelerin toplamını yazdırın ancak string bir ifade denk gelirse döngü bitsin.\n",
    "\n",
    "x= 0\n",
    "toplam = 0\n",
    "\n",
    "while x < len(liste):\n",
    "    if type(liste[x]) == int:\n",
    "        toplam += liste[x]\n",
    "    elif type(liste[x]) == str: \n",
    "        break\n",
    "\n",
    "    x += 1\n",
    "\n",
    "print(toplam)"
   ]
  },
  {
   "cell_type": "markdown",
   "metadata": {},
   "source": [
    "    continue : devamındaki kodları görmezden gelir. genelde bir şeyi atlamak veya bir şeyi görmezden gelmek istiyorsan kullanırız bunu. ama bunu kullanırken dikkatli olmalıyız çünkü sonsuza gidebiliriz"
   ]
  },
  {
   "cell_type": "code",
   "execution_count": 52,
   "metadata": {},
   "outputs": [
    {
     "ename": "IndentationError",
     "evalue": "expected an indented block (1312822216.py, line 14)",
     "output_type": "error",
     "traceback": [
      "\u001b[1;36m  Cell \u001b[1;32mIn[52], line 14\u001b[1;36m\u001b[0m\n\u001b[1;33m    x += 1\u001b[0m\n\u001b[1;37m    ^\u001b[0m\n\u001b[1;31mIndentationError\u001b[0m\u001b[1;31m:\u001b[0m expected an indented block\n"
     ]
    }
   ],
   "source": [
    "liste = [1, 2, 3, 4, \"Techpro\", 5, 6, 7]\n",
    "\n",
    "# integer ifadelerin toplamını yazdırın ancak string bir ifade denk gelince o ifadeyi atayıp devam edecek şekilde \n",
    "\n",
    "x= 0\n",
    "toplam = 0\n",
    "\n",
    "while x < len(liste):\n",
    "    if type(liste[x]) == int:\n",
    "        toplam += liste[x]\n",
    "    elif type(liste[x]) == str: \n",
    "        # continue        # continue'yu gördüğü andan itibaren while dönügüsünün başına gider. Yani x += 1 ifadesine ulaşamaz hiçbir zaman. o yüzden de sonsuz bir dögü içerisine girmiş olur. o yüzden bir sonraki gücredeki gibi bir çözüme ihtiyacımız var:\n",
    "\n",
    "    x += 1\n",
    "\n",
    "print(toplam)"
   ]
  },
  {
   "cell_type": "code",
   "execution_count": 55,
   "metadata": {},
   "outputs": [
    {
     "name": "stdout",
     "output_type": "stream",
     "text": [
      "28\n"
     ]
    }
   ],
   "source": [
    "liste = [1, 2, 3, 4, \"Techpro\", 5, 6, 7]\n",
    "\n",
    "# integer ifadelerin toplamını yazdırın ancak string bir ifade denk gelince o ifadeyi atayıp devam edecek şekilde \n",
    "\n",
    "x= 0\n",
    "toplam = 0\n",
    "\n",
    "while x < len(liste):\n",
    "    if type(liste[x]) == int:\n",
    "        toplam += liste[x]\n",
    "    elif type(liste[x]) == str: \n",
    "        x += 1\n",
    "        continue        # bu şekilde yaparsak artışı sağlamış ve tek bir index'te takılı kalmamaış oluruz.\n",
    "    x += 1              # bunu yine de eklemeyi ihmal etme. Çünkü elif'e uğramadığı zamanlarda bu kısıma uğrayacak. Bu olmazsa yine bi sonsuz döngüye girilir.\n",
    "print(toplam)"
   ]
  },
  {
   "cell_type": "markdown",
   "metadata": {},
   "source": [
    "## **min(), max()**"
   ]
  },
  {
   "cell_type": "code",
   "execution_count": 56,
   "metadata": {},
   "outputs": [],
   "source": [
    "liste = [2, 4, 6, 3, 6, 12, 65, 1, 3]"
   ]
  },
  {
   "cell_type": "code",
   "execution_count": 58,
   "metadata": {},
   "outputs": [
    {
     "data": {
      "text/plain": [
       "1"
      ]
     },
     "execution_count": 58,
     "metadata": {},
     "output_type": "execute_result"
    }
   ],
   "source": [
    "min(liste)"
   ]
  },
  {
   "cell_type": "code",
   "execution_count": 59,
   "metadata": {},
   "outputs": [
    {
     "data": {
      "text/plain": [
       "65"
      ]
     },
     "execution_count": 59,
     "metadata": {},
     "output_type": "execute_result"
    }
   ],
   "source": [
    "max(liste)"
   ]
  },
  {
   "cell_type": "code",
   "execution_count": 61,
   "metadata": {},
   "outputs": [],
   "source": [
    "tuplee = (2, 4, 6, 3, 6, 12, 65, 1, 3)"
   ]
  },
  {
   "cell_type": "code",
   "execution_count": 62,
   "metadata": {},
   "outputs": [
    {
     "data": {
      "text/plain": [
       "1"
      ]
     },
     "execution_count": 62,
     "metadata": {},
     "output_type": "execute_result"
    }
   ],
   "source": [
    "min(tuplee)"
   ]
  },
  {
   "cell_type": "code",
   "execution_count": 63,
   "metadata": {},
   "outputs": [
    {
     "data": {
      "text/plain": [
       "65"
      ]
     },
     "execution_count": 63,
     "metadata": {},
     "output_type": "execute_result"
    }
   ],
   "source": [
    "max(tuplee)"
   ]
  },
  {
   "cell_type": "code",
   "execution_count": 65,
   "metadata": {},
   "outputs": [
    {
     "data": {
      "text/plain": [
       "'emre'"
      ]
     },
     "execution_count": 65,
     "metadata": {},
     "output_type": "execute_result"
    }
   ],
   "source": [
    "min([\"techpro\", \"emre\", \"irem\"])       # ASCII değerlerine göre çıktı alırız. Bu arada içerisine bir int veya float girerse hata verir"
   ]
  },
  {
   "cell_type": "markdown",
   "metadata": {},
   "source": [
    "    ÖDEV: Aşağıdaki liste_1 listesindeki en büyük ve en küçük sayıları min ve max fonksiyonlarını kullanmadan bulunuz."
   ]
  },
  {
   "cell_type": "code",
   "execution_count": 73,
   "metadata": {},
   "outputs": [
    {
     "name": "stdout",
     "output_type": "stream",
     "text": [
      "Minimum sayı: 4\n",
      "Maximum sayı: 91\n"
     ]
    }
   ],
   "source": [
    "liste_1 = [4, 5, 6, 85, 9, 23, 65, 47, 32, 91]  \n",
    "min_sayı = 4\n",
    "max_sayı = 4\n",
    "i = 0\n",
    "\n",
    "while i < len(liste_1):\n",
    "    if liste_1[i] > max_sayı:\n",
    "        max_sayı = liste_1[i]\n",
    "    elif liste_1[i] < min_sayı:\n",
    "        min_sayı = liste_1[i]      \n",
    "    i += 1\n",
    "print(f\"Minimum sayı: {min_sayı}\")\n",
    "print(f\"Maximum sayı: {max_sayı}\")"
   ]
  }
 ],
 "metadata": {
  "kernelspec": {
   "display_name": "Python 3",
   "language": "python",
   "name": "python3"
  },
  "language_info": {
   "codemirror_mode": {
    "name": "ipython",
    "version": 3
   },
   "file_extension": ".py",
   "mimetype": "text/x-python",
   "name": "python",
   "nbconvert_exporter": "python",
   "pygments_lexer": "ipython3",
   "version": "3.9.13"
  }
 },
 "nbformat": 4,
 "nbformat_minor": 2
}
